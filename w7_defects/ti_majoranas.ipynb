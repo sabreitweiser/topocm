{
 "cells": [
  {
   "cell_type": "code",
   "execution_count": 1,
   "metadata": {
    "collapsed": false
   },
   "outputs": [
    {
     "name": "stdout",
     "output_type": "stream",
     "text": [
      "Populated the namespace with:\n",
      "np, matplotlib, kwant, holoviews, init_notebook, interact, display_html, plt, pf, SimpleNamespace, pprint_matrix, scientific_number, pretty_fmt_complex\n",
      "from code/edx_components:\n",
      "MoocVideo, PreprintReference, MoocDiscussion, MoocCheckboxesAssessment, MoocMultipleChoiceAssessment, MoocPeerAssessment, MoocSelfAssessment\n",
      "from code/functions:\n",
      "spectrum, hamiltonian_array, h_k, pauli\n"
     ]
    },
    {
     "data": {
      "text/html": [
       "\n",
       "<script src=\"https://code.jquery.com/ui/1.10.4/jquery-ui.min.js\" type=\"text/javascript\"></script>\n",
       "<script type=\"text/javascript\">function HoloViewsWidget(){\n",
       "}\n",
       "\n",
       "HoloViewsWidget.prototype.init_slider = function(init_val){\n",
       "\tif(this.load_json) {\n",
       "\t\tthis.from_json()\n",
       "\t} else {\n",
       "\t\tthis.update_cache();\n",
       "\t}\n",
       "}\n",
       "\n",
       "HoloViewsWidget.prototype.populate_cache = function(idx){\n",
       "    this.cache[idx].html(this.frames[idx]);\n",
       "    if (this.embed) {\n",
       "        delete this.frames[idx];\n",
       "    }\n",
       "}\n",
       "\n",
       "HoloViewsWidget.prototype.process_error = function(msg){\n",
       "\n",
       "}\n",
       "\n",
       "HoloViewsWidget.prototype.from_json = function() {\n",
       "\tvar data_url = this.json_path + this.id + '.json';\n",
       "\t$.getJSON(data_url, $.proxy(function(json_data) {\n",
       "\t\tthis.frames = json_data;\n",
       "\t\tthis.update_cache();\n",
       "\t\tthis.update(0);\n",
       "\t}, this));\n",
       "}\n",
       "\n",
       "HoloViewsWidget.prototype.dynamic_update = function(current){\n",
       "    function callback(msg){\n",
       "        /* This callback receives data from Python as a string\n",
       "         in order to parse it correctly quotes are sliced off*/\n",
       "        var data = msg.content.data['text/plain'].slice(1, -1);\n",
       "        this.frames[current] = data;\n",
       "        this.update_cache();\n",
       "        this.update(current);\n",
       "    }\n",
       "    if(!(current in this.cache)) {\n",
       "        var kernel = IPython.notebook.kernel;\n",
       "        callbacks = {iopub: {output: $.proxy(callback, this)}};\n",
       "        var cmd = \"holoviews.plotting.widgets.NdWidget.widgets['\" + this.id + \"'].update(\" + current + \")\";\n",
       "        kernel.execute(\"import holoviews;\" + cmd, callbacks, {silent : false});\n",
       "    } else {\n",
       "        this.update(current);\n",
       "    }\n",
       "}\n",
       "\n",
       "HoloViewsWidget.prototype.update_cache = function(){\n",
       "    var frame_len = Object.keys(this.frames).length;\n",
       "    for (var i=0; i<frame_len; i++) {\n",
       "        if(!this.load_json || this.dynamic)  {\n",
       "            frame = Object.keys(this.frames)[i];\n",
       "        } else {\n",
       "            frame = i;\n",
       "        }\n",
       "        if(!(frame in this.cache)) {\n",
       "            this.cache[frame] = $('<div />').appendTo(\"#\" + this.img_id).hide();\n",
       "            var cache_id = this.img_id+\"_\"+frame;\n",
       "            this.cache[frame].attr(\"id\", cache_id);\n",
       "            this.populate_cache(frame);\n",
       "        }\n",
       "    }\n",
       "}\n",
       "\n",
       "HoloViewsWidget.prototype.update = function(current){\n",
       "    if(current in this.cache) {\n",
       "        $.each(this.cache, function(index, value) {\n",
       "            value.hide();\n",
       "        });\n",
       "        this.cache[current].show();\n",
       "    }\n",
       "}\n",
       "\n",
       "\n",
       "function SelectionWidget(frames, id, slider_ids, keyMap, dim_vals, notFound, load_json, mode, cached, json_path, dynamic){\n",
       "    this.frames = frames;\n",
       "    this.fig_id = \"fig_\" + id;\n",
       "    this.img_id = \"_anim_img\" + id;\n",
       "    this.id = id;\n",
       "    this.slider_ids = slider_ids;\n",
       "    this.keyMap = keyMap\n",
       "    this.current_frame = 0;\n",
       "    this.current_vals = dim_vals;\n",
       "    this.load_json = load_json;\n",
       "    this.mode = mode;\n",
       "    this.notFound = notFound;\n",
       "    this.cached = cached;\n",
       "    this.dynamic = dynamic;\n",
       "    this.cache = {};\n",
       "\tthis.json_path = json_path;\n",
       "    this.init_slider(this.current_vals[0]);\n",
       "}\n",
       "\n",
       "SelectionWidget.prototype = new HoloViewsWidget;\n",
       "\n",
       "SelectionWidget.prototype.set_frame = function(dim_val, dim_idx){\n",
       "    this.current_vals[dim_idx] = dim_val;\n",
       "    if(this.dynamic) {\n",
       "        this.dynamic_update(this.current_vals)\n",
       "        return;\n",
       "    }\n",
       "    var key = \"(\";\n",
       "    for (var i=0; i<this.slider_ids.length; i++)\n",
       "    {\n",
       "        val = this.current_vals[i];\n",
       "        if (!(_.isString(val))) {\n",
       "            if (val % 1 === 0) { var fixed = 1;}\n",
       "            else { var fixed = 10;}\n",
       "            val = val.toFixed(fixed)\n",
       "        }\n",
       "        key += \"'\" + val + \"'\";\n",
       "        if(i != this.slider_ids.length-1) { key += ', ';}\n",
       "        else if(this.slider_ids.length == 1) { key += ',';}\n",
       "    }\n",
       "    key += \")\";\n",
       "    var current = this.keyMap[key];\n",
       "    this.current_frame = current;\n",
       "    if(this.cached) {\n",
       "        this.update(current)\n",
       "    } else {\n",
       "        this.dynamic_update(current)\n",
       "    }\n",
       "}\n",
       "\n",
       "\n",
       "/* Define the ScrubberWidget class */\n",
       "function ScrubberWidget(frames, num_frames, id, interval, load_json, mode, cached, json_path, dynamic){\n",
       "    this.img_id = \"_anim_img\" + id;\n",
       "    this.slider_id = \"_anim_slider\" + id;\n",
       "    this.loop_select_id = \"_anim_loop_select\" + id;\n",
       "    this.id = id;\n",
       "    this.fig_id = \"fig_\" + id;\n",
       "    this.interval = interval;\n",
       "    this.current_frame = 0;\n",
       "    this.direction = 0;\n",
       "    this.dynamic = dynamic;\n",
       "    this.timer = null;\n",
       "    this.load_json = load_json;\n",
       "    this.mode = mode;\n",
       "    this.cached = cached;\n",
       "    this.frames = frames;\n",
       "    this.cache = {};\n",
       "    this.length = num_frames;\n",
       "\tthis.json_path = json_path;\n",
       "    document.getElementById(this.slider_id).max = this.length - 1;\n",
       "    this.init_slider(0);\n",
       "}\n",
       "\n",
       "ScrubberWidget.prototype = new HoloViewsWidget;\n",
       "\n",
       "ScrubberWidget.prototype.set_frame = function(frame){\n",
       "    this.current_frame = frame;\n",
       "    document.getElementById(this.slider_id).value = this.current_frame;\n",
       "    if(this.cached) {\n",
       "        this.update(frame)\n",
       "    } else {\n",
       "        this.dynamic_update(frame)\n",
       "    }\n",
       "}\n",
       "\n",
       "\n",
       "ScrubberWidget.prototype.process_error = function(msg){\n",
       "\tif (msg.content.ename === 'StopIteration') {\n",
       "\t\tthis.pause_animation();\n",
       "\t\tvar keys = Object.keys(this.frames)\n",
       "\t\tthis.length = keys.length;\n",
       "\t\tdocument.getElementById(this.slider_id).max = this.length-1;\n",
       "\t\tdocument.getElementById(this.slider_id).value = this.length-1;\n",
       "\t\tthis.current_frame = this.length-1;\n",
       "\t}\n",
       "}\n",
       "\n",
       "\n",
       "ScrubberWidget.prototype.get_loop_state = function(){\n",
       "    var button_group = document[this.loop_select_id].state;\n",
       "    for (var i = 0; i < button_group.length; i++) {\n",
       "        var button = button_group[i];\n",
       "        if (button.checked) {\n",
       "            return button.value;\n",
       "        }\n",
       "    }\n",
       "    return undefined;\n",
       "}\n",
       "\n",
       "\n",
       "ScrubberWidget.prototype.next_frame = function() {\n",
       "\tif (this.dynamic && this.current_frame + 1 >= this.length) {\n",
       "\t\tthis.length += 1;\n",
       "        document.getElementById(this.slider_id).max = this.length-1;\n",
       "\t}\n",
       "    this.set_frame(Math.min(this.length - 1, this.current_frame + 1));\n",
       "}\n",
       "\n",
       "ScrubberWidget.prototype.previous_frame = function() {\n",
       "    this.set_frame(Math.max(0, this.current_frame - 1));\n",
       "}\n",
       "\n",
       "ScrubberWidget.prototype.first_frame = function() {\n",
       "    this.set_frame(0);\n",
       "}\n",
       "\n",
       "ScrubberWidget.prototype.last_frame = function() {\n",
       "    this.set_frame(this.length - 1);\n",
       "}\n",
       "\n",
       "ScrubberWidget.prototype.slower = function() {\n",
       "    this.interval /= 0.7;\n",
       "    if(this.direction > 0){this.play_animation();}\n",
       "    else if(this.direction < 0){this.reverse_animation();}\n",
       "}\n",
       "\n",
       "ScrubberWidget.prototype.faster = function() {\n",
       "    this.interval *= 0.7;\n",
       "    if(this.direction > 0){this.play_animation();}\n",
       "    else if(this.direction < 0){this.reverse_animation();}\n",
       "}\n",
       "\n",
       "ScrubberWidget.prototype.anim_step_forward = function() {\n",
       "    if(this.current_frame < this.length || this.dynamic){\n",
       "        this.next_frame();\n",
       "    }else{\n",
       "        var loop_state = this.get_loop_state();\n",
       "        if(loop_state == \"loop\"){\n",
       "            this.first_frame();\n",
       "        }else if(loop_state == \"reflect\"){\n",
       "            this.last_frame();\n",
       "            this.reverse_animation();\n",
       "        }else{\n",
       "            this.pause_animation();\n",
       "            this.last_frame();\n",
       "        }\n",
       "    }\n",
       "}\n",
       "\n",
       "ScrubberWidget.prototype.anim_step_reverse = function() {\n",
       "    this.current_frame -= 1;\n",
       "    if(this.current_frame >= 0){\n",
       "        this.set_frame(this.current_frame);\n",
       "    } else {\n",
       "        var loop_state = this.get_loop_state();\n",
       "        if(loop_state == \"loop\"){\n",
       "            this.last_frame();\n",
       "        }else if(loop_state == \"reflect\"){\n",
       "            this.first_frame();\n",
       "            this.play_animation();\n",
       "        }else{\n",
       "            this.pause_animation();\n",
       "            this.first_frame();\n",
       "        }\n",
       "    }\n",
       "}\n",
       "\n",
       "ScrubberWidget.prototype.pause_animation = function() {\n",
       "    this.direction = 0;\n",
       "    if (this.timer){\n",
       "        clearInterval(this.timer);\n",
       "        this.timer = null;\n",
       "    }\n",
       "}\n",
       "\n",
       "ScrubberWidget.prototype.play_animation = function() {\n",
       "    this.pause_animation();\n",
       "    this.direction = 1;\n",
       "    var t = this;\n",
       "    if (!this.timer) this.timer = setInterval(function(){t.anim_step_forward();}, this.interval);\n",
       "}\n",
       "\n",
       "ScrubberWidget.prototype.reverse_animation = function() {\n",
       "    this.pause_animation();\n",
       "    this.direction = -1;\n",
       "    var t = this;\n",
       "    if (!this.timer) this.timer = setInterval(function(){t.anim_step_reverse();}, this.interval);\n",
       "}\n",
       "\n",
       "function extend(destination, source) {\n",
       "    for (var k in source) {\n",
       "        if (source.hasOwnProperty(k)) {\n",
       "            destination[k] = source[k];\n",
       "        }\n",
       "    }\n",
       "    return destination;\n",
       "}\n",
       "\n",
       "function update_widget(widget, values) {\n",
       "\tif (widget.hasClass(\"ui-slider\")) {\n",
       "\t\twidget.slider('option',\n",
       "\t\t\t\t\t  {'min': 0, 'max': values.length-1,\n",
       "\t\t\t\t\t   'dim_vals': values, 'value': 0})\n",
       "\t\twidget.slider('option', 'slide').call(widget, event, {'value': 0})\n",
       "\t} else {\n",
       "\t\twidget.empty();\n",
       "\t\tfor (var i=0; i<values.length; i++){\n",
       "\t\t\twidget.append($(\"<option>\", {\n",
       "\t\t\t\tvalue: i,\n",
       "\t\t\t\ttext: values[i]\n",
       "\t\t\t}))};\n",
       "\t\twidget.trigger(\"change\");\n",
       "\t};\n",
       "}\n",
       "\n",
       "// Define Bokeh specific subclasses\n",
       "function BokehSelectionWidget() {\n",
       "\tSelectionWidget.apply(this, arguments);\n",
       "}\n",
       "\n",
       "function BokehScrubberWidget() {\n",
       "\tScrubberWidget.apply(this, arguments);\n",
       "}\n",
       "\n",
       "// Let them inherit from the baseclasses\n",
       "BokehSelectionWidget.prototype = Object.create(SelectionWidget.prototype);\n",
       "BokehScrubberWidget.prototype = Object.create(ScrubberWidget.prototype);\n",
       "\n",
       "// Define methods to override on widgets\n",
       "var BokehMethods = {\n",
       "\tupdate_cache : function(){\n",
       "\t\t$.each(this.frames, $.proxy(function(index, frame) {\n",
       "\t\t\tthis.frames[index] = JSON.parse(frame);\n",
       "\t\t}, this));\n",
       "\t},\n",
       "\tupdate : function(current){\n",
       "\t\tif (current === undefined) {\n",
       "\t\t\tvar data = undefined;\n",
       "\t\t} else {\n",
       "\t\t\tvar data = this.frames[current];\n",
       "\t\t}\n",
       "\t\tif (data !== undefined) {\n",
       "\t\t\tif (data.root !== undefined) {\n",
       "\t\t\t\tvar doc = Bokeh.index[data.root].model.document;\n",
       "\t\t\t}\n",
       "\t\t\t$.each(data.data, function(i, value) {\n",
       "\t\t\t\tif (data.root !== undefined) {\n",
       "\t\t\t\t\tvar ds = doc.get_model_by_id(value.id);\n",
       "\t\t\t\t} else {\n",
       "\t\t\t\t\tvar ds = Bokeh.Collections(value.type).get(value.id);\n",
       "\t\t\t\t}\n",
       "\t\t\t\tif (ds != undefined) {\n",
       "\t\t\t\t\tds.set(value.data);\n",
       "\t\t\t\t\tds.trigger('change');\n",
       "\t\t\t\t}\n",
       "\t\t\t});\n",
       "\t\t}\n",
       "\t},\n",
       "\tdynamic_update : function(current){\n",
       "\t\tif (current === undefined) {\n",
       "\t\t\treturn\n",
       "\t\t}\n",
       "\t\tif(this.dynamic) {\n",
       "\t\t\tcurrent = JSON.stringify(current);\n",
       "\t\t}\n",
       "\t\tfunction callback(initialized, msg){\n",
       "\t\t\t/* This callback receives data from Python as a string\n",
       "\t\t\t in order to parse it correctly quotes are sliced off*/\n",
       "\t\t\tif (msg.content.ename != undefined) {\n",
       "\t\t\t\tthis.process_error(msg);\n",
       "\t\t\t}\n",
       "\t\t\tif (msg.msg_type != \"execute_result\") {\n",
       "\t\t\t\tconsole.log(\"Warning: HoloViews callback returned unexpected data for key: (\", current, \") with the following content:\", msg.content)\n",
       "\t\t\t\treturn\n",
       "\t\t\t}\n",
       "\t\t\tif (msg.msg_type == \"execute_result\") {\n",
       "\t\t\t\tvar data = msg.content.data['text/plain'].slice(1, -1);\n",
       "\t\t\t\tthis.frames[current] = JSON.parse(data);\n",
       "\t\t\t\tthis.update(current);\n",
       "\t\t\t}\n",
       "\t\t}\n",
       "\t\tvar kernel = IPython.notebook.kernel;\n",
       "\t\tcallbacks = {iopub: {output: $.proxy(callback, this, this.initialized)}};\n",
       "\t\tvar cmd = \"holoviews.plotting.widgets.NdWidget.widgets['\" + this.id + \"'].update(\" + current + \")\";\n",
       "\t\tkernel.execute(\"import holoviews;\" + cmd, callbacks, {silent : false});\n",
       "\t}\n",
       "}\n",
       "\n",
       "// Extend Bokeh widgets with backend specific methods\n",
       "extend(BokehSelectionWidget.prototype, BokehMethods);\n",
       "extend(BokehScrubberWidget.prototype, BokehMethods);\n",
       "\n",
       "// Define MPL specific subclasses\n",
       "function MPLSelectionWidget() {\n",
       "\tSelectionWidget.apply(this, arguments);\n",
       "}\n",
       "\n",
       "function MPLScrubberWidget() {\n",
       "\tScrubberWidget.apply(this, arguments);\n",
       "}\n",
       "\n",
       "// Let them inherit from the baseclasses\n",
       "MPLSelectionWidget.prototype = Object.create(SelectionWidget.prototype);\n",
       "MPLScrubberWidget.prototype = Object.create(ScrubberWidget.prototype);\n",
       "\n",
       "// Define methods to override on widgets\n",
       "var MPLMethods = {\n",
       "\tinit_slider : function(init_val){\n",
       "\t\tif(this.load_json) {\n",
       "\t\t\tthis.from_json()\n",
       "\t\t} else {\n",
       "\t\t\tthis.update_cache();\n",
       "\t\t}\n",
       "\t\tthis.update(0);\n",
       "\t\tif(this.mode == 'nbagg') {\n",
       "\t\t\tthis.set_frame(init_val, 0);\n",
       "\t\t}\n",
       "\t},\n",
       "\tpopulate_cache : function(idx){\n",
       "\t\tvar cache_id = this.img_id+\"_\"+idx;\n",
       "\t\tif(this.mode == 'mpld3') {\n",
       "\t\t\tmpld3.draw_figure(cache_id, this.frames[idx]);\n",
       "\t\t} else {\n",
       "\t\t\tthis.cache[idx].html(this.frames[idx]);\n",
       "\t\t}\n",
       "\t\tif (this.embed) {\n",
       "\t\t\tdelete this.frames[idx];\n",
       "\t\t}\n",
       "\t},\n",
       "\tdynamic_update : function(current){\n",
       "\t\tif (this.dynamic) {\n",
       "\t\t\tcurrent = JSON.stringify(current);\n",
       "\t\t}\n",
       "\t\tfunction callback(msg){\n",
       "\t\t\t/* This callback receives data from Python as a string\n",
       "\t\t\t in order to parse it correctly quotes are sliced off*/\n",
       "\t\t\tif (msg.content.ename != undefined) {\n",
       "\t\t\t\tthis.process_error(msg);\n",
       "\t\t\t}\n",
       "\t\t\tif (msg.msg_type != \"execute_result\") {\n",
       "\t\t\t\tconsole.log(\"Warning: HoloViews callback returned unexpected data for key: (\", current, \") with the following content:\", msg.content)\n",
       "\t\t\t\treturn\n",
       "\t\t\t}\n",
       "\t\t\tif (!(this.mode == 'nbagg')) {\n",
       "\t\t\t\tif(!(current in this.cache)) {\n",
       "\t\t\t\t\tvar data = msg.content.data['text/plain'].slice(1, -1);\n",
       "\t\t\t\t\tif(this.mode == 'mpld3'){\n",
       "\t\t\t\t\t\tdata = JSON.parse(data)[0];\n",
       "\t\t\t\t\t}\n",
       "\t\t\t\t\tthis.frames[current] = data;\n",
       "\t\t\t\t\tthis.update_cache();\n",
       "\t\t\t\t}\n",
       "\t\t\t\tthis.update(current);\n",
       "\t\t\t}\n",
       "\t\t}\n",
       "\t\tvar kernel = IPython.notebook.kernel;\n",
       "\t\tcallbacks = {iopub: {output: $.proxy(callback, this)}};\n",
       "\t\tvar cmd = \"holoviews.plotting.widgets.NdWidget.widgets['\" + this.id + \"'].update(\" + current + \")\";\n",
       "\t\tkernel.execute(\"import holoviews;\" + cmd, callbacks, {silent : false});\n",
       "\t}\n",
       "}\n",
       "\n",
       "// Extend MPL widgets with backend specific methods\n",
       "extend(MPLSelectionWidget.prototype, MPLMethods);\n",
       "extend(MPLScrubberWidget.prototype, MPLMethods);\n",
       "</script>\n",
       "\n",
       "\n",
       "<link rel=\"stylesheet\" href=\"https://code.jquery.com/ui/1.10.4/themes/smoothness/jquery-ui.css\">\n",
       "<style>div.hololayout {\n",
       "    display: flex;\n",
       "    align-items: center;\n",
       "    margin: 0;\n",
       "}\n",
       "\n",
       "div.holowell {\n",
       "    display: flex;\n",
       "    align-items: center;\n",
       "    margin: 0;\n",
       "}\n",
       "\n",
       "form.holoform {\n",
       "    background-color: #fafafa;\n",
       "    border-radius: 5px;\n",
       "    overflow: hidden;\n",
       "    padding: 0.8em;\n",
       "}\n",
       "\n",
       "div.holowidgets {\n",
       "    padding-right: 0;\n",
       "}\n",
       "\n",
       "div.holoslider {\n",
       "    min-height: 0 !important;\n",
       "    height: 0.8em;\n",
       "}\n",
       "\n",
       "div.holoformgroup {\n",
       "    padding-right: 0.5em;\n",
       "    padding-top: 0.5em;\n",
       "    margin-bottom: 0.5em;\n",
       "}\n",
       "\n",
       "div.hologroup {\n",
       "    padding-left: 0;\n",
       "    padding-right: 0;\n",
       "}\n",
       "\n",
       ".holoselect {\n",
       "    width: 92%;\n",
       "    margin-left: 0;\n",
       "    margin-right: 0;\n",
       "}\n",
       "\n",
       ".holotext {\n",
       "    width: 100%;\n",
       "    padding-left:  0.5em;\n",
       "    padding-right: 0;\n",
       "}\n",
       "\n",
       "div.bk-hbox {\n",
       "    display: flex;\n",
       "    justify-content: center;\n",
       "}\n",
       "\n",
       "div.bk-hbox div.bk-plot {\n",
       "    padding: 8px;\n",
       "}\n",
       "\n",
       "div.bk-hbox div.bk-data-table {\n",
       "    padding: 20px;\n",
       "}\n",
       "</style>\n",
       "\n",
       "\n",
       "<div>\n",
       "<img src='data:image/png;base64,iVBORw0KGgoAAAANSUhEUgAAABkAAAAZCAIAAABLixI0AAAACXBIWXMAAAsTAAALEwEAmpwYAAAAB3RJTUUH3wkCDDIOi3cusgAABT1JREFUOMtVlclvG2UYh3/fMovHe53FThySNHZomrRJl6QR0AJdpVblQBEHJC4ciipxAgmO3PgPEP8BQkIsRUJUSF1oqGih0JY2CtnjOLGz2Em8xPbMeL6Pw9RJOprLjPT+5tH7Pu83JE7pqeHh8wMD2evfyXMXf/nxB2FZo6dPNzVHvvr6GxMQeOEigARswNzzUgK6x8NagPzS0nqxODQ62nLn1xMnX99/eLC3sGVROj2/IBxHABKgANlzM4ACTuMRAOecNREiAWtzc0NIEu/M37zVMTWeqlrpUDg1M7NTVgdkowwvxqGRRV1CE8jOznq7uhYAi2CpXtdVVQE4QAAdCAAGwAAJyEa9Amh7PsAihBBAABrg1XUfpe3bxTXb8XR0WJa1VSzWGyAcUAEVoIAARIMOQH2HC4AA6lKW8/n9Pm/Ahl4zV8fGTg0PtzQ3K3tA3GId8AO+BqZLt8sFQKE0GouRSkWtFM63KV0Vy1rJhN44k56cFFI6exJ3MBWANACVHS63aw5QtutVVT/4xWfHv/0ylytmHvx56sIFLxACfIABGIAf8ANRn++9y5evXrkS0XWXd5dLJWRfOHwspA1tr4iFtP3gD8/apjCtSDiyQYhZKNA94wOQTCQPhfzm9FTJH8jn84Tz3SyPlEQ4vf0Dt5/MPE5vpVObzQbxqvaDdL731MnWnh5pmsxxdE3rTCZfO3u2FbL6+2+hzpcKwXA2ldrNUgAVII7TMXhkZnzcAQTgAWI6sgV7YmKivLra1tFxMJk4Ho/r5fLy3btsYS7JHL1YoeHQKldKhcLzLNcdlRDOWDgczuVyOtDt4yN9gRYVmc161TTLmYw9P9e8OHcU5dG2fa3EmhNyKjGwROmzZ8+YqlIAKsDd9jtOenIy1t8vgDJQtuvYrjRT0kMQBRIUQxqSXkSDUIO0YAulvdfxGk/u33eVZs2EeBvu6gCjtKW7Oz81xQBhI73mtATQn/BuZ6wTrezsYX+1Jn+aNR8sl9Zb47l4/O+HD2u27QDgnHUQwhvKuFmRaLS2tkZsmwJSQpqIUzHYyynndx5t/1Vy5gXyhMhorEJIKpViQB0QnFNlZzkbdExRhBAckIAFbFXFetkpg94er004WK6jCniamrRAYHlmxhXFtWTXVfW50SQYDjvVKm+YHVMR10G5VAGrcWAohkEVpbC1RRo7QN2mS0BzuQiJHziwMTurAwrgBTo95NVjnshb3XaF9q1MTM7VeWNv6kJQgAISYAAHuARUQAHA2NCZM35KJ27c6KA4YiBXJlpVro5bkaGN2mStsCy8gAXobpyU7iFhAgxQAB40jMHh4WhnJ6nVpsfGVjOZUQMhi40k9K1FqQZI4ogffd3k33GPobTb5kCIFmriEYjgnABao60KwD68eCnz5PH0vXsr4+OsVIpRvNmpnLvQEozRpm5vxAP107dx+RMlvGTcmw7Xle6DwZlsdbZY05qbAq2ta9msCkhAcM4+yv+3uFZWAA+gA5pEaUOUnpaMohb+/BK7+j76r4IliFoyAv9EjsZ4ZbMmyOKqmdvciiWTL4+OUsY8mkY554d7okGyciuHqgQFVIABlkJ9fV44FLFrz8ecuIZ3u6offzD1fSnFmJSgle35mzcdVQ1Eo23B4Eh7lJdWNgZGohM/r5QAjZEoaDzi0TfKPlFDV/KF35mqs0NN1v3iRrqqAT7Xbdti6UXPImKZaf5SQiUBtAIG0OVXXnmnDUJWb9nET7D8VPba7pAJTKRnxPUpI+v0BXlApZPrlgDaCTke1VqaaLZC/wesjSVVF5Ac7QAAAABJRU5ErkJggg=='\n",
       "     style='width:25px;height:25px; border-radius:12px;'/>\n",
       "\n",
       "HoloViewsJS, MatplotlibJS successfully loaded in this cell.\n",
       "</div>\n"
      ],
      "text/plain": [
       "<IPython.core.display.HTML object>"
      ]
     },
     "metadata": {},
     "output_type": "display_data"
    },
    {
     "data": {
      "text/html": [
       "\n",
       "<script type=text/javascript>\n",
       "/* Add a button for showing or hiding input */\n",
       "on = \"Show input\";\n",
       "off = \"Hide input\";\n",
       "function onoff(){\n",
       "  currentvalue = document.getElementById('onoff').value;\n",
       "  if(currentvalue == off){\n",
       "    document.getElementById(\"onoff\").value=on;\n",
       "      $('div.input').hide();\n",
       "  }else{\n",
       "    document.getElementById(\"onoff\").value=off;\n",
       "      $('div.input').show();\n",
       "  }\n",
       "}\n",
       "\n",
       "/* Launch first notebook cell on start */\n",
       "function launch_first_cell (evt) {\n",
       "  if (!launch_first_cell.executed\n",
       "      && Jupyter.notebook.kernel\n",
       "  ) {\n",
       "    Jupyter.notebook.get_cells()[0].execute();\n",
       "    launch_first_cell.executed = true;\n",
       "  }\n",
       "}\n",
       "\n",
       "$([Jupyter.events]).on('status_started.Kernel notebook_loaded.Notebook', launch_first_cell);\n",
       "</script>\n",
       "\n",
       "<p>Press this button to show/hide the code used in the notebook:\n",
       "<input type=\"button\" class=\"ui-button ui-widget ui-state-default ui-corner-all ui-button-text-only\" value=\"Hide input\" id=\"onoff\" onclick=\"onoff();\"></p>\n",
       "<script type=text/javascript>\n",
       "$(document).ready(function (){if(!(\"IPython\" in window)){onoff();}})\n",
       "</script>"
      ]
     },
     "metadata": {},
     "output_type": "display_data"
    }
   ],
   "source": [
    "import sys\n",
    "sys.path.append('../code')\n",
    "from init_mooc_nb import *\n",
    "init_notebook()\n",
    "import scipy.sparse.linalg as sl\n",
    "\n",
    "my = 0.5 * (pauli.sys0 + pauli.sysz)\n",
    "s0s0sz = np.kron(pauli.s0s0, pauli.sz)\n",
    "s0szsz = np.kron(pauli.s0sz, pauli.sz)\n",
    "mysz = np.kron(my, pauli.s0)\n",
    "s0s0sx = np.kron(pauli.s0s0, pauli.sx)\n",
    "s0s0sy = np.kron(pauli.s0s0, pauli.sy)\n",
    "szsxsz = np.kron(pauli.szsx, pauli.sz)\n",
    "s0sysz = np.kron(pauli.s0sy, pauli.sz)\n",
    "sxsxsz = np.kron(pauli.sxsx, pauli.sz)\n",
    "sysxsz = np.kron(pauli.sysx, pauli.sz)\n",
    "\n",
    "\n",
    "def make_qshe_sc(l=40, w=10, lead=False):\n",
    "    def shape(pos):\n",
    "        (x, y) = pos\n",
    "        return (1.0 * y**2 / l**2 + 1.0 * x**2 / w**2) <= 0.25\n",
    "\n",
    "    def onsite(site, p):\n",
    "        (x, y) = site.pos\n",
    "        return (p.M - 4 * p.B) * s0szsz - 4 * p.D * s0s0sz + p.gaps(x, y)[1] * mysz + p.gaps(x, y)[0] * s0s0sx\n",
    "\n",
    "    def hopx(site1, site2, p):\n",
    "        return p.B * s0szsz + p.D * s0s0sz + 0.5j * p.A * szsxsz\n",
    "\n",
    "    def hopy(site1, site2, p):\n",
    "        return p.B * s0szsz + p.D * s0s0sz - 0.5j * p.A * s0sysz\n",
    "\n",
    "    lat = kwant.lattice.square()\n",
    "    sys = kwant.Builder()\n",
    "    sys[lat.shape(shape, (0, 0))] = onsite\n",
    "    sys[kwant.HoppingKind((1, 0), lat)] = hopx\n",
    "    sys[kwant.HoppingKind((0, 1), lat)] = hopy\n",
    "\n",
    "    if lead:\n",
    "        sym = kwant.TranslationalSymmetry((0, 1))\n",
    "        lead = kwant.Builder(sym)\n",
    "        lead[lat(0, 0)] = 1.5 * p.B * s0szsz\n",
    "        lead[kwant.HoppingKind((0, 1), lat)] = -p.B * s0szsz\n",
    "        sys.attach_lead(lead)\n",
    "        sys.attach_lead(lead.reversed())\n",
    "    return sys.finalized()\n",
    "\n",
    "\n",
    "def make_qshe_sc_ribbon(w=3):\n",
    "    def ribbon_shape(pos):\n",
    "        (x, y) = pos\n",
    "        return (0 <= x < w)\n",
    "\n",
    "    def onsite(site, p):\n",
    "        (x, y) = site.pos\n",
    "        return (p.M - 4 * p.B) * s0szsz - 4 * p.D * s0s0sz + p.gaps(x, y)[1] * mysz + p.gaps(x, y)[0] * s0s0sx\n",
    "\n",
    "    def hopx(site1, site2, p):\n",
    "        return p.B * s0szsz + p.D * s0s0sz + 0.5j * p.A * szsxsz\n",
    "\n",
    "    def hopy(site1, site2, p):\n",
    "        return p.B * s0szsz + p.D * s0s0sz - 0.5j * p.A * s0sysz\n",
    "\n",
    "    lat = kwant.lattice.square()\n",
    "    sym = kwant.TranslationalSymmetry((0, 1))\n",
    "    sys = kwant.Builder(sym)\n",
    "\n",
    "    sys[lat.shape(ribbon_shape, (0, 0))] = onsite\n",
    "    sys[kwant.HoppingKind((1, 0), lat)] = hopx\n",
    "    sys[kwant.HoppingKind((0, 1), lat)] = hopy\n",
    "\n",
    "    return sys.finalized()\n",
    "\n",
    "\n",
    "def make_2d_pwave(w, l):\n",
    "    def shape(pos):\n",
    "        (x, y) = pos\n",
    "        return (1.0 * y**2 / l**2 + 1.0 * x**2 / w**2) <= 0.25\n",
    "\n",
    "    def hopx(site1, site2, p):\n",
    "        (x1, y1) = site1.pos\n",
    "        (x2, y2) = site2.pos\n",
    "        phi = p.phase(0.5 * (x1 + x2), 0.5 * (y1 + y2))\n",
    "        return -p.t * pauli.sz + 1j * p.delta * \\\n",
    "            (np.cos(phi) * pauli.sx + np.sin(phi) * pauli.sy)\n",
    "\n",
    "    def hopy(site1, site2, p):\n",
    "        (x1, y1) = site1.pos\n",
    "        (x2, y2) = site2.pos\n",
    "        phi = p.phase(0.5 * (x1 + x2), 0.5 * (y1 + y2))\n",
    "        return -p.t * pauli.sz - 1j * p.delta * \\\n",
    "            (np.cos(np.pi / 2 + phi) * pauli.sx +\n",
    "             np.sin(np.pi / 2 + phi) * pauli.sy)\n",
    "\n",
    "    def onsite(site1, p):\n",
    "        return (4 * p.t - p.mu) * pauli.sz\n",
    "\n",
    "    lat = kwant.lattice.square()\n",
    "    sys = kwant.Builder()\n",
    "    sys[lat.shape(shape, (w / 2 - 1, 0))] = onsite\n",
    "    sys[kwant.HoppingKind((1, 0), lat)] = hopx\n",
    "    sys[kwant.HoppingKind((0, 1), lat)] = hopy\n",
    "\n",
    "    return sys.finalized()\n",
    "\n",
    "\n",
    "def bhz_slab(l, w, h):\n",
    "    lat = kwant.lattice.general(np.identity(3))\n",
    "    sys = kwant.Builder()\n",
    "\n",
    "    def shape(pos):\n",
    "        (x, y, z) = pos\n",
    "        return (0 <= z < h) and (1.0 * y**2 / l**2 + 1.0 * x**2 / w**2) <= 0.25\n",
    "\n",
    "    def onsite(site, p):\n",
    "        (x, y, z) = site.pos\n",
    "        phi = p.phase(x, y)\n",
    "        return (p.C + 2 * p.D1 + 4 * p.D2) * s0s0sz + (p.M + 2 * p.B1 + 4 * p.B2) * s0szsz + \\\n",
    "            p.delta * (np.cos(phi) * s0s0sx + np.sin(phi) * s0s0sy)\n",
    "\n",
    "    def hopx(site1, site2, p):\n",
    "        return - p.D2 * s0s0sz - p.B2 * s0szsz + p.A2 * 0.5j * sxsxsz\n",
    "\n",
    "    def hopy(site1, site2, p):\n",
    "        return - p.D2 * s0s0sz - p.B2 * s0szsz + p.A2 * 0.5j * sysxsz\n",
    "\n",
    "    def hopz(site1, site2, p):\n",
    "        return - p.D1 * s0s0sz - p.B1 * s0szsz + p.A1 * 0.5j * szsxsz\n",
    "\n",
    "    sys[lat.shape(shape, (0, 0, 0))] = onsite\n",
    "    sys[kwant.HoppingKind((1, 0, 0), lat)] = hopx\n",
    "    sys[kwant.HoppingKind((0, 1, 0), lat)] = hopy\n",
    "    sys[kwant.HoppingKind((0, 0, 1), lat)] = hopz\n",
    "\n",
    "    return sys.finalized()\n",
    "\n",
    "\n",
    "def calc_energies(sys, p, num_orbitals, num_states):\n",
    "    ham = sys.hamiltonian_submatrix(args=[p], sparse=True).tocsc()\n",
    "    energies, states = sl.eigsh(ham, sigma=0, k=num_states)\n",
    "    densities = np.linalg.norm(\n",
    "        states.reshape(-1, num_orbitals, num_states), axis=1)**2\n",
    "    return energies, states, densities\n"
   ]
  },
  {
   "cell_type": "markdown",
   "metadata": {},
   "source": [
    "#Table of Contents\n",
    "* [Introduction](#Introduction)\n",
    "* [Different types of bulk-edge correspondence](#Different-types-of-bulk-edge-correspondence)\n",
    "* [Turning the helical edge into a topological superconductor](#Turning-the-helical-edge-into-a-topological-superconductor)\n",
    "* [Two-dimensional $p$-wave superconductors](#Two-dimensional-$p$-wave-superconductors)\n",
    "* [Vortices in 2D p-wave superconductors](#Vortices-in-2D-p-wave-superconductors)\n",
    "* [Vortices in 3D topological insulator](#Vortices-in-3D-topological-insulator)\n",
    "* [Conclusions](#Conclusions)\n"
   ]
  },
  {
   "cell_type": "markdown",
   "metadata": {},
   "source": [
    "# Introduction"
   ]
  },
  {
   "cell_type": "markdown",
   "metadata": {},
   "source": [
    "We have a returning lecturer for the first chapter of this week's lectures: Carlo Beenakker from Leiden University, who will tell us more about different ways to create Majoranas in superconducting vortices."
   ]
  },
  {
   "cell_type": "code",
   "execution_count": 2,
   "metadata": {
    "collapsed": false
   },
   "outputs": [
    {
     "data": {
      "image/jpeg": "[encoded data removed]",
      "text/html": [
       "\n",
       "        <iframe\n",
       "            width=\"400\"\n",
       "            height=\"300\"\n",
       "            src=\"https://www.youtube.com/embed/YVGlfejNH90?cc_load_policy=1&rel=0\"\n",
       "            frameborder=\"0\"\n",
       "            allowfullscreen\n",
       "        ></iframe>\n",
       "        "
      ],
      "text/plain": [
       "MoocVideo(**{'display_name': '', 'youtube': '1.00:YVGlfejNH90', 'source': 'http://delftxdownloads.tudelft.nl/TOPOCMx-QuantumKnots/TOPOCMx-7.1-intro-video.720.mp4', 'show_captions': 'true', 'download_video': 'true', 'youtube_id_1_0': 'YVGlfejNH90', 'download_track': 'true'})"
      ]
     },
     "execution_count": 2,
     "metadata": {},
     "output_type": "execute_result"
    }
   ],
   "source": [
    "MoocVideo(\"YVGlfejNH90\", src_location=\"7.1-intro\")"
   ]
  },
  {
   "cell_type": "markdown",
   "metadata": {},
   "source": [
    "# Different types of bulk-edge correspondence"
   ]
  },
  {
   "cell_type": "markdown",
   "metadata": {},
   "source": [
    "By now, we have seen examples of how the topological properties of the bulk of a material can give birth to new physical properties at its edges, and how these edge properties cannot exist without a bulk. This is the essence of bulk-edge correspondence. For example, the unpaired Majorana bound states at the edges of a Kitaev chain exist because they are separated by the bulk of the chain.\n",
    "\n",
    "Observe that the systems we have studied so far all had something in common: the topologically protected edge states were separated by a bulk that is one dimension higher than the dimension of the edge states. For example, the 0D Majorana bound states are separated by the 1D bulk of a Kitaev chain, and 1D chiral edge modes are separated by a 2D Chern insulator.\n",
    "\n",
    "In this week, we will see that this does not need to be the case.\n",
    "\n",
    "> The dimension of the bulk does not need to be one higher than the dimension of the topologically protected edge. Any dimension higher than the dimension of the edge works equally well.\n",
    "\n",
    "We will see how this simple insight opens new avenues in the hunt for topological protection."
   ]
  },
  {
   "cell_type": "markdown",
   "metadata": {},
   "source": [
    "# Turning the helical edge into a topological superconductor"
   ]
  },
  {
   "cell_type": "markdown",
   "metadata": {},
   "source": [
    "In the past weeks, we have studied two systems that appear very different, but where topology showed up in a very similar way.\n",
    "\n",
    "First, let's consider the quantum spin-Hall insulator. As we saw two weeks ago, it is characterized by a fermion parity pump: if you take a Corbino disk made out of a quantum spin-Hall insulator and change the flux by half a normal flux quantum, that is by $h/2e$, one unit of fermion parity is transferred from one edge of the sample to the other.\n",
    "\n",
    "Secondly, let us consider a one-dimensional topological superconductor, like we studied in weeks two and three. If such a system is closed into a Josephson ring, and the flux through the ring is advanced by one superconducting flux quantum $h/2e$, the fermion parity at the Josephson junction connecting the two ends changes from even to odd, or viceversa. This is the $4π$ Josephson effect, one of the main signatures of topological superconductivity.\n",
    "\n",
    "Note that the change in flux is equal to $h/2e$ in both cases, since a superconducting flux quantum $h/2e$ is half of the normal flux quantum $h/e$.\n",
    "\n",
    "This suggest that once you have a quantum-spin Hall insulator, you are only one small step away from topological superconductivity and Majoranas. The only ingredient that is missing is to introduce superconducting pairing on the quantum spin-Hall edge.\n",
    "\n",
    "But this is easy to add, for instance by putting a superconductor on top of the outer edge of our quantum spin-Hall Corbino disk:"
   ]
  },
  {
   "cell_type": "markdown",
   "metadata": {},
   "source": [
    "![](figures/qsh_josephson_ring.svg)"
   ]
  },
  {
   "cell_type": "markdown",
   "metadata": {},
   "source": [
    "The superconductor covers the entire quantum spin-Hall edge except for a small segment, which acts as a Josephson junction with a phase difference given by $\\phi = 2e\\Phi/\\hbar$, where $\\Phi$ is the magnetic flux through the center of the disk. We imagine that the superconductor gaps out the helical edge by proximity, which means that Cooper pairs can tunnel in and out from the superconductor into the edge. In order for this to happen, a conventional $s$-wave superconductor is enough.\n",
    "\n",
    "We will not repeat our pumping experiment, that is increasing the flux $\\Phi$ by $h/2e$. We know that one unit of fermion parity must be transferred from the inner edge of the disk to the outer edge. However, the only place where we can now find a zero-energy state is the Josephson junction, because the rest of the edge is gapped.\n",
    "\n",
    "From the point of view of the superconducting junction, this means that advancing the phase difference $\\phi$ by $2\\pi$, the ground state fermion parity of the junction changes. Recalling what we learned in the second and third weeks, we can say that the Josephson effect is $4\\pi$-periodic."
   ]
  },
  {
   "cell_type": "code",
   "execution_count": 3,
   "metadata": {
    "collapsed": false
   },
   "outputs": [
    {
     "data": {
      "text/html": [
       "<h4>What happens to the Josephson current in the setup shown above if you remove the inner edge of the Corbino disk?</h4><form><input type=\"radio\" name=\"answer\" value=\"The pumping argument fails and the Josephson effect becomes $2\\pi$ periodic.\">The pumping argument fails and the Josephson effect becomes $2\\pi$ periodic.<br><input type=\"radio\" name=\"answer\" value=\"Then you can no longer apply a flux through the disk.\">Then you can no longer apply a flux through the disk.<br><input type=\"radio\" name=\"answer\" value=\"The Josephson effect remains $4\\pi$ periodic, but the fermion parity becomes fixed.\">The Josephson effect remains $4\\pi$ periodic, but the fermion parity becomes fixed.<br><input type=\"radio\" name=\"answer\" value=\"Nothing changes if the inner edge of the Corbino disk is removed.\">Nothing changes if the inner edge of the Corbino disk is removed.<br></form>\n",
       "        <button title=\"Click to show/hide content\" type=\"button\"\n",
       "        onclick=\"if(document.getElementById('661e4ed9fff2e31e6113fa482ac1855b')\n",
       "         .style.display=='none') {document.getElementById('661e4ed9fff2e31e6113fa482ac1855b')\n",
       "         .style.display=''}else{document.getElementById('661e4ed9fff2e31e6113fa482ac1855b')\n",
       "         .style.display='none'}\">Show answer</button>\n",
       "\n",
       "        <div id=\"661e4ed9fff2e31e6113fa482ac1855b\" style=\"display:none\">The correct answer is: <br>Nothing changes if the inner edge of the Corbino disk is removed.<br><i>Josephson current is a local effect, so it cannot be affected by a removal of the inner edge. When you insert a superconducting flux quantum into the ring, the fermion parity of the edge becomes odd. The extra fermion comes from the gapped bulk of QSHE, which now acquires one broken Kramers pair. That is allowed since there is half a normal flux quantum penetrating the bulk, and Kramers theorem doesn't apply anymore.</i></div>"
      ],
      "text/plain": [
       "MoocMultipleChoiceAssessment(**{'display_name': 'Question', 'correct_answer': 3, 'answers': ['The pumping argument fails and the Josephson effect becomes $2\\\\pi$ periodic.', 'Then you can no longer apply a flux through the disk.', 'The Josephson effect remains $4\\\\pi$ periodic, but the fermion parity becomes fixed.', 'Nothing changes if the inner edge of the Corbino disk is removed.'], 'max_attempts': 2, 'explanation': \"Josephson current is a local effect, so it cannot be affected by a removal of the inner edge. When you insert a superconducting flux quantum into the ring, the fermion parity of the edge becomes odd. The extra fermion comes from the gapped bulk of QSHE, which now acquires one broken Kramers pair. That is allowed since there is half a normal flux quantum penetrating the bulk, and Kramers theorem doesn't apply anymore.\", 'question': 'What happens to the Josephson current in the setup shown above if you remove the inner edge of the Corbino disk?'})"
      ]
     },
     "execution_count": 3,
     "metadata": {},
     "output_type": "execute_result"
    }
   ],
   "source": [
    "question = (\"What happens to the Josephson current in the setup shown above if you remove the inner edge of the Corbino disk?\")\n",
    "\n",
    "answers = [\"The pumping argument fails and the Josephson effect becomes $2\\pi$ periodic.\",\n",
    "           \"Then you can no longer apply a flux through the disk.\",\n",
    "           \"The Josephson effect remains $4\\pi$ periodic, but the fermion parity becomes fixed.\",\n",
    "           \"Nothing changes if the inner edge of the Corbino disk is removed.\"]\n",
    "\n",
    "explanation = (\"Josephson current is a local effect, so it cannot be affected by a removal of the inner edge. \"\n",
    "               \"When you insert a superconducting flux quantum into the ring, the fermion parity of the edge becomes odd. \"\n",
    "               \"The extra fermion comes from the gapped bulk of QSHE, which now acquires one broken \"\n",
    "               \"Kramers pair. That is allowed since there is half a normal flux quantum penetrating the bulk, \"\n",
    "               \"and Kramers theorem doesn't apply anymore.\")\n",
    "\n",
    "MoocMultipleChoiceAssessment(question=question, answers=answers, correct_answer=3, explanation=explanation)"
   ]
  },
  {
   "cell_type": "markdown",
   "metadata": {},
   "source": [
    "## Majoranas on the quantum spin-Hall edge"
   ]
  },
  {
   "cell_type": "markdown",
   "metadata": {},
   "source": [
    "We know that the $4\\pi$-periodicity of the Josephson effect can always be associated with the presence of Majorana zero modes at the two superconducting interfaces of the Josephson junction.\n",
    "\n",
    "However, if you compare the system above with the Josephson ring studied in week three, you will notice an important difference. In that case, the Josephson junction was formed by an insulating barrier. Now on the other hand, the two superconducting interfaces are connected by the quantum spin-Hall edge.\n",
    "\n",
    "This means that our Majoranas are connected by a gapless system, and therefore always strongly coupled. In order to see unpaired Majoranas, or at least weakly coupled ones, we need to gap out the segment of the edge forming the Josephson junction.\n",
    "\n",
    "To gap it out, we can try to place another superconductor in the gap. Unfortunately, this doesn't really help us, because it results in the formation of two Josephson junctions connected in series, and we only want one.\n",
    "\n",
    "However, we know that the edge modes of the quantum spin-Hall insulator are protected from backscattering by time-reversal symmetry. To gap them out, we need to break time-reversal symmetry. Since a magnetic field breaks time-reversal symmetry, we can gap out the edge modes by placing a magnet on the segment of the edge between the two superconductors:"
   ]
  },
  {
   "cell_type": "markdown",
   "metadata": {},
   "source": [
    "![](figures/qsh_majoranas.svg)"
   ]
  },
  {
   "cell_type": "markdown",
   "metadata": {},
   "source": [
    "In the sketch above, you see two Majoranas drawn, one at each interface between the magnet and the superconductor. Their wavefunctions decay as we move away from the interfaces. As Carlo Beenakker mentioned in the introductory video, these Majoranas are quite similar to those we found at the ends of quantum wires.\n",
    "\n",
    "To understand them in more detail, note that the magnet and the superconductor both introduce a gap in the helical edge, but through a completely different physical mechanism. The magnet flips the spin of an incoming electron, or hole, while the superconductor turns an incoming electron with spin up into an outgoing hole with spin down. These two different types of reflection processes combine together to form a Majorana bound state.\n",
    "\n",
    "We can capture this behavior with the following Bogoliubov-de Gennes Hamiltonian for the edge:\n",
    "\n",
    "$$H_\\textrm{BdG}=(-iv\\sigma_x \\partial_x-\\mu)\\tau_z+m(x)\\,\\sigma_z+\\Delta(x)\\,\\tau_x.$$\n",
    "\n",
    "The first term is the edge Hamiltonian of the quantum spin-Hall effect, describing spin up and down electrons moving in opposite direction, together with a chemical potential $\\mu$. The matrix $\\tau_z$ acts on the particle-hole degrees of freedom, doubling the normal state Hamiltonian as usual. The second term is the Zeeman term due to the presence of the magnet. Finally, the last term is the superconducting pairing.\n",
    "\n",
    "The strength of the Zeeman field $m(x)$ and the pairing $\\Delta(x)$ both depend on position. At a domain wall between the superconductor and the magnet, when the relevant gap for the edge changes between $m$ and $\\Delta$, the Hamiltonian above yields a Majorana mode."
   ]
  },
  {
   "cell_type": "markdown",
   "metadata": {},
   "source": [
    "This is shown below in a numerical simulation of a quantum spin-Hall disk. The left panel shows the edge state of the disk without any superconductor or magnet. In the right panel we cover one half of the disk by a superconductor and the other by a magnet, and obtain two well-separated Majoranas:"
   ]
  },
  {
   "cell_type": "code",
   "execution_count": 4,
   "metadata": {
    "collapsed": false
   },
   "outputs": [
    {
     "data": {
      "image/png": "[encoded data removed]",
      "text/plain": [
       "<matplotlib.figure.Figure at 0x7f19c01060b8>"
      ]
     },
     "metadata": {},
     "output_type": "display_data"
    }
   ],
   "source": [
    "l = 60\n",
    "w = 60\n",
    "sys2 = make_qshe_sc(l, w)\n",
    "\n",
    "p = SimpleNamespace(A=0.5, B=1.00, D=0.1, M=0.5)\n",
    "p.gaps = lambda x, y: [(y < 0)*0.0, (y >= 0)*0.0]\n",
    "energies0, states0, densities0 = calc_energies(sys2, p, num_orbitals=8, num_states=10)\n",
    "p.gaps = lambda x, y: [(y < 0)*0.2, (y >= 0)*0.3]\n",
    "energies, states, densities = calc_energies(sys2, p, num_orbitals=8, num_states=10)\n",
    "\n",
    "phi = np.linspace(-np.pi, np.pi, 51)\n",
    "x = (w + 0.5) / 2 * np.cos(phi)\n",
    "y = (l + 0.5) / 2 * np.sin(phi)\n",
    "\n",
    "fig = plt.figure(figsize=(9, 3.5))\n",
    "ax1 = fig.add_subplot(122)\n",
    "gap_B = ax1.fill_between(x[:26], 0, y[:26], facecolor='gold', alpha=0.1)\n",
    "gap_Sc = ax1.fill_between(x[26:], 0, y[26:], facecolor='blue', alpha=0.1)\n",
    "kwant.plotter.map(sys2, densities[:, 0], colorbar=False, ax=ax1, cmap='gist_heat_r')\n",
    "plt.plot(x, y, 'k-', lw=2)\n",
    "text_style = dict(fontsize=16, arrowprops=dict(arrowstyle=\"-\", facecolor='black', lw=0))\n",
    "plt.annotate('$E_Z$', xytext=(-w/20, l/5), xy=(0, l/3), **text_style)\n",
    "plt.annotate('$\\Delta$', xytext=(-w/20, -l/4), xy=(0, -l/3), **text_style)\n",
    "ax1.set_yticks([])\n",
    "ax1.set_xticks([])\n",
    "ax1.set_ylim(-l/2-3, l/2+3)\n",
    "ax1.set_xlim(-w/2-3, w/2+3)\n",
    "pot = np.log(abs(energies0[0])) // np.log(10.0) - 1\n",
    "fac = abs(energies0[0])*10**(-pot)\n",
    "ax1.set_title('Majoranas, $E = $' + scientific_number(abs(energies[0])))\n",
    "\n",
    "ax0 = fig.add_subplot(121)\n",
    "kwant.plotter.map(sys2, densities0[:, 0], colorbar=False, ax=ax0, cmap='gist_heat_r')\n",
    "ax0.set_yticks([])\n",
    "ax0.set_xticks([])\n",
    "ax0.set_ylim(-l/2-3, l/2+3)\n",
    "ax0.set_xlim(-w/2-3, w/2+3)\n",
    "ax0.set_title('Edge state, $E = $' + scientific_number(abs(energies0[0])))\n",
    "plt.plot(x, y, 'k-', lw=2)\n",
    "plt.show()\n"
   ]
  },
  {
   "cell_type": "markdown",
   "metadata": {},
   "source": [
    "The density of states plot of the lowest energy state reveals one Majorana mode at each of the two interfaces between the magnet and the superconductor.\n",
    "\n",
    "This clearly shows how is it possible to obtain 0D topologically protected states (the Majorana modes) from a $2D$ bulk topological phase (the quantum spin Hall insulator). All we had to do was to add the appropriate ingredients (the superconductor and the magnet)."
   ]
  },
  {
   "cell_type": "markdown",
   "metadata": {},
   "source": [
    "# Two-dimensional $p$-wave superconductors"
   ]
  },
  {
   "cell_type": "markdown",
   "metadata": {},
   "source": [
    "Let us now move on to Majoranas in vortices, as discussed by Carlo Beenakker in the introductory video. We will need a model for a 2D topological superconductor. How do we obtain it?\n",
    "\n",
    "It turns out that the method we used to construct 2D Chern insulators in week 4, namely stacking 1D Kitaev chains and coupling them, can also be used to construct 2D topological superconductors.\n",
    "\n",
    "That isn't very surprising though, is it? Remember that back then, we told you to forget that the Kitaev model was really a superconductor. Bearing that in mind, it comes as no surprise that stacking 1D superconductors gives us a 2D superconductor."
   ]
  },
  {
   "cell_type": "markdown",
   "metadata": {},
   "source": [
    "So let's look back at the Hamiltonian we obtained for a Chern insulator by coupling a stack of Kitaev chains: \n",
    "\n",
    "$$H_\\textrm{2D}(\\mathbf{k})=-(2t\\cos{k_x}+\\mu)\\,\\tau_z+\\Delta\\sin{k_x}\\tau_y-2\\gamma\\,(\\cos{k_y}\\tau_z+\\sin{k_y}\\,\\tau_x).$$ \n",
    "\n",
    "Those of us who are careful would want to check that the above Hamiltonian is indeed a superconductor, in particular that the terms coupling different chains do not spoil particle-hole symmetry.\n",
    "\n",
    "And indeed if we consider the operator $\\mathcal{P}=\\tau_x \\mathcal{K}$ with $\\mathcal{K}$ the complex conjugation operator, we find that the Bloch Hamiltonian obeys $H_\\textrm{2D}(\\mathbf{k}) = -\\tau_x H^*_\\textrm{2D}(-\\mathbf{k}) \\tau_x$, precisely the symmetry obeyed by the Kitaev chain, extended to two dimensions (if you do not remember how to apply an anti-unitary symmetry in momentum space, you can go back to week 1 and look at the original derivation)."
   ]
  },
  {
   "cell_type": "markdown",
   "metadata": {},
   "source": [
    "The Hamiltonian above is quite anisotropic - it looks different in the $x$ and $y$ directions, a consequence of the way we derived it in week four. For our purposes, however, it is convenient to make it look isotropic. Thus, we tweak the coefficients in $H$ to make it look similar in the $x$ and $y$ directions. This is fine as long as we do not close the gap, because the topological properties of $H$ remain unchanged.\n",
    "\n",
    "In this way we arrive at the canonical Hamiltonian of a so-called $p$-wave superconductor:\n",
    "\n",
    "$$H(k_x,k_y)=-[2t\\,(\\cos{k_x}+\\cos{k_y})+\\mu]\\,\\tau_z+\\Delta\\,(\\sin{k_x}\\tau_y-\\sin{k_y}\\tau_x).$$"
   ]
  },
  {
   "cell_type": "markdown",
   "metadata": {},
   "source": [
    "Apart from looking more symmetric between the $x$ and $y$ directions, the Hamiltonian clearly separates normal hopping, which is proportional to $t$, and superconducting pairing, which is proportional to $\\Delta$. This superconductor is $p$-wave because the pairing is linear in momentum, just like in the Kitaev chain. This can be seen explicitly by expanding $H$ around $\\mathbf{k}=\\mathbf{0}$, which gives\n",
    "\n",
    "$$H(k_x,k_y)\\approx [t\\,(k_x^2+k_y^2)-\\mu+4 t]\\tau_z+[i \\Delta(k_x+i k_y)\\tau_++\\textrm{h.c.}],$$\n",
    "\n",
    "where $\\tau_+=(\\tau_x+i\\tau_y)/2$. Note that the pairing is proportional to $k_x+ik_y$, and it breaks both time-reversal and inversion symmetries."
   ]
  },
  {
   "cell_type": "markdown",
   "metadata": {},
   "source": [
    "Even though we have reinterpreted the Hamiltonian $H$ as a superconductor, it is still originally a Chern insulator. This means that the system is still characterized by a bulk Chern number, which determines the presence of chiral edge states.\n",
    "A chiral edge state can be described by a simple effective Hamiltonian, equivalent to that of a quantum Hall edge:\n",
    "\n",
    "$$H_\\textrm{edge}=\\hbar v k$$\n",
    "\n",
    "with $v$ the velocity and $k$ the momentum along the edge. Note that the edge Hamiltonian maintains the particle-hole symmetry of the bulk: for every state with energy $E$ and momentum $k$ there is a state with energy $-E$ and momentum $-k$.\n",
    "\n",
    "We are now ready to see how unpaired Majoranas can appear in a 2D $p$-wave superconductor."
   ]
  },
  {
   "cell_type": "markdown",
   "metadata": {},
   "source": [
    "# Vortices in 2D p-wave superconductors"
   ]
  },
  {
   "cell_type": "markdown",
   "metadata": {},
   "source": [
    "So far we have considered a uniform superconducting pairing $\\Delta$, with constant amplitude and phase. This is an idealized situation, which corresponds to a perfect superconductor with no defects.\n",
    "\n",
    "If you apply a small magnetic field to a superconducting film, or if there are defects in the material, a [**vortex**](http://en.wikipedia.org/wiki/Abrikosov_vortex) of supercurrent can form to lower the free energy of the system.\n",
    "In a vortex, there is a supercurrent circulating in a small area around the defect or the magnetic field lines penetrating the superconductor. The magnetic flux enclosed by the vortex supercurrent is equal to a superconducting flux quantum $h/2e$.\n",
    "\n",
    "The amplitude $\\Delta$ of the superconducting pairing is suppressed in the core of the vortex, going to zero in its center, and the superconducting phase winds by $2\\pi$ around a closed path surrounding it. The situation is sketched below:"
   ]
  },
  {
   "cell_type": "markdown",
   "metadata": {},
   "source": [
    "![](figures/vortex.svg)"
   ]
  },
  {
   "cell_type": "markdown",
   "metadata": {},
   "source": [
    "Because the pairing $\\Delta$ goes to zero in the middle of the vortex, there can be states with an energy smaller than $\\Delta$ which are localized at the vortex core. We now want to see whether it is possible to have a non-degenerate zero energy solution in the vortex - because of particle-hole symmetry, this would be an unpaired Majorana mode!\n",
    "\n",
    "To compute the spectrum of the vortex we could introduce a position dependent-phase for $\\Delta$ in the Hamiltonian of the superconductor, and solve it for the energy spectrum by going through quite some algebra. But as usual in this course, we will take a shortcut.\n",
    "\n",
    "Our shortcut comes from answering the following question: how is the spectrum of the chiral edge states affected by introducing a vortex in the middle of the superconductor?\n",
    "\n",
    "From week one, we know that changing the flux through a superconducting ring by a flux quantum changes the boundary condition from periodic to antiperiodic, or viceversa.\n",
    "\n",
    "A vortex has precisely the same effect on the chiral edge states. Therefore, in the presence of a vortex, the allowed values $k_n$ of momentum in a disk shift by $\\pi/L$, with $L$ the length of the edge. The energy levels depend linearly on momentum and are shifted accordingly,\n",
    "\n",
    "$$\n",
    "E_n\\,\\to\\, E_n + \\hbar v \\pi / L.\n",
    "$$\n",
    "\n",
    "Now, with or without the vortex, the spectrum must be symmetric around $E=0$ because of particle-hole symmetry. The energy levels $E_n$ correspond to standing waves and are equally spaced, with spacing given by $2\\hbar v \\pi / L$. There are only two such spectra consistent with particle-hole symmetry, $E_n = 2\\pi\\,n\\, \\hbar v / L$ and $E_n = 2\\pi\\,(n+1/2)\\, \\hbar v / L$.\n",
    "\n",
    "Which one of the two spectra correspond to the presence of a vortex?\n",
    "\n",
    "To answer this question, observe that the energy spectrum $E_n = 2 \\pi\\,n\\,\\hbar v / L$ includes a zero-energy solution, which is an unpaired Majorana mode at the edge! This is impossible unless there is somewhere a place to have a second zero-energy solution. And the only other possible place where we could have a zero-energy solution is the core of the vortex.\n",
    "\n",
    "> Just by looking at the edge state momentum quantization, we have thus demonstrated that a vortex in a $p$-wave superconductor must come with a Majorana.\n",
    "\n",
    "Below, we plot the wave function of the lowest energy state in a $p$-wave disk with a vortex in the middle. The lowest energy wavefunction is an equal superposition of the two Majorana modes. Here you can see that half of it is localized close to the vortex core and half of it close to the edge."
   ]
  },
  {
   "cell_type": "code",
   "execution_count": 5,
   "metadata": {
    "collapsed": false
   },
   "outputs": [
    {
     "data": {
      "image/png": "[encoded data removed]",
      "text/plain": [
       "<matplotlib.figure.Figure at 0x7f19870cdf98>"
      ]
     },
     "metadata": {},
     "output_type": "display_data"
    }
   ],
   "source": [
    "import matplotlib.cm\n",
    "import matplotlib.colors as mcolors\n",
    "colors = matplotlib.cm.gist_heat_r(np.linspace(0, 1, 128)**.25)\n",
    "gist_heat_r_rescaled = mcolors.LinearSegmentedColormap.from_list('gist_heat_r_rescaled', colors)\n",
    "\n",
    "p = SimpleNamespace(t=1.0, mu=0.4, delta=0.5, phase=lambda x, y: np.angle(x+1j*y))\n",
    "l = 60\n",
    "w = 60\n",
    "sys = make_2d_pwave(w, l)\n",
    "energies, states, densities = calc_energies(sys, p, num_orbitals=2, num_states=10)\n",
    "kwant.plotter.map(sys, densities[:, 0], cmap=gist_heat_r_rescaled, show=False, colorbar=False)\n",
    "plt.show()"
   ]
  },
  {
   "cell_type": "markdown",
   "metadata": {},
   "source": [
    "The wave function is not zero in the bulk between the edge and the vortex because of the relatively small size of the system. The separation between edge and vortex, or between different vortices, plays the same role as the finite length of a Kitaev chain, i.e. it splits the Majorana modes away from zero energy by an exponentially small amount."
   ]
  },
  {
   "cell_type": "code",
   "execution_count": 6,
   "metadata": {
    "collapsed": false
   },
   "outputs": [
    {
     "data": {
      "text/html": [
       "<h4>What happens if you add a second vortex to the superconductor? Imagine that the vortices and edge are all very far away from each other</h4><form><input type=\"radio\" name=\"answer\" value=\"The second vortex has no Majorana.\">The second vortex has no Majorana.<br><input type=\"radio\" name=\"answer\" value=\"Both vortices have a Majorana, and the edge has two Majoranas.\">Both vortices have a Majorana, and the edge has two Majoranas.<br><input type=\"radio\" name=\"answer\" value=\"The Majorana mode at the edge goes away, and each vortex has its own Majorana.\">The Majorana mode at the edge goes away, and each vortex has its own Majorana.<br><input type=\"radio\" name=\"answer\" value=\"Vortices can only be added in pairs because Majoranas only come in pairs.\">Vortices can only be added in pairs because Majoranas only come in pairs.<br></form>\n",
       "        <button title=\"Click to show/hide content\" type=\"button\"\n",
       "        onclick=\"if(document.getElementById('6654bb3c3e830edf4e609d4d3cead0c4')\n",
       "         .style.display=='none') {document.getElementById('6654bb3c3e830edf4e609d4d3cead0c4')\n",
       "         .style.display=''}else{document.getElementById('6654bb3c3e830edf4e609d4d3cead0c4')\n",
       "         .style.display='none'}\">Show answer</button>\n",
       "\n",
       "        <div id=\"6654bb3c3e830edf4e609d4d3cead0c4\" style=\"display:none\">The correct answer is: <br>The Majorana mode at the edge goes away, and each vortex has its own Majorana.<br><i>The energy spectrum of the edge is shifted by $\\hbar v \\pi/L$ by the addition of a second vortex, so the edge has no Majoranas now. The first vortex is not affected, and we know that it has a Majorana. And so, of course, the second vortex must have a Majorana as well.</i></div>"
      ],
      "text/plain": [
       "MoocMultipleChoiceAssessment(**{'display_name': 'Question', 'correct_answer': 2, 'answers': ['The second vortex has no Majorana.', 'Both vortices have a Majorana, and the edge has two Majoranas.', 'The Majorana mode at the edge goes away, and each vortex has its own Majorana.', 'Vortices can only be added in pairs because Majoranas only come in pairs.'], 'max_attempts': 2, 'explanation': 'The energy spectrum of the edge is shifted by $\\\\hbar v \\\\pi/L$ by the addition of a second vortex, so the edge has no Majoranas now. The first vortex is not affected, and we know that it has a Majorana. And so, of course, the second vortex must have a Majorana as well.', 'question': 'What happens if you add a second vortex to the superconductor? Imagine that the vortices and edge are all very far away from each other'})"
      ]
     },
     "execution_count": 6,
     "metadata": {},
     "output_type": "execute_result"
    }
   ],
   "source": [
    "question = (\"What happens if you add a second vortex to the superconductor? \"\n",
    "            \"Imagine that the vortices and edge are all very far away from each other\")\n",
    "\n",
    "answers = [\"The second vortex has no Majorana.\",\n",
    "           \"Both vortices have a Majorana, and the edge has two Majoranas.\",\n",
    "           \"The Majorana mode at the edge goes away, and each vortex has its own Majorana.\",\n",
    "           \"Vortices can only be added in pairs because Majoranas only come in pairs.\"]\n",
    "\n",
    "explanation = (\"The energy spectrum of the edge is shifted by $\\hbar v \\pi/L$ by the addition of a second vortex, \"\n",
    "               \"so the edge has no Majoranas now. The first vortex is not affected, and we know that it has a Majorana. \"\n",
    "               \"And so, of course, the second vortex must have a Majorana as well.\")\n",
    "\n",
    "MoocMultipleChoiceAssessment(question=question, answers=answers, correct_answer=2, explanation=explanation)"
   ]
  },
  {
   "cell_type": "markdown",
   "metadata": {},
   "source": [
    "# Vortices in 3D topological insulator"
   ]
  },
  {
   "cell_type": "markdown",
   "metadata": {},
   "source": [
    "Unfortunately, superconductors with $p$-wave pairing are very rare, with mainly [one material](http://en.wikipedia.org/wiki/Strontium_ruthenate) being a good candidate. But instead waiting for nature to help us, we can try to be ingenious.\n",
    "\n",
    "As Carlo mentioned, Fu and Kane [realized](http://arxiv.org/abs/0707.1692) that one could obtain an effective $p$-wave superconductor and Majoranas on the surface of a 3D TI.\n",
    "\n",
    "We already know how to make Majoranas with a 2D topological insulator. Let us now consider an interface between a magnet and a superconductor on the surface of a 3D topological insulator. Since the surface of the 3D TI is two dimensional, such an interface will be a one dimensional structure and not a point defect as in the quantum spin-Hall case.\n",
    "\n",
    "The Hamiltonian of the surface is a very simple extension of the edge Hamiltonian,  $\\sigma_x k_x + \\sigma_y k_y$ instead of just $\\sigma_x k_x$. We can imagine that $k_y$ is the momentum along the interface between the magnet and the superconductor, and it is conserved. The effective Bogoliubov-de Gennes Hamiltonian is\n",
    "\n",
    "$$H_\\textrm{BdG}=(-i\\sigma_x \\partial_x+ \\sigma_y k_y-\\mu)\\tau_z+m(x)\\,\\sigma_z+\\Delta(x) \\tau_x.$$\n",
    "\n",
    "What is the dispersion $E(k_y)$ of states along the interface resulting from this Hamiltonian? Well, for $k_y=0$ we have exactly the Hamiltonian of the magnet/superconductor interface in the quantum spin-Hall case, which had a zero mode. So we know that the interface is gapless. The magnet breaks time-reversal symmetry, so we will have a chiral edge state, with energy $E$ proportional to $k_y$. Just like in the $p$-wave superconductor case!\n",
    "\n",
    "At this point, analyzing the case of a vortex is very simple. We just have to reproduce the geometry we analyzed before. That is, we imagine an $s$-wave superconductor disk with a vortex in the middle, surrounded by a magnetic insulator, all on the surface of a 3D topological insulator:"
   ]
  },
  {
   "cell_type": "markdown",
   "metadata": {},
   "source": [
    "![](figures/3d_ti_vortex.svg)"
   ]
  },
  {
   "cell_type": "markdown",
   "metadata": {},
   "source": [
    "The introduction of a vortex changes the boundary conditions for the momentum at the edge, like in the $p$-wave case, and thus affects the spectrum of the chiral edge states going around the disk.\n",
    "\n",
    ">Following the same argument as in the $p$-wave case, particle-hole symmetry dictates that there is a Majorana mode in the vortex core on a 3D TI. Interestingly, the vortex core is spatially separated from the magnet - so the vortex should contain a Majorana mode irrespective of the magnet that was used to create the chiral edge mode.\n",
    "\n",
    "In fact, the magnet was only a crutch that we used to make our argument. We can now throw it away and consider a vortex in a superconductor which covers the entire surface of the topological insulator.\n",
    "\n",
    "To confirm this conclusion, below we show the result of a simulation of a 3D BHZ model in a cube geometry, with a vortex line passing through the middle of the cube. To make things simple, we have added superconductivity everywhere in the cube, and not just on the surface (nothing prevents us from doing this, even though in real life materials like Bi$_2$Te$_3$ are not naturally superconducting)."
   ]
  },
  {
   "cell_type": "code",
   "execution_count": 7,
   "metadata": {
    "collapsed": false
   },
   "outputs": [
    {
     "data": {
      "image/png": "[encoded data removed]",
      "text/plain": [
       "<matplotlib.figure.Figure at 0x7f19870cd160>"
      ]
     },
     "metadata": {},
     "output_type": "display_data"
    }
   ],
   "source": [
    "import matplotlib.cm\n",
    "import matplotlib.colors as mcolors\n",
    "colors = matplotlib.cm.gist_heat_r(np.linspace(0, 1, 128))\n",
    "colors[:, 3] = np.linspace(0, 1, 128)\n",
    "gist_heat_r_transparent = mcolors.LinearSegmentedColormap.from_list('gist_heat_r_transparent', colors)\n",
    "l, w, h = 10, 10, 25\n",
    "sys = bhz_slab(l, w, h)\n",
    "\n",
    "p = SimpleNamespace(A1=0.5, A2=0.5, B1=0.5, B2=0.5, C=-0.2, D1=0.1, D2=0.0, M=-0.2,\n",
    "                    delta=0.15, phase=lambda x, y: np.angle(x + 1j * y))\n",
    "\n",
    "energies, states, densities = calc_energies(sys, p, num_orbitals=8, num_states=10)\n",
    "\n",
    "fig = plt.figure(figsize=(9, 3.5))\n",
    "\n",
    "ax0 = fig.add_subplot(121, projection='3d')\n",
    "kwant.plot(sys, ax=ax0, site_size=0.3)\n",
    "ax0.set_xlim(-w/2-2, w/2+2)\n",
    "ax0.set_ylim(-l/2-2, l/2+2)\n",
    "ax0.set_yticks([])\n",
    "ax0.set_xticks([])\n",
    "ax0.set_zlim3d([0, h])\n",
    "ax0.set_zticks([0, h])\n",
    "ax0.set_zticklabels(['$0$', '$%d$' % h])\n",
    "densities /= np.max(densities, axis=0, keepdims=True)\n",
    "\n",
    "ax1 = fig.add_subplot(122, projection='3d')\n",
    "kwant.plotter.plot(sys, site_color=densities[:, 0], ax=ax1,\n",
    "                   cmap=gist_heat_r_transparent, colorbar=False, site_lw=0)\n",
    "\n",
    "ax1.set_xlim(-w/2-2, w/2+2)\n",
    "ax1.set_ylim(-l/2-2, l/2+2)\n",
    "ax1.set_yticks([])\n",
    "ax1.set_xticks([])\n",
    "ax1.set_zlim3d([0, h])\n",
    "ax1.set_zticks([0, h])\n",
    "ax1.set_zticklabels(['$0$', '$%d$' % h])\n",
    "plt.show()"
   ]
  },
  {
   "cell_type": "markdown",
   "metadata": {},
   "source": [
    "In the right panel, you can see a plot of the wavefunction of the lowest energy state. You see that it is very well localized at the end points of the vortex line passing through the cube. These are precisely the two Majorana modes that Carlo Beenakker explained at the end of his introductory video."
   ]
  },
  {
   "cell_type": "markdown",
   "metadata": {},
   "source": [
    "# Conclusions"
   ]
  },
  {
   "cell_type": "code",
   "execution_count": 8,
   "metadata": {
    "collapsed": false
   },
   "outputs": [
    {
     "data": {
      "image/jpeg": "[encoded data removed]",
      "text/html": [
       "\n",
       "        <iframe\n",
       "            width=\"400\"\n",
       "            height=\"300\"\n",
       "            src=\"https://www.youtube.com/embed/B7lMz-NrKec?cc_load_policy=1&rel=0\"\n",
       "            frameborder=\"0\"\n",
       "            allowfullscreen\n",
       "        ></iframe>\n",
       "        "
      ],
      "text/plain": [
       "MoocVideo(**{'display_name': '', 'youtube': '1.00:B7lMz-NrKec', 'source': 'http://delftxdownloads.tudelft.nl/TOPOCMx-QuantumKnots/TOPOCMx-7.1-summary-video.720.mp4', 'show_captions': 'true', 'download_video': 'true', 'youtube_id_1_0': 'B7lMz-NrKec', 'download_track': 'true'})"
      ]
     },
     "execution_count": 8,
     "metadata": {},
     "output_type": "execute_result"
    }
   ],
   "source": [
    "MoocVideo(\"B7lMz-NrKec\", src_location=\"7.1-summary\")"
   ]
  },
  {
   "cell_type": "markdown",
   "metadata": {},
   "source": [
    "Questions about what you just learned? Ask them below!"
   ]
  },
  {
   "cell_type": "code",
   "execution_count": 9,
   "metadata": {
    "collapsed": false
   },
   "outputs": [
    {
     "data": {
      "text/html": [
       "<p><b>Discussion</b> entitled 'Majoranas in topological insulators' is available in the online version of the course.</p>"
      ],
      "text/plain": [
       "MoocDiscussion(**{'discussion_category': 'Questions', 'discussion_id': '243b53c9a4fe3481da813e6be3c13abb', 'display_name': 'Majoranas in topological insulators', 'discussion_target': 'Majoranas in topological insulators'})"
      ]
     },
     "execution_count": 9,
     "metadata": {},
     "output_type": "execute_result"
    }
   ],
   "source": [
    "MoocDiscussion(\"Questions\", \"Majoranas in topological insulators\")"
   ]
  }
 ],
 "metadata": {
  "kernelspec": {
   "display_name": "Python 3",
   "language": "python",
   "name": "python3"
  },
  "language_info": {
   "codemirror_mode": {
    "name": "ipython",
    "version": 3
   },
   "file_extension": ".py",
   "mimetype": "text/x-python",
   "name": "python",
   "nbconvert_exporter": "python",
   "pygments_lexer": "ipython3"
  }
 },
 "nbformat": 4,
 "nbformat_minor": 0
}
