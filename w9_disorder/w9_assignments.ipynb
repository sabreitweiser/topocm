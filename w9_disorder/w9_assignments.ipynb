{
 "cells": [
  {
   "cell_type": "code",
   "execution_count": 1,
   "metadata": {
    "collapsed": false
   },
   "outputs": [
    {
     "name": "stdout",
     "output_type": "stream",
     "text": [
      "Populated the namespace with:\n",
      "np, matplotlib, kwant, holoviews, init_notebook, interact, display_html, plt, pf, SimpleNamespace, pprint_matrix, scientific_number, pretty_fmt_complex\n",
      "from code/edx_components:\n",
      "MoocVideo, PreprintReference, MoocDiscussion, MoocCheckboxesAssessment, MoocMultipleChoiceAssessment, MoocPeerAssessment, MoocSelfAssessment\n",
      "from code/functions:\n",
      "spectrum, hamiltonian_array, h_k, pauli\n"
     ]
    },
    {
     "data": {
      "text/html": [
       "\n",
       "<script src=\"https://code.jquery.com/ui/1.10.4/jquery-ui.min.js\" type=\"text/javascript\"></script>\n",
       "<script type=\"text/javascript\">function HoloViewsWidget(){\n",
       "}\n",
       "\n",
       "HoloViewsWidget.prototype.init_slider = function(init_val){\n",
       "\tif(this.load_json) {\n",
       "\t\tthis.from_json()\n",
       "\t} else {\n",
       "\t\tthis.update_cache();\n",
       "\t}\n",
       "}\n",
       "\n",
       "HoloViewsWidget.prototype.populate_cache = function(idx){\n",
       "    this.cache[idx].html(this.frames[idx]);\n",
       "    if (this.embed) {\n",
       "        delete this.frames[idx];\n",
       "    }\n",
       "}\n",
       "\n",
       "HoloViewsWidget.prototype.process_error = function(msg){\n",
       "\n",
       "}\n",
       "\n",
       "HoloViewsWidget.prototype.from_json = function() {\n",
       "\tvar data_url = this.json_path + this.id + '.json';\n",
       "\t$.getJSON(data_url, $.proxy(function(json_data) {\n",
       "\t\tthis.frames = json_data;\n",
       "\t\tthis.update_cache();\n",
       "\t\tthis.update(0);\n",
       "\t}, this));\n",
       "}\n",
       "\n",
       "HoloViewsWidget.prototype.dynamic_update = function(current){\n",
       "    function callback(msg){\n",
       "        /* This callback receives data from Python as a string\n",
       "         in order to parse it correctly quotes are sliced off*/\n",
       "        var data = msg.content.data['text/plain'].slice(1, -1);\n",
       "        this.frames[current] = data;\n",
       "        this.update_cache();\n",
       "        this.update(current);\n",
       "    }\n",
       "    if(!(current in this.cache)) {\n",
       "        var kernel = IPython.notebook.kernel;\n",
       "        callbacks = {iopub: {output: $.proxy(callback, this)}};\n",
       "        var cmd = \"holoviews.plotting.widgets.NdWidget.widgets['\" + this.id + \"'].update(\" + current + \")\";\n",
       "        kernel.execute(\"import holoviews;\" + cmd, callbacks, {silent : false});\n",
       "    } else {\n",
       "        this.update(current);\n",
       "    }\n",
       "}\n",
       "\n",
       "HoloViewsWidget.prototype.update_cache = function(){\n",
       "    var frame_len = Object.keys(this.frames).length;\n",
       "    for (var i=0; i<frame_len; i++) {\n",
       "        if(!this.load_json || this.dynamic)  {\n",
       "            frame = Object.keys(this.frames)[i];\n",
       "        } else {\n",
       "            frame = i;\n",
       "        }\n",
       "        if(!(frame in this.cache)) {\n",
       "            this.cache[frame] = $('<div />').appendTo(\"#\" + this.img_id).hide();\n",
       "            var cache_id = this.img_id+\"_\"+frame;\n",
       "            this.cache[frame].attr(\"id\", cache_id);\n",
       "            this.populate_cache(frame);\n",
       "        }\n",
       "    }\n",
       "}\n",
       "\n",
       "HoloViewsWidget.prototype.update = function(current){\n",
       "    if(current in this.cache) {\n",
       "        $.each(this.cache, function(index, value) {\n",
       "            value.hide();\n",
       "        });\n",
       "        this.cache[current].show();\n",
       "    }\n",
       "}\n",
       "\n",
       "\n",
       "function SelectionWidget(frames, id, slider_ids, keyMap, dim_vals, notFound, load_json, mode, cached, json_path, dynamic){\n",
       "    this.frames = frames;\n",
       "    this.fig_id = \"fig_\" + id;\n",
       "    this.img_id = \"_anim_img\" + id;\n",
       "    this.id = id;\n",
       "    this.slider_ids = slider_ids;\n",
       "    this.keyMap = keyMap\n",
       "    this.current_frame = 0;\n",
       "    this.current_vals = dim_vals;\n",
       "    this.load_json = load_json;\n",
       "    this.mode = mode;\n",
       "    this.notFound = notFound;\n",
       "    this.cached = cached;\n",
       "    this.dynamic = dynamic;\n",
       "    this.cache = {};\n",
       "\tthis.json_path = json_path;\n",
       "    this.init_slider(this.current_vals[0]);\n",
       "}\n",
       "\n",
       "SelectionWidget.prototype = new HoloViewsWidget;\n",
       "\n",
       "SelectionWidget.prototype.set_frame = function(dim_val, dim_idx){\n",
       "    this.current_vals[dim_idx] = dim_val;\n",
       "    if(this.dynamic) {\n",
       "        this.dynamic_update(this.current_vals)\n",
       "        return;\n",
       "    }\n",
       "    var key = \"(\";\n",
       "    for (var i=0; i<this.slider_ids.length; i++)\n",
       "    {\n",
       "        val = this.current_vals[i];\n",
       "        if (!(_.isString(val))) {\n",
       "            if (val % 1 === 0) { var fixed = 1;}\n",
       "            else { var fixed = 10;}\n",
       "            val = val.toFixed(fixed)\n",
       "        }\n",
       "        key += \"'\" + val + \"'\";\n",
       "        if(i != this.slider_ids.length-1) { key += ', ';}\n",
       "        else if(this.slider_ids.length == 1) { key += ',';}\n",
       "    }\n",
       "    key += \")\";\n",
       "    var current = this.keyMap[key];\n",
       "    this.current_frame = current;\n",
       "    if(this.cached) {\n",
       "        this.update(current)\n",
       "    } else {\n",
       "        this.dynamic_update(current)\n",
       "    }\n",
       "}\n",
       "\n",
       "\n",
       "/* Define the ScrubberWidget class */\n",
       "function ScrubberWidget(frames, num_frames, id, interval, load_json, mode, cached, json_path, dynamic){\n",
       "    this.img_id = \"_anim_img\" + id;\n",
       "    this.slider_id = \"_anim_slider\" + id;\n",
       "    this.loop_select_id = \"_anim_loop_select\" + id;\n",
       "    this.id = id;\n",
       "    this.fig_id = \"fig_\" + id;\n",
       "    this.interval = interval;\n",
       "    this.current_frame = 0;\n",
       "    this.direction = 0;\n",
       "    this.dynamic = dynamic;\n",
       "    this.timer = null;\n",
       "    this.load_json = load_json;\n",
       "    this.mode = mode;\n",
       "    this.cached = cached;\n",
       "    this.frames = frames;\n",
       "    this.cache = {};\n",
       "    this.length = num_frames;\n",
       "\tthis.json_path = json_path;\n",
       "    document.getElementById(this.slider_id).max = this.length - 1;\n",
       "    this.init_slider(0);\n",
       "}\n",
       "\n",
       "ScrubberWidget.prototype = new HoloViewsWidget;\n",
       "\n",
       "ScrubberWidget.prototype.set_frame = function(frame){\n",
       "    this.current_frame = frame;\n",
       "    document.getElementById(this.slider_id).value = this.current_frame;\n",
       "    if(this.cached) {\n",
       "        this.update(frame)\n",
       "    } else {\n",
       "        this.dynamic_update(frame)\n",
       "    }\n",
       "}\n",
       "\n",
       "\n",
       "ScrubberWidget.prototype.process_error = function(msg){\n",
       "\tif (msg.content.ename === 'StopIteration') {\n",
       "\t\tthis.pause_animation();\n",
       "\t\tvar keys = Object.keys(this.frames)\n",
       "\t\tthis.length = keys.length;\n",
       "\t\tdocument.getElementById(this.slider_id).max = this.length-1;\n",
       "\t\tdocument.getElementById(this.slider_id).value = this.length-1;\n",
       "\t\tthis.current_frame = this.length-1;\n",
       "\t}\n",
       "}\n",
       "\n",
       "\n",
       "ScrubberWidget.prototype.get_loop_state = function(){\n",
       "    var button_group = document[this.loop_select_id].state;\n",
       "    for (var i = 0; i < button_group.length; i++) {\n",
       "        var button = button_group[i];\n",
       "        if (button.checked) {\n",
       "            return button.value;\n",
       "        }\n",
       "    }\n",
       "    return undefined;\n",
       "}\n",
       "\n",
       "\n",
       "ScrubberWidget.prototype.next_frame = function() {\n",
       "\tif (this.dynamic && this.current_frame + 1 >= this.length) {\n",
       "\t\tthis.length += 1;\n",
       "        document.getElementById(this.slider_id).max = this.length-1;\n",
       "\t}\n",
       "    this.set_frame(Math.min(this.length - 1, this.current_frame + 1));\n",
       "}\n",
       "\n",
       "ScrubberWidget.prototype.previous_frame = function() {\n",
       "    this.set_frame(Math.max(0, this.current_frame - 1));\n",
       "}\n",
       "\n",
       "ScrubberWidget.prototype.first_frame = function() {\n",
       "    this.set_frame(0);\n",
       "}\n",
       "\n",
       "ScrubberWidget.prototype.last_frame = function() {\n",
       "    this.set_frame(this.length - 1);\n",
       "}\n",
       "\n",
       "ScrubberWidget.prototype.slower = function() {\n",
       "    this.interval /= 0.7;\n",
       "    if(this.direction > 0){this.play_animation();}\n",
       "    else if(this.direction < 0){this.reverse_animation();}\n",
       "}\n",
       "\n",
       "ScrubberWidget.prototype.faster = function() {\n",
       "    this.interval *= 0.7;\n",
       "    if(this.direction > 0){this.play_animation();}\n",
       "    else if(this.direction < 0){this.reverse_animation();}\n",
       "}\n",
       "\n",
       "ScrubberWidget.prototype.anim_step_forward = function() {\n",
       "    if(this.current_frame < this.length || this.dynamic){\n",
       "        this.next_frame();\n",
       "    }else{\n",
       "        var loop_state = this.get_loop_state();\n",
       "        if(loop_state == \"loop\"){\n",
       "            this.first_frame();\n",
       "        }else if(loop_state == \"reflect\"){\n",
       "            this.last_frame();\n",
       "            this.reverse_animation();\n",
       "        }else{\n",
       "            this.pause_animation();\n",
       "            this.last_frame();\n",
       "        }\n",
       "    }\n",
       "}\n",
       "\n",
       "ScrubberWidget.prototype.anim_step_reverse = function() {\n",
       "    this.current_frame -= 1;\n",
       "    if(this.current_frame >= 0){\n",
       "        this.set_frame(this.current_frame);\n",
       "    } else {\n",
       "        var loop_state = this.get_loop_state();\n",
       "        if(loop_state == \"loop\"){\n",
       "            this.last_frame();\n",
       "        }else if(loop_state == \"reflect\"){\n",
       "            this.first_frame();\n",
       "            this.play_animation();\n",
       "        }else{\n",
       "            this.pause_animation();\n",
       "            this.first_frame();\n",
       "        }\n",
       "    }\n",
       "}\n",
       "\n",
       "ScrubberWidget.prototype.pause_animation = function() {\n",
       "    this.direction = 0;\n",
       "    if (this.timer){\n",
       "        clearInterval(this.timer);\n",
       "        this.timer = null;\n",
       "    }\n",
       "}\n",
       "\n",
       "ScrubberWidget.prototype.play_animation = function() {\n",
       "    this.pause_animation();\n",
       "    this.direction = 1;\n",
       "    var t = this;\n",
       "    if (!this.timer) this.timer = setInterval(function(){t.anim_step_forward();}, this.interval);\n",
       "}\n",
       "\n",
       "ScrubberWidget.prototype.reverse_animation = function() {\n",
       "    this.pause_animation();\n",
       "    this.direction = -1;\n",
       "    var t = this;\n",
       "    if (!this.timer) this.timer = setInterval(function(){t.anim_step_reverse();}, this.interval);\n",
       "}\n",
       "\n",
       "function extend(destination, source) {\n",
       "    for (var k in source) {\n",
       "        if (source.hasOwnProperty(k)) {\n",
       "            destination[k] = source[k];\n",
       "        }\n",
       "    }\n",
       "    return destination;\n",
       "}\n",
       "\n",
       "function update_widget(widget, values) {\n",
       "\tif (widget.hasClass(\"ui-slider\")) {\n",
       "\t\twidget.slider('option',\n",
       "\t\t\t\t\t  {'min': 0, 'max': values.length-1,\n",
       "\t\t\t\t\t   'dim_vals': values, 'value': 0})\n",
       "\t\twidget.slider('option', 'slide').call(widget, event, {'value': 0})\n",
       "\t} else {\n",
       "\t\twidget.empty();\n",
       "\t\tfor (var i=0; i<values.length; i++){\n",
       "\t\t\twidget.append($(\"<option>\", {\n",
       "\t\t\t\tvalue: i,\n",
       "\t\t\t\ttext: values[i]\n",
       "\t\t\t}))};\n",
       "\t\twidget.trigger(\"change\");\n",
       "\t};\n",
       "}\n",
       "\n",
       "// Define Bokeh specific subclasses\n",
       "function BokehSelectionWidget() {\n",
       "\tSelectionWidget.apply(this, arguments);\n",
       "}\n",
       "\n",
       "function BokehScrubberWidget() {\n",
       "\tScrubberWidget.apply(this, arguments);\n",
       "}\n",
       "\n",
       "// Let them inherit from the baseclasses\n",
       "BokehSelectionWidget.prototype = Object.create(SelectionWidget.prototype);\n",
       "BokehScrubberWidget.prototype = Object.create(ScrubberWidget.prototype);\n",
       "\n",
       "// Define methods to override on widgets\n",
       "var BokehMethods = {\n",
       "\tupdate_cache : function(){\n",
       "\t\t$.each(this.frames, $.proxy(function(index, frame) {\n",
       "\t\t\tthis.frames[index] = JSON.parse(frame);\n",
       "\t\t}, this));\n",
       "\t},\n",
       "\tupdate : function(current){\n",
       "\t\tif (current === undefined) {\n",
       "\t\t\tvar data = undefined;\n",
       "\t\t} else {\n",
       "\t\t\tvar data = this.frames[current];\n",
       "\t\t}\n",
       "\t\tif (data !== undefined) {\n",
       "\t\t\tif (data.root !== undefined) {\n",
       "\t\t\t\tvar doc = Bokeh.index[data.root].model.document;\n",
       "\t\t\t}\n",
       "\t\t\t$.each(data.data, function(i, value) {\n",
       "\t\t\t\tif (data.root !== undefined) {\n",
       "\t\t\t\t\tvar ds = doc.get_model_by_id(value.id);\n",
       "\t\t\t\t} else {\n",
       "\t\t\t\t\tvar ds = Bokeh.Collections(value.type).get(value.id);\n",
       "\t\t\t\t}\n",
       "\t\t\t\tif (ds != undefined) {\n",
       "\t\t\t\t\tds.set(value.data);\n",
       "\t\t\t\t\tds.trigger('change');\n",
       "\t\t\t\t}\n",
       "\t\t\t});\n",
       "\t\t}\n",
       "\t},\n",
       "\tdynamic_update : function(current){\n",
       "\t\tif (current === undefined) {\n",
       "\t\t\treturn\n",
       "\t\t}\n",
       "\t\tif(this.dynamic) {\n",
       "\t\t\tcurrent = JSON.stringify(current);\n",
       "\t\t}\n",
       "\t\tfunction callback(initialized, msg){\n",
       "\t\t\t/* This callback receives data from Python as a string\n",
       "\t\t\t in order to parse it correctly quotes are sliced off*/\n",
       "\t\t\tif (msg.content.ename != undefined) {\n",
       "\t\t\t\tthis.process_error(msg);\n",
       "\t\t\t}\n",
       "\t\t\tif (msg.msg_type != \"execute_result\") {\n",
       "\t\t\t\tconsole.log(\"Warning: HoloViews callback returned unexpected data for key: (\", current, \") with the following content:\", msg.content)\n",
       "\t\t\t\treturn\n",
       "\t\t\t}\n",
       "\t\t\tif (msg.msg_type == \"execute_result\") {\n",
       "\t\t\t\tvar data = msg.content.data['text/plain'].slice(1, -1);\n",
       "\t\t\t\tthis.frames[current] = JSON.parse(data);\n",
       "\t\t\t\tthis.update(current);\n",
       "\t\t\t}\n",
       "\t\t}\n",
       "\t\tvar kernel = IPython.notebook.kernel;\n",
       "\t\tcallbacks = {iopub: {output: $.proxy(callback, this, this.initialized)}};\n",
       "\t\tvar cmd = \"holoviews.plotting.widgets.NdWidget.widgets['\" + this.id + \"'].update(\" + current + \")\";\n",
       "\t\tkernel.execute(\"import holoviews;\" + cmd, callbacks, {silent : false});\n",
       "\t}\n",
       "}\n",
       "\n",
       "// Extend Bokeh widgets with backend specific methods\n",
       "extend(BokehSelectionWidget.prototype, BokehMethods);\n",
       "extend(BokehScrubberWidget.prototype, BokehMethods);\n",
       "\n",
       "// Define MPL specific subclasses\n",
       "function MPLSelectionWidget() {\n",
       "\tSelectionWidget.apply(this, arguments);\n",
       "}\n",
       "\n",
       "function MPLScrubberWidget() {\n",
       "\tScrubberWidget.apply(this, arguments);\n",
       "}\n",
       "\n",
       "// Let them inherit from the baseclasses\n",
       "MPLSelectionWidget.prototype = Object.create(SelectionWidget.prototype);\n",
       "MPLScrubberWidget.prototype = Object.create(ScrubberWidget.prototype);\n",
       "\n",
       "// Define methods to override on widgets\n",
       "var MPLMethods = {\n",
       "\tinit_slider : function(init_val){\n",
       "\t\tif(this.load_json) {\n",
       "\t\t\tthis.from_json()\n",
       "\t\t} else {\n",
       "\t\t\tthis.update_cache();\n",
       "\t\t}\n",
       "\t\tthis.update(0);\n",
       "\t\tif(this.mode == 'nbagg') {\n",
       "\t\t\tthis.set_frame(init_val, 0);\n",
       "\t\t}\n",
       "\t},\n",
       "\tpopulate_cache : function(idx){\n",
       "\t\tvar cache_id = this.img_id+\"_\"+idx;\n",
       "\t\tif(this.mode == 'mpld3') {\n",
       "\t\t\tmpld3.draw_figure(cache_id, this.frames[idx]);\n",
       "\t\t} else {\n",
       "\t\t\tthis.cache[idx].html(this.frames[idx]);\n",
       "\t\t}\n",
       "\t\tif (this.embed) {\n",
       "\t\t\tdelete this.frames[idx];\n",
       "\t\t}\n",
       "\t},\n",
       "\tdynamic_update : function(current){\n",
       "\t\tif (this.dynamic) {\n",
       "\t\t\tcurrent = JSON.stringify(current);\n",
       "\t\t}\n",
       "\t\tfunction callback(msg){\n",
       "\t\t\t/* This callback receives data from Python as a string\n",
       "\t\t\t in order to parse it correctly quotes are sliced off*/\n",
       "\t\t\tif (msg.content.ename != undefined) {\n",
       "\t\t\t\tthis.process_error(msg);\n",
       "\t\t\t}\n",
       "\t\t\tif (msg.msg_type != \"execute_result\") {\n",
       "\t\t\t\tconsole.log(\"Warning: HoloViews callback returned unexpected data for key: (\", current, \") with the following content:\", msg.content)\n",
       "\t\t\t\treturn\n",
       "\t\t\t}\n",
       "\t\t\tif (!(this.mode == 'nbagg')) {\n",
       "\t\t\t\tif(!(current in this.cache)) {\n",
       "\t\t\t\t\tvar data = msg.content.data['text/plain'].slice(1, -1);\n",
       "\t\t\t\t\tif(this.mode == 'mpld3'){\n",
       "\t\t\t\t\t\tdata = JSON.parse(data)[0];\n",
       "\t\t\t\t\t}\n",
       "\t\t\t\t\tthis.frames[current] = data;\n",
       "\t\t\t\t\tthis.update_cache();\n",
       "\t\t\t\t}\n",
       "\t\t\t\tthis.update(current);\n",
       "\t\t\t}\n",
       "\t\t}\n",
       "\t\tvar kernel = IPython.notebook.kernel;\n",
       "\t\tcallbacks = {iopub: {output: $.proxy(callback, this)}};\n",
       "\t\tvar cmd = \"holoviews.plotting.widgets.NdWidget.widgets['\" + this.id + \"'].update(\" + current + \")\";\n",
       "\t\tkernel.execute(\"import holoviews;\" + cmd, callbacks, {silent : false});\n",
       "\t}\n",
       "}\n",
       "\n",
       "// Extend MPL widgets with backend specific methods\n",
       "extend(MPLSelectionWidget.prototype, MPLMethods);\n",
       "extend(MPLScrubberWidget.prototype, MPLMethods);\n",
       "</script>\n",
       "\n",
       "\n",
       "<link rel=\"stylesheet\" href=\"https://code.jquery.com/ui/1.10.4/themes/smoothness/jquery-ui.css\">\n",
       "<style>div.bk-hbox {\n",
       "    display: flex;\n",
       "    justify-content: center;\n",
       "}\n",
       "\n",
       "div.bk-hbox div.bk-plot {\n",
       "    padding: 8px;\n",
       "}\n",
       "\n",
       "div.bk-hbox div.bk-data-table {\n",
       "    padding: 20px;\n",
       "}\n",
       "\n",
       "div.hololayout {\n",
       "    display: flex;\n",
       "    align-items: center;\n",
       "    margin: 0;\n",
       "}\n",
       "\n",
       "div.holowell {\n",
       "    display: flex;\n",
       "    align-items: center;\n",
       "    margin: 0;\n",
       "}\n",
       "\n",
       "form.holoform {\n",
       "    background-color: #fafafa;\n",
       "    border-radius: 5px;\n",
       "    overflow: hidden;\n",
       "    padding: 0.8em;\n",
       "}\n",
       "\n",
       "div.holowidgets {\n",
       "    padding-right: 0;\n",
       "}\n",
       "\n",
       "div.holoslider {\n",
       "    min-height: 0 !important;\n",
       "    height: 0.8em;\n",
       "}\n",
       "\n",
       "div.holoformgroup {\n",
       "    padding-right: 0.5em;\n",
       "    padding-top: 0.5em;\n",
       "    margin-bottom: 0.5em;\n",
       "}\n",
       "\n",
       "div.hologroup {\n",
       "    padding-left: 0;\n",
       "    padding-right: 0;\n",
       "}\n",
       "\n",
       ".holoselect {\n",
       "    width: 92%;\n",
       "    margin-left: 0;\n",
       "    margin-right: 0;\n",
       "}\n",
       "\n",
       ".holotext {\n",
       "    width: 100%;\n",
       "    padding-left:  0.5em;\n",
       "    padding-right: 0;\n",
       "}\n",
       "</style>\n",
       "\n",
       "\n",
       "<div>\n",
       "<img src='data:image/png;base64,iVBORw0KGgoAAAANSUhEUgAAABkAAAAZCAIAAABLixI0AAAACXBIWXMAAAsTAAALEwEAmpwYAAAAB3RJTUUH3wkCDDIOi3cusgAABT1JREFUOMtVlclvG2UYh3/fMovHe53FThySNHZomrRJl6QR0AJdpVblQBEHJC4ciipxAgmO3PgPEP8BQkIsRUJUSF1oqGih0JY2CtnjOLGz2Em8xPbMeL6Pw9RJOprLjPT+5tH7Pu83JE7pqeHh8wMD2evfyXMXf/nxB2FZo6dPNzVHvvr6GxMQeOEigARswNzzUgK6x8NagPzS0nqxODQ62nLn1xMnX99/eLC3sGVROj2/IBxHABKgANlzM4ACTuMRAOecNREiAWtzc0NIEu/M37zVMTWeqlrpUDg1M7NTVgdkowwvxqGRRV1CE8jOznq7uhYAi2CpXtdVVQE4QAAdCAAGwAAJyEa9Amh7PsAihBBAABrg1XUfpe3bxTXb8XR0WJa1VSzWGyAcUAEVoIAARIMOQH2HC4AA6lKW8/n9Pm/Ahl4zV8fGTg0PtzQ3K3tA3GId8AO+BqZLt8sFQKE0GouRSkWtFM63KV0Vy1rJhN44k56cFFI6exJ3MBWANACVHS63aw5QtutVVT/4xWfHv/0ylytmHvx56sIFLxACfIABGIAf8ANRn++9y5evXrkS0XWXd5dLJWRfOHwspA1tr4iFtP3gD8/apjCtSDiyQYhZKNA94wOQTCQPhfzm9FTJH8jn84Tz3SyPlEQ4vf0Dt5/MPE5vpVObzQbxqvaDdL731MnWnh5pmsxxdE3rTCZfO3u2FbL6+2+hzpcKwXA2ldrNUgAVII7TMXhkZnzcAQTgAWI6sgV7YmKivLra1tFxMJk4Ho/r5fLy3btsYS7JHL1YoeHQKldKhcLzLNcdlRDOWDgczuVyOtDt4yN9gRYVmc161TTLmYw9P9e8OHcU5dG2fa3EmhNyKjGwROmzZ8+YqlIAKsDd9jtOenIy1t8vgDJQtuvYrjRT0kMQBRIUQxqSXkSDUIO0YAulvdfxGk/u33eVZs2EeBvu6gCjtKW7Oz81xQBhI73mtATQn/BuZ6wTrezsYX+1Jn+aNR8sl9Zb47l4/O+HD2u27QDgnHUQwhvKuFmRaLS2tkZsmwJSQpqIUzHYyynndx5t/1Vy5gXyhMhorEJIKpViQB0QnFNlZzkbdExRhBAckIAFbFXFetkpg94er004WK6jCniamrRAYHlmxhXFtWTXVfW50SQYDjvVKm+YHVMR10G5VAGrcWAohkEVpbC1RRo7QN2mS0BzuQiJHziwMTurAwrgBTo95NVjnshb3XaF9q1MTM7VeWNv6kJQgAISYAAHuARUQAHA2NCZM35KJ27c6KA4YiBXJlpVro5bkaGN2mStsCy8gAXobpyU7iFhAgxQAB40jMHh4WhnJ6nVpsfGVjOZUQMhi40k9K1FqQZI4ogffd3k33GPobTb5kCIFmriEYjgnABao60KwD68eCnz5PH0vXsr4+OsVIpRvNmpnLvQEozRpm5vxAP107dx+RMlvGTcmw7Xle6DwZlsdbZY05qbAq2ta9msCkhAcM4+yv+3uFZWAA+gA5pEaUOUnpaMohb+/BK7+j76r4IliFoyAv9EjsZ4ZbMmyOKqmdvciiWTL4+OUsY8mkY554d7okGyciuHqgQFVIABlkJ9fV44FLFrz8ecuIZ3u6offzD1fSnFmJSgle35mzcdVQ1Eo23B4Eh7lJdWNgZGohM/r5QAjZEoaDzi0TfKPlFDV/KF35mqs0NN1v3iRrqqAT7Xbdti6UXPImKZaf5SQiUBtAIG0OVXXnmnDUJWb9nET7D8VPba7pAJTKRnxPUpI+v0BXlApZPrlgDaCTke1VqaaLZC/wesjSVVF5Ac7QAAAABJRU5ErkJggg=='\n",
       "     style='width:25px;height:25px; border-radius:12px;'/>\n",
       "\n",
       "HoloViewsJS, MatplotlibJS successfully loaded in this cell.\n",
       "</div>\n"
      ],
      "text/plain": [
       "<IPython.core.display.HTML object>"
      ]
     },
     "metadata": {},
     "output_type": "display_data"
    },
    {
     "data": {
      "text/html": [
       "\n",
       "<script type=text/javascript>\n",
       "/* Add a button for showing or hiding input */\n",
       "on = \"Show input\";\n",
       "off = \"Hide input\";\n",
       "function onoff(){\n",
       "  currentvalue = document.getElementById('onoff').value;\n",
       "  if(currentvalue == off){\n",
       "    document.getElementById(\"onoff\").value=on;\n",
       "      $('div.input').hide();\n",
       "  }else{\n",
       "    document.getElementById(\"onoff\").value=off;\n",
       "      $('div.input').show();\n",
       "  }\n",
       "}\n",
       "\n",
       "/* Launch first notebook cell on start */\n",
       "function launch_first_cell (evt) {\n",
       "  if (!launch_first_cell.executed\n",
       "      && Jupyter.notebook.kernel\n",
       "  ) {\n",
       "    Jupyter.notebook.get_cells()[0].execute();\n",
       "    launch_first_cell.executed = true;\n",
       "  }\n",
       "}\n",
       "\n",
       "$([Jupyter.events]).on('status_started.Kernel notebook_loaded.Notebook', launch_first_cell);\n",
       "</script>\n",
       "\n",
       "<p>Press this button to show/hide the code used in the notebook:\n",
       "<input type=\"button\" class=\"ui-button ui-widget ui-state-default ui-corner-all ui-button-text-only\" value=\"Hide input\" id=\"onoff\" onclick=\"onoff();\"></p>\n",
       "<script type=text/javascript>\n",
       "$(document).ready(function (){if(!(\"IPython\" in window)){onoff();}})\n",
       "</script>"
      ]
     },
     "metadata": {},
     "output_type": "display_data"
    }
   ],
   "source": [
    "import sys\n",
    "sys.path.append('../code')\n",
    "from init_mooc_nb import *\n",
    "init_notebook()"
   ]
  },
  {
   "cell_type": "markdown",
   "metadata": {},
   "source": [
    "#Table of Contents\n",
    "* [Simulations](#Simulations)\n",
    "\t* [1D localization](#1D-localization)\n",
    "\t* [Griffiths phase](#Griffiths-phase)\n",
    "* [Review assignment](#Review-assignment)\n"
   ]
  },
  {
   "cell_type": "markdown",
   "metadata": {},
   "source": [
    "# Simulations"
   ]
  },
  {
   "cell_type": "markdown",
   "metadata": {},
   "source": [
    "## 1D localization"
   ]
  },
  {
   "cell_type": "markdown",
   "metadata": {},
   "source": [
    "As usual, start by grabbing the notebooks of this week (`w9_disorder`). They are once again over [here](http://tiny.cc/topocm_smc)."
   ]
  },
  {
   "cell_type": "markdown",
   "metadata": {},
   "source": [
    "Our aim now is to verify that Anderson localization works in one-dimensional systems."
   ]
  },
  {
   "cell_type": "markdown",
   "metadata": {},
   "source": [
    "Simulate the Anderson model of a ribbon of appropriate and large width $W$  as a function of length $L$.\n",
    "\n",
    "Anderson model is just the simpest [tight binding model on a square lattice](http://kwant-project.org/doc/1.0/tutorial/tutorial1) with random onsite potential.\n",
    "\n",
    "Tune your model in the clean limit such that it has a relatively large number of modes (at least 3). Then calculate conductance as a function of $L$ at a finite disorder, while keeping $W$ constant.\n",
    "\n",
    "The weak disorder regime should look ohmic or classical i.e $g \\sim N_{ch}\\lambda_{MFP}/L$. Here $\\lambda_{MFP}$ is the mean free path, and $N_{ch}$ is the number of channels. \n",
    "\n",
    "First, verify that when $g \\gtrsim 1$ you observe the classical behavior and evaluate the mean free path.\n",
    "\n",
    "Verify that the scaling also holds for different disorder strengths and different widths."
   ]
  },
  {
   "cell_type": "markdown",
   "metadata": {},
   "source": [
    "Examine the plot for larger $L$, but this time plot $\\textrm{ln}(g)$ to verify that at large $L$ the conductance $g$ goes as $g \\sim \\exp(-L/\\xi)$. Try to guess how $\\xi$ is related to $\\lambda_{MFP}$ by comparing the numbers you get from the plot in this part and the previous.\n",
    "\n",
    "Check what happens when you reduce the disorder? Is there sign of a insulator- metal transition at lower disorder?"
   ]
  },
  {
   "cell_type": "markdown",
   "metadata": {},
   "source": [
    "## Griffiths phase"
   ]
  },
  {
   "cell_type": "markdown",
   "metadata": {},
   "source": [
    "A disordered Kitaev chain has a peculiar property. Close to the transition point it can have infinite density of states even despite it is insulating.\n",
    "\n",
    "Calculate the energies of all the states in a finite Kitaev chain with disorder. You'll need to get the Hamiltonian of the chain by using `sys.hamiltonian_submatrix` method, and diagonalize it (check the very beginning of the course if you don't remember how to diagonalize matrices).\n",
    "\n",
    "Do so for many disorder realizations, and build a histograph of the density of states for different values of average $m$ and of disorder strengh around the critical point $m=0$."
   ]
  },
  {
   "cell_type": "markdown",
   "metadata": {},
   "source": [
    "If all goes well, you should observe different behaviors: the density of states in a finite region around $m=0$ has a weak power law divergence, that eventually turns into an actual gap. Check out this paper for details: "
   ]
  },
  {
   "cell_type": "code",
   "execution_count": 2,
   "metadata": {
    "collapsed": false
   },
   "outputs": [
    {
     "data": {
      "text/html": [
       "<h3 class=\"title mathjax\">Griffiths effects and quantum critical points in dirty superconductors\n",
       "  without spin-rotation invariance: One-dimensional examples</h3><p><a href=http://arxiv.org/abs/cond-mat/0011200>http://arxiv.org/abs/cond-mat/0011200</a><br><div class=\"authors\">Olexei Motrunich, Kedar Damle, David A. Huse</div></p>"
      ],
      "text/plain": [
       "<edx_components.PreprintReference at 0x7fb8a9419c50>"
      ]
     },
     "execution_count": 2,
     "metadata": {},
     "output_type": "execute_result"
    }
   ],
   "source": [
    "PreprintReference(\"cond-mat/0011200\", show_abstract=False)"
   ]
  },
  {
   "cell_type": "code",
   "execution_count": null,
   "metadata": {
    "collapsed": false
   },
   "outputs": [
    {
     "data": {
      "text/html": [
       "<p><b> MoocSelfAssessment description</b></p>\n",
       "<p><b>In the live version of the course, you would need to share your solution and grade yourself.</b></p>"
      ],
      "text/plain": [
       "MoocSelfAssessment(**{'openassessment_self': '<openassessment allow_file_upload=\"False\" allow_latex=\"True\" submission_due=\"2029-01-01T00:00:00+00:00\" submission_start=\"2001-01-01T00:00:00+00:00\">\\n    <title>Simulation results</title>\\n    <assessments>\\n      <assessment name=\"self-assessment\" start=\"2001-01-01T00:00:00+00:00\" due=\"2029-01-01T00:00:00+00:00\"/>\\n    </assessments>\\n    <rubric>\\n      <prompt>This is a self-assessment problem, and you should estimate how much you have done.\\n\\nPlease do not just give yourself points: the course grading policy does allow you to skip the simulations completely and still pass the course.\\n\\nConsider this grade also a way to providing information to us. Are we going too fast? Are the tasks too hard?\\n\\nIf you didn\\'t manage to get some part done, feel free to ask for advice in discussions.\\n\\nIn the text entry field just leave a link to your notebooks.\\n\\nBut there\\'s also a much better use for them: go to the discussion below and share the notebooks also with your colleagues.</prompt>\\n      <criterion>\\n        <name>0</name>\\n        <label>Completeness</label>\\n        <prompt>What is the fraction of the tasks that you were able to accomplish? </prompt>\\n        <option points=\"2\">\\n          <name>0</name>\\n          <label>I tried</label>\\n          <explanation>...but didn\\'t get anywhere</explanation>\\n        </option>\\n        <option points=\"5\">\\n          <name>1</name>\\n          <label>A couple of easy things</label>\\n          <explanation>I was able to run the code from the lectures and play around with the parameters, but I didn\\'t understand how to modify it to solve the problems.</explanation>\\n        </option>\\n        <option points=\"8\">\\n          <name>2</name>\\n          <label>Half-half</label>\\n          <explanation>I managed to get the more basic things to work, but the rest just don\\'t! Damn bugs!</explanation>\\n        </option>\\n        <option points=\"11\">\\n          <name>3</name>\\n          <label>Complete</label>\\n          <explanation>All the tasks are neatly done :-)</explanation>\\n        </option>\\n        <option points=\"14\">\\n          <name>4</name>\\n          <label>Look what I found!</label>\\n          <explanation>I just finished the tasks, but then i thought: I could implement something else. And hey, take a look!</explanation>\\n        </option>\\n      </criterion>\\n    </rubric>\\n </openassessment>\\n', 'review_due': 16, 'url_name': None, 'due': 9})"
      ]
     },
     "execution_count": 2,
     "metadata": {},
     "output_type": "execute_result"
    }
   ],
   "source": [
    "MoocSelfAssessment()"
   ]
  },
  {
   "cell_type": "markdown",
   "metadata": {},
   "source": [
    "**Now share your results:**"
   ]
  },
  {
   "cell_type": "code",
   "execution_count": 3,
   "metadata": {
    "collapsed": false
   },
   "outputs": [
    {
     "data": {
      "text/html": [
       "<p><b>Discussion</b> entitled 'Disorder' is available in the online version of the course.</p>"
      ],
      "text/plain": [
       "MoocDiscussion(**{'display_name': 'Disorder', 'discussion_id': '1214363c978dd7e756b4a9f52387e79a', 'discussion_category': 'Labs', 'discussion_target': 'Disorder'})"
      ]
     },
     "execution_count": 3,
     "metadata": {},
     "output_type": "execute_result"
    }
   ],
   "source": [
    "MoocDiscussion('Labs', 'Disorder')"
   ]
  },
  {
   "cell_type": "markdown",
   "metadata": {},
   "source": [
    "# Review assignment"
   ]
  },
  {
   "cell_type": "code",
   "execution_count": 4,
   "metadata": {
    "collapsed": false
   },
   "outputs": [
    {
     "data": {
      "text/html": [
       "<h3 class=\"title mathjax\">Theory of the topological Anderson insulator</h3><p><a href=http://arxiv.org/abs/0908.0881>http://arxiv.org/abs/0908.0881</a><br><div class=\"authors\">C. W. Groth, M. Wimmer, A. R. Akhmerov, J. Tworzydło, C. W. J. Beenakker</div></p><p><blockquote class=\"abstract mathjax\">We present an effective medium theory that explains the disorder-induced\n",
       "transition into a phase of quantized conductance, discovered in computer\n",
       "simulations of HgTe quantum wells. It is the combination of a random potential\n",
       "and quadratic corrections proportional to p^2 sigma_z to the Dirac Hamiltonian\n",
       "that can drive an ordinary band insulator into a topological insulator (having\n",
       "an inverted band gap). We calculate the location of the phase boundary at weak\n",
       "disorder and show that it corresponds to the crossing of a band edge rather\n",
       "than a mobility edge. Our mechanism for the formation of a topological Anderson\n",
       "insulator is generic, and would apply as well to three-dimensional\n",
       "semiconductors with strong spin-orbit coupling.</blockquote></p><p><b>Hint:</b> The topological Anderson insulator </p>"
      ]
     },
     "metadata": {},
     "output_type": "display_data"
    },
    {
     "data": {
      "text/html": [
       "<h3 class=\"title mathjax\">Demonstration of one-parameter scaling at the Dirac point in graphene</h3><p><a href=http://arxiv.org/abs/0705.0886>http://arxiv.org/abs/0705.0886</a><br><div class=\"authors\">J. H. Bardarson, J. Tworzydło, P. W. Brouwer, C. W. J. Beenakker</div></p><p><blockquote class=\"abstract mathjax\">We numerically calculate the conductivity $\\sigma$ of an undoped graphene\n",
       "sheet (size $L$) in the limit of vanishingly small lattice constant. We\n",
       "demonstrate one-parameter scaling for random impurity scattering and determine\n",
       "the scaling function $\\beta(\\sigma)=d\\ln\\sigma/d\\ln L$. Contrary to a recent\n",
       "prediction, the scaling flow has no fixed point ($\\beta>0$) for conductivities\n",
       "up to and beyond the symplectic metal-insulator transition. Instead, the data\n",
       "supports an alternative scaling flow for which the conductivity at the Dirac\n",
       "point increases logarithmically with sample size in the absence of intervalley\n",
       "scattering -- without reaching a scale-invariant limit.</blockquote></p><p><b>Hint:</b> One-parameter scaling in graphene </p>"
      ]
     },
     "metadata": {},
     "output_type": "display_data"
    },
    {
     "data": {
      "text/html": [
       "<h3 class=\"title mathjax\">Topological delocalization of two-dimensional massless Dirac fermions</h3><p><a href=http://arxiv.org/abs/0705.1607>http://arxiv.org/abs/0705.1607</a><br><div class=\"authors\">Kentaro Nomura, Mikito Koshino, Shinsei Ryu</div></p><p><blockquote class=\"abstract mathjax\">The beta function of a two-dimensional massless Dirac Hamiltonian subject to\n",
       "a random scalar potential, which e.g., underlies the theoretical description of\n",
       "graphene, is computed numerically. Although it belongs to, from a symmetry\n",
       "standpoint, the two-dimensional symplectic class, the beta function\n",
       "monotonically increases with decreasing $g$. We also provide an argument based\n",
       "on the spectral flows under twisting boundary conditions, which shows that none\n",
       "of states of the massless Dirac Hamiltonian can be localized.</blockquote></p><p><b>Hint:</b> Scaling with Dirac fermions </p>"
      ]
     },
     "metadata": {},
     "output_type": "display_data"
    },
    {
     "data": {
      "text/html": [
       "<h3 class=\"title mathjax\">Topology, Delocalization via Average Symmetry and the Symplectic\n",
       "  Anderson Transition</h3><p><a href=http://arxiv.org/abs/1208.3442>http://arxiv.org/abs/1208.3442</a><br><div class=\"authors\">Liang Fu, C. L. Kane</div></p><p><blockquote class=\"abstract mathjax\">A field theory of the Anderson transition in two dimensional disordered\n",
       "systems with spin-orbit interactions and time-reversal symmetry is developed,\n",
       "in which the proliferation of vortex-like topological defects is essential for\n",
       "localization. The sign of vortex fugacity determines the $Z_2$ topological\n",
       "class of the localized phase. There are two distinct, but equivalent\n",
       "transitions between the metallic phase and the two insulating phases. The\n",
       "critical conductivity and correlation length exponent of these transitions are\n",
       "computed in a $N=1-\\epsilon$ expansion in the number of replicas, where for\n",
       "small $\\epsilon$ the critical points are perturbatively connected to the\n",
       "Kosterlitz Thouless critical point. Delocalized states, which arise at the\n",
       "surface of weak topological insulators and topological crystalline insulators,\n",
       "occur because vortex proliferation is forbidden due to the presence of\n",
       "symmetries that are violated by disorder, but are restored by disorder\n",
       "averaging.</blockquote></p><p><b>Hint:</b> The average symmetry and weak transitions </p>"
      ]
     },
     "metadata": {},
     "output_type": "display_data"
    },
    {
     "data": {
      "text/html": [
       "<h3 class=\"title mathjax\">Topology vs. Anderson localization: non-perturbative solutions in one\n",
       "  dimension</h3><p><a href=http://arxiv.org/abs/1411.5992>http://arxiv.org/abs/1411.5992</a><br><div class=\"authors\">Alexander Altland, Dmitry Bagrets, Alex Kamenev</div></p><p><blockquote class=\"abstract mathjax\">We present an analytic theory of quantum criticality in quasi one-dimensional\n",
       "topological Anderson insulators. We describe these systems in terms of two\n",
       "parameters $(g,\\chi)$ representing localization and topological properties,\n",
       "respectively. Certain critical values of $\\chi$ (half-integer for $\\Bbb{Z}$\n",
       "classes, or zero for $\\Bbb{Z}_2$ classes) define phase boundaries between\n",
       "distinct topological sectors. Upon increasing system size, the two parameters\n",
       "exhibit flow similar to the celebrated two parameter flow of the integer\n",
       "quantum Hall insulator. However, unlike the quantum Hall system, an exact\n",
       "analytical description of the entire phase diagram can be given in terms of the\n",
       "transfer-matrix solution of corresponding supersymmetric non-linear\n",
       "sigma-models. In $\\Bbb{Z}_2$ classes we uncover a hidden supersymmetry, present\n",
       "at the quantum critical point.</blockquote></p><p><b>Hint:</b> A technical paper about localization in 1D, but you don't need to follow the calculations. </p>"
      ]
     },
     "metadata": {},
     "output_type": "display_data"
    }
   ],
   "source": [
    "display_html(PreprintReference('0908.0881', description=\"The topological Anderson insulator\"))\n",
    "display_html(PreprintReference('0705.0886', description=\"One-parameter scaling in graphene\"))\n",
    "display_html(PreprintReference('0705.1607', description=\"Scaling with Dirac fermions\"))\n",
    "display_html(PreprintReference('1208.3442', description=\"The average symmetry and weak transitions\"))\n",
    "display_html(PreprintReference('1411.5992', description=(\"A technical paper about localization in 1D, \"\n",
    "                                                        \"but you don't need to follow the calculations.\")))"
   ]
  },
  {
   "cell_type": "markdown",
   "metadata": {},
   "source": [
    "### Bonus: Find your own paper to review!\n",
    "\n",
    "Do you know of another paper that fits into the topics of this week, and you think is good?\n",
    "Then you can get bonus points by reviewing that paper instead!"
   ]
  },
  {
   "cell_type": "code",
   "execution_count": null,
   "metadata": {
    "collapsed": false
   },
   "outputs": [
    {
     "data": {
      "text/html": [
       "<p><b> Read one of the above papers and see how it is\n",
       "related to the current topic.</b></p>\n",
       "<p><b>In the live version of the course, you would need to write a summary which is then assessed by your peers.</b></p>"
      ],
      "text/plain": [
       "MoocPeerAssessment(**{'must_be_graded_by': 3, 'must_grade': 5, 'url_name': None, 'review_due': 16, 'openassessment_peer': '<openassessment allow_file_upload=\"False\" allow_latex=\"True\" submission_due=\"2029-01-01T00:00:00+00:00\" submission_start=\"2001-01-01T00:00:00+00:00\">\\n  <title>Paper Review Assessment</title>\\n    <assessments>\\n      <assessment name=\"peer-assessment\" must_grade=\"5\" must_be_graded_by=\"3\" start=\"2015-02-05T12:00:00+00:00\" due=\"2015-02-19T12:00:00+00:00\"/>\\n    </assessments>\\n    <rubric>\\n      <prompt>Please pick one of the papers above, or if you know of a good paper that fits into this week\\'s topic, pick that one.\\n\\nLook through the paper you chose, and try to understand what is happening.\\n\\nOK, begin forming your report: start by copying the paper title and the URL.\\nTHIS IS IMPORTANT! (Your report will be read by your colleagues, and they will need this information.)\\n\\nFirst, try to tell: what is the main thing that happens in the paper. What do the authors do?\\n\\nNext, write in a single paragraph: which concepts that you learned this week appear in the paper?\\nWhere do they appear?\\n\\nNow in a new paragraph answer what new things you learned from the paper, compared to what you learned from our course?\\nIt\\'s OK if you don\\'t understand some (or even most) details, but try to find and formulate at least something new that you have learned.\\nPoint out to the places in text or to figures, which are the most valuable.\\n\\nFinally tell: What do you think are the strong sides of the paper?\\nWhat are the weak sides? Do you see something that you think could be improved?\\nDo you have some questions that the authors do not answer?\\nExplain why you think that way.</prompt>\\n      <criterion feedback=\"optional\">\\n        <name>Ideas</name>\\n        <label>Helpfulness</label>\\n        <prompt>Did reading the report help you to understand what the paper is about?\\n(Here and later if you were reviewing the same paper, try to imagine that you didn\\'t read it before)</prompt>\\n        <option points=\"1\">\\n          <name>0</name>\\n          <label>No</label>\\n          <explanation>I couldn\\'t relate the report and the paper.</explanation>\\n        </option>\\n        <option points=\"3\">\\n          <name>1</name>\\n          <label>Partially</label>\\n          <explanation>I could understand the overall direction of the paper, but not the main idea.</explanation>\\n        </option>\\n        <option points=\"5\">\\n          <name>2</name>\\n          <label>Yes</label>\\n          <explanation>After reading the report I fully knew what to expect from the paper.</explanation>\\n        </option>\\n      </criterion>\\n      <criterion feedback=\"optional\">\\n        <name>0</name>\\n        <label>Insight</label>\\n        <prompt>Did you learn something from the report itself (before you read the paper)</prompt>\\n        <option points=\"1\">\\n          <name>1</name>\\n          <label>Low</label>\\n          <explanation>The review has no additional information</explanation>\\n        </option>\\n        <option points=\"3\">\\n          <name>0</name>\\n          <label>Average</label>\\n          <explanation>The review nicely relates the paper to what we learned.</explanation>\\n        </option>\\n        <option points=\"5\">\\n          <name>2</name>\\n          <label>High</label>\\n          <explanation>I learned from the report something I didn\\'t see neither in the paper nor in the course.</explanation>\\n        </option>\\n      </criterion>\\n      <criterion feedback=\"optional\">\\n        <name>1</name>\\n        <label>Paper Evaluation</label>\\n        <prompt>Do you find the evaluation of the strengths and weaknesses of the paper shown in the report convincing?</prompt>\\n        <option points=\"1\">\\n          <name>0</name>\\n          <label>Weak</label>\\n          <explanation>I could not find the strengths and weaknesses of the paper that were pointed out in the report.\\n</explanation>\\n        </option>\\n        <option points=\"3\">\\n          <name>1</name>\\n          <label>Competent</label>\\n          <explanation>I agree with the evaluation of the strengths and weaknesses, but the argumentation presented was not completely clear.</explanation>\\n        </option>\\n        <option points=\"5\">\\n          <name>2</name>\\n          <label>Excellent</label>\\n          <explanation>I think the author of the report really understand the paper well, and knows its ins and outs.</explanation>\\n        </option>\\n      </criterion>\\n      <feedbackprompt>(Optional) What aspects of this report stood out to you? What did it do well? How could it improve?\\n</feedbackprompt>\\n      <feedback_default_text>This report was...\\n</feedback_default_text>\\n    </rubric>\\n  </openassessment>\\n', 'due': 9})"
      ]
     },
     "execution_count": 5,
     "metadata": {},
     "output_type": "execute_result"
    }
   ],
   "source": [
    "MoocPeerAssessment()"
   ]
  },
  {
   "cell_type": "markdown",
   "metadata": {},
   "source": [
    "**Do you have questions about what you read? Would you like to suggest other papers? Tell us:**"
   ]
  },
  {
   "cell_type": "code",
   "execution_count": 5,
   "metadata": {
    "collapsed": false
   },
   "outputs": [
    {
     "data": {
      "text/html": [
       "<p><b>Discussion</b> entitled 'Disorder' is available in the online version of the course.</p>"
      ],
      "text/plain": [
       "MoocDiscussion(**{'display_name': 'Disorder', 'discussion_id': '401e2d5288634bec2aea98962be4f8c1', 'discussion_category': 'Reviews', 'discussion_target': 'Disorder'})"
      ]
     },
     "execution_count": 5,
     "metadata": {},
     "output_type": "execute_result"
    }
   ],
   "source": [
    "MoocDiscussion(\"Reviews\", \"Disorder\")"
   ]
  }
 ],
 "metadata": {
  "kernelspec": {
   "display_name": "Python 3",
   "language": "python",
   "name": "python3"
  },
  "language_info": {
   "codemirror_mode": {
    "name": "ipython",
    "version": 3
   },
   "file_extension": ".py",
   "mimetype": "text/x-python",
   "name": "python",
   "nbconvert_exporter": "python",
   "pygments_lexer": "ipython3"
  }
 },
 "nbformat": 4,
 "nbformat_minor": 0
}
