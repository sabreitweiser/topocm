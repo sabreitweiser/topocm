{
 "cells": [
  {
   "cell_type": "code",
   "execution_count": 1,
   "metadata": {
    "collapsed": false
   },
   "outputs": [
    {
     "name": "stdout",
     "output_type": "stream",
     "text": [
      "Populated the namespace with:\n",
      "np, matplotlib, kwant, holoviews, init_notebook, interact, display_html, plt, pf, SimpleNamespace, pprint_matrix, scientific_number, pretty_fmt_complex\n",
      "from code/edx_components:\n",
      "MoocVideo, PreprintReference, MoocDiscussion, MoocCheckboxesAssessment, MoocMultipleChoiceAssessment, MoocPeerAssessment, MoocSelfAssessment\n",
      "from code/functions:\n",
      "spectrum, hamiltonian_array, h_k, pauli\n"
     ]
    },
    {
     "data": {
      "text/html": [
       "\n",
       "<script src=\"https://code.jquery.com/ui/1.10.4/jquery-ui.min.js\" type=\"text/javascript\"></script>\n",
       "<script type=\"text/javascript\">function HoloViewsWidget(){\n",
       "}\n",
       "\n",
       "HoloViewsWidget.prototype.init_slider = function(init_val){\n",
       "\tif(this.load_json) {\n",
       "\t\tthis.from_json()\n",
       "\t} else {\n",
       "\t\tthis.update_cache();\n",
       "\t}\n",
       "}\n",
       "\n",
       "HoloViewsWidget.prototype.populate_cache = function(idx){\n",
       "    this.cache[idx].html(this.frames[idx]);\n",
       "    if (this.embed) {\n",
       "        delete this.frames[idx];\n",
       "    }\n",
       "}\n",
       "\n",
       "HoloViewsWidget.prototype.process_error = function(msg){\n",
       "\n",
       "}\n",
       "\n",
       "HoloViewsWidget.prototype.from_json = function() {\n",
       "\tvar data_url = this.json_path + this.id + '.json';\n",
       "\t$.getJSON(data_url, $.proxy(function(json_data) {\n",
       "\t\tthis.frames = json_data;\n",
       "\t\tthis.update_cache();\n",
       "\t\tthis.update(0);\n",
       "\t}, this));\n",
       "}\n",
       "\n",
       "HoloViewsWidget.prototype.dynamic_update = function(current){\n",
       "    function callback(msg){\n",
       "        /* This callback receives data from Python as a string\n",
       "         in order to parse it correctly quotes are sliced off*/\n",
       "        var data = msg.content.data['text/plain'].slice(1, -1);\n",
       "        this.frames[current] = data;\n",
       "        this.update_cache();\n",
       "        this.update(current);\n",
       "    }\n",
       "    if(!(current in this.cache)) {\n",
       "        var kernel = IPython.notebook.kernel;\n",
       "        callbacks = {iopub: {output: $.proxy(callback, this)}};\n",
       "        var cmd = \"holoviews.plotting.widgets.NdWidget.widgets['\" + this.id + \"'].update(\" + current + \")\";\n",
       "        kernel.execute(\"import holoviews;\" + cmd, callbacks, {silent : false});\n",
       "    } else {\n",
       "        this.update(current);\n",
       "    }\n",
       "}\n",
       "\n",
       "HoloViewsWidget.prototype.update_cache = function(){\n",
       "    var frame_len = Object.keys(this.frames).length;\n",
       "    for (var i=0; i<frame_len; i++) {\n",
       "        if(!this.load_json || this.dynamic)  {\n",
       "            frame = Object.keys(this.frames)[i];\n",
       "        } else {\n",
       "            frame = i;\n",
       "        }\n",
       "        if(!(frame in this.cache)) {\n",
       "            this.cache[frame] = $('<div />').appendTo(\"#\" + this.img_id).hide();\n",
       "            var cache_id = this.img_id+\"_\"+frame;\n",
       "            this.cache[frame].attr(\"id\", cache_id);\n",
       "            this.populate_cache(frame);\n",
       "        }\n",
       "    }\n",
       "}\n",
       "\n",
       "HoloViewsWidget.prototype.update = function(current){\n",
       "    if(current in this.cache) {\n",
       "        $.each(this.cache, function(index, value) {\n",
       "            value.hide();\n",
       "        });\n",
       "        this.cache[current].show();\n",
       "    }\n",
       "}\n",
       "\n",
       "\n",
       "function SelectionWidget(frames, id, slider_ids, keyMap, dim_vals, notFound, load_json, mode, cached, json_path, dynamic){\n",
       "    this.frames = frames;\n",
       "    this.fig_id = \"fig_\" + id;\n",
       "    this.img_id = \"_anim_img\" + id;\n",
       "    this.id = id;\n",
       "    this.slider_ids = slider_ids;\n",
       "    this.keyMap = keyMap\n",
       "    this.current_frame = 0;\n",
       "    this.current_vals = dim_vals;\n",
       "    this.load_json = load_json;\n",
       "    this.mode = mode;\n",
       "    this.notFound = notFound;\n",
       "    this.cached = cached;\n",
       "    this.dynamic = dynamic;\n",
       "    this.cache = {};\n",
       "\tthis.json_path = json_path;\n",
       "    this.init_slider(this.current_vals[0]);\n",
       "}\n",
       "\n",
       "SelectionWidget.prototype = new HoloViewsWidget;\n",
       "\n",
       "SelectionWidget.prototype.set_frame = function(dim_val, dim_idx){\n",
       "    this.current_vals[dim_idx] = dim_val;\n",
       "    if(this.dynamic) {\n",
       "        this.dynamic_update(this.current_vals)\n",
       "        return;\n",
       "    }\n",
       "    var key = \"(\";\n",
       "    for (var i=0; i<this.slider_ids.length; i++)\n",
       "    {\n",
       "        val = this.current_vals[i];\n",
       "        if (!(_.isString(val))) {\n",
       "            if (val % 1 === 0) { var fixed = 1;}\n",
       "            else { var fixed = 10;}\n",
       "            val = val.toFixed(fixed)\n",
       "        }\n",
       "        key += \"'\" + val + \"'\";\n",
       "        if(i != this.slider_ids.length-1) { key += ', ';}\n",
       "        else if(this.slider_ids.length == 1) { key += ',';}\n",
       "    }\n",
       "    key += \")\";\n",
       "    var current = this.keyMap[key];\n",
       "    this.current_frame = current;\n",
       "    if(this.cached) {\n",
       "        this.update(current)\n",
       "    } else {\n",
       "        this.dynamic_update(current)\n",
       "    }\n",
       "}\n",
       "\n",
       "\n",
       "/* Define the ScrubberWidget class */\n",
       "function ScrubberWidget(frames, num_frames, id, interval, load_json, mode, cached, json_path, dynamic){\n",
       "    this.img_id = \"_anim_img\" + id;\n",
       "    this.slider_id = \"_anim_slider\" + id;\n",
       "    this.loop_select_id = \"_anim_loop_select\" + id;\n",
       "    this.id = id;\n",
       "    this.fig_id = \"fig_\" + id;\n",
       "    this.interval = interval;\n",
       "    this.current_frame = 0;\n",
       "    this.direction = 0;\n",
       "    this.dynamic = dynamic;\n",
       "    this.timer = null;\n",
       "    this.load_json = load_json;\n",
       "    this.mode = mode;\n",
       "    this.cached = cached;\n",
       "    this.frames = frames;\n",
       "    this.cache = {};\n",
       "    this.length = num_frames;\n",
       "\tthis.json_path = json_path;\n",
       "    document.getElementById(this.slider_id).max = this.length - 1;\n",
       "    this.init_slider(0);\n",
       "}\n",
       "\n",
       "ScrubberWidget.prototype = new HoloViewsWidget;\n",
       "\n",
       "ScrubberWidget.prototype.set_frame = function(frame){\n",
       "    this.current_frame = frame;\n",
       "    document.getElementById(this.slider_id).value = this.current_frame;\n",
       "    if(this.cached) {\n",
       "        this.update(frame)\n",
       "    } else {\n",
       "        this.dynamic_update(frame)\n",
       "    }\n",
       "}\n",
       "\n",
       "\n",
       "ScrubberWidget.prototype.process_error = function(msg){\n",
       "\tif (msg.content.ename === 'StopIteration') {\n",
       "\t\tthis.pause_animation();\n",
       "\t\tvar keys = Object.keys(this.frames)\n",
       "\t\tthis.length = keys.length;\n",
       "\t\tdocument.getElementById(this.slider_id).max = this.length-1;\n",
       "\t\tdocument.getElementById(this.slider_id).value = this.length-1;\n",
       "\t\tthis.current_frame = this.length-1;\n",
       "\t}\n",
       "}\n",
       "\n",
       "\n",
       "ScrubberWidget.prototype.get_loop_state = function(){\n",
       "    var button_group = document[this.loop_select_id].state;\n",
       "    for (var i = 0; i < button_group.length; i++) {\n",
       "        var button = button_group[i];\n",
       "        if (button.checked) {\n",
       "            return button.value;\n",
       "        }\n",
       "    }\n",
       "    return undefined;\n",
       "}\n",
       "\n",
       "\n",
       "ScrubberWidget.prototype.next_frame = function() {\n",
       "\tif (this.dynamic && this.current_frame + 1 >= this.length) {\n",
       "\t\tthis.length += 1;\n",
       "        document.getElementById(this.slider_id).max = this.length-1;\n",
       "\t}\n",
       "    this.set_frame(Math.min(this.length - 1, this.current_frame + 1));\n",
       "}\n",
       "\n",
       "ScrubberWidget.prototype.previous_frame = function() {\n",
       "    this.set_frame(Math.max(0, this.current_frame - 1));\n",
       "}\n",
       "\n",
       "ScrubberWidget.prototype.first_frame = function() {\n",
       "    this.set_frame(0);\n",
       "}\n",
       "\n",
       "ScrubberWidget.prototype.last_frame = function() {\n",
       "    this.set_frame(this.length - 1);\n",
       "}\n",
       "\n",
       "ScrubberWidget.prototype.slower = function() {\n",
       "    this.interval /= 0.7;\n",
       "    if(this.direction > 0){this.play_animation();}\n",
       "    else if(this.direction < 0){this.reverse_animation();}\n",
       "}\n",
       "\n",
       "ScrubberWidget.prototype.faster = function() {\n",
       "    this.interval *= 0.7;\n",
       "    if(this.direction > 0){this.play_animation();}\n",
       "    else if(this.direction < 0){this.reverse_animation();}\n",
       "}\n",
       "\n",
       "ScrubberWidget.prototype.anim_step_forward = function() {\n",
       "    if(this.current_frame < this.length || this.dynamic){\n",
       "        this.next_frame();\n",
       "    }else{\n",
       "        var loop_state = this.get_loop_state();\n",
       "        if(loop_state == \"loop\"){\n",
       "            this.first_frame();\n",
       "        }else if(loop_state == \"reflect\"){\n",
       "            this.last_frame();\n",
       "            this.reverse_animation();\n",
       "        }else{\n",
       "            this.pause_animation();\n",
       "            this.last_frame();\n",
       "        }\n",
       "    }\n",
       "}\n",
       "\n",
       "ScrubberWidget.prototype.anim_step_reverse = function() {\n",
       "    this.current_frame -= 1;\n",
       "    if(this.current_frame >= 0){\n",
       "        this.set_frame(this.current_frame);\n",
       "    } else {\n",
       "        var loop_state = this.get_loop_state();\n",
       "        if(loop_state == \"loop\"){\n",
       "            this.last_frame();\n",
       "        }else if(loop_state == \"reflect\"){\n",
       "            this.first_frame();\n",
       "            this.play_animation();\n",
       "        }else{\n",
       "            this.pause_animation();\n",
       "            this.first_frame();\n",
       "        }\n",
       "    }\n",
       "}\n",
       "\n",
       "ScrubberWidget.prototype.pause_animation = function() {\n",
       "    this.direction = 0;\n",
       "    if (this.timer){\n",
       "        clearInterval(this.timer);\n",
       "        this.timer = null;\n",
       "    }\n",
       "}\n",
       "\n",
       "ScrubberWidget.prototype.play_animation = function() {\n",
       "    this.pause_animation();\n",
       "    this.direction = 1;\n",
       "    var t = this;\n",
       "    if (!this.timer) this.timer = setInterval(function(){t.anim_step_forward();}, this.interval);\n",
       "}\n",
       "\n",
       "ScrubberWidget.prototype.reverse_animation = function() {\n",
       "    this.pause_animation();\n",
       "    this.direction = -1;\n",
       "    var t = this;\n",
       "    if (!this.timer) this.timer = setInterval(function(){t.anim_step_reverse();}, this.interval);\n",
       "}\n",
       "\n",
       "function extend(destination, source) {\n",
       "    for (var k in source) {\n",
       "        if (source.hasOwnProperty(k)) {\n",
       "            destination[k] = source[k];\n",
       "        }\n",
       "    }\n",
       "    return destination;\n",
       "}\n",
       "\n",
       "function update_widget(widget, values) {\n",
       "\tif (widget.hasClass(\"ui-slider\")) {\n",
       "\t\twidget.slider('option',\n",
       "\t\t\t\t\t  {'min': 0, 'max': values.length-1,\n",
       "\t\t\t\t\t   'dim_vals': values, 'value': 0})\n",
       "\t\twidget.slider('option', 'slide').call(widget, event, {'value': 0})\n",
       "\t} else {\n",
       "\t\twidget.empty();\n",
       "\t\tfor (var i=0; i<values.length; i++){\n",
       "\t\t\twidget.append($(\"<option>\", {\n",
       "\t\t\t\tvalue: i,\n",
       "\t\t\t\ttext: values[i]\n",
       "\t\t\t}))};\n",
       "\t\twidget.trigger(\"change\");\n",
       "\t};\n",
       "}\n",
       "\n",
       "// Define Bokeh specific subclasses\n",
       "function BokehSelectionWidget() {\n",
       "\tSelectionWidget.apply(this, arguments);\n",
       "}\n",
       "\n",
       "function BokehScrubberWidget() {\n",
       "\tScrubberWidget.apply(this, arguments);\n",
       "}\n",
       "\n",
       "// Let them inherit from the baseclasses\n",
       "BokehSelectionWidget.prototype = Object.create(SelectionWidget.prototype);\n",
       "BokehScrubberWidget.prototype = Object.create(ScrubberWidget.prototype);\n",
       "\n",
       "// Define methods to override on widgets\n",
       "var BokehMethods = {\n",
       "\tupdate_cache : function(){\n",
       "\t\t$.each(this.frames, $.proxy(function(index, frame) {\n",
       "\t\t\tthis.frames[index] = JSON.parse(frame);\n",
       "\t\t}, this));\n",
       "\t},\n",
       "\tupdate : function(current){\n",
       "\t\tif (current === undefined) {\n",
       "\t\t\tvar data = undefined;\n",
       "\t\t} else {\n",
       "\t\t\tvar data = this.frames[current];\n",
       "\t\t}\n",
       "\t\tif (data !== undefined) {\n",
       "\t\t\tif (data.root !== undefined) {\n",
       "\t\t\t\tvar doc = Bokeh.index[data.root].model.document;\n",
       "\t\t\t}\n",
       "\t\t\t$.each(data.data, function(i, value) {\n",
       "\t\t\t\tif (data.root !== undefined) {\n",
       "\t\t\t\t\tvar ds = doc.get_model_by_id(value.id);\n",
       "\t\t\t\t} else {\n",
       "\t\t\t\t\tvar ds = Bokeh.Collections(value.type).get(value.id);\n",
       "\t\t\t\t}\n",
       "\t\t\t\tif (ds != undefined) {\n",
       "\t\t\t\t\tds.set(value.data);\n",
       "\t\t\t\t\tds.trigger('change');\n",
       "\t\t\t\t}\n",
       "\t\t\t});\n",
       "\t\t}\n",
       "\t},\n",
       "\tdynamic_update : function(current){\n",
       "\t\tif (current === undefined) {\n",
       "\t\t\treturn\n",
       "\t\t}\n",
       "\t\tif(this.dynamic) {\n",
       "\t\t\tcurrent = JSON.stringify(current);\n",
       "\t\t}\n",
       "\t\tfunction callback(initialized, msg){\n",
       "\t\t\t/* This callback receives data from Python as a string\n",
       "\t\t\t in order to parse it correctly quotes are sliced off*/\n",
       "\t\t\tif (msg.content.ename != undefined) {\n",
       "\t\t\t\tthis.process_error(msg);\n",
       "\t\t\t}\n",
       "\t\t\tif (msg.msg_type != \"execute_result\") {\n",
       "\t\t\t\tconsole.log(\"Warning: HoloViews callback returned unexpected data for key: (\", current, \") with the following content:\", msg.content)\n",
       "\t\t\t\treturn\n",
       "\t\t\t}\n",
       "\t\t\tif (msg.msg_type == \"execute_result\") {\n",
       "\t\t\t\tvar data = msg.content.data['text/plain'].slice(1, -1);\n",
       "\t\t\t\tthis.frames[current] = JSON.parse(data);\n",
       "\t\t\t\tthis.update(current);\n",
       "\t\t\t}\n",
       "\t\t}\n",
       "\t\tvar kernel = IPython.notebook.kernel;\n",
       "\t\tcallbacks = {iopub: {output: $.proxy(callback, this, this.initialized)}};\n",
       "\t\tvar cmd = \"holoviews.plotting.widgets.NdWidget.widgets['\" + this.id + \"'].update(\" + current + \")\";\n",
       "\t\tkernel.execute(\"import holoviews;\" + cmd, callbacks, {silent : false});\n",
       "\t}\n",
       "}\n",
       "\n",
       "// Extend Bokeh widgets with backend specific methods\n",
       "extend(BokehSelectionWidget.prototype, BokehMethods);\n",
       "extend(BokehScrubberWidget.prototype, BokehMethods);\n",
       "\n",
       "// Define MPL specific subclasses\n",
       "function MPLSelectionWidget() {\n",
       "\tSelectionWidget.apply(this, arguments);\n",
       "}\n",
       "\n",
       "function MPLScrubberWidget() {\n",
       "\tScrubberWidget.apply(this, arguments);\n",
       "}\n",
       "\n",
       "// Let them inherit from the baseclasses\n",
       "MPLSelectionWidget.prototype = Object.create(SelectionWidget.prototype);\n",
       "MPLScrubberWidget.prototype = Object.create(ScrubberWidget.prototype);\n",
       "\n",
       "// Define methods to override on widgets\n",
       "var MPLMethods = {\n",
       "\tinit_slider : function(init_val){\n",
       "\t\tif(this.load_json) {\n",
       "\t\t\tthis.from_json()\n",
       "\t\t} else {\n",
       "\t\t\tthis.update_cache();\n",
       "\t\t}\n",
       "\t\tthis.update(0);\n",
       "\t\tif(this.mode == 'nbagg') {\n",
       "\t\t\tthis.set_frame(init_val, 0);\n",
       "\t\t}\n",
       "\t},\n",
       "\tpopulate_cache : function(idx){\n",
       "\t\tvar cache_id = this.img_id+\"_\"+idx;\n",
       "\t\tif(this.mode == 'mpld3') {\n",
       "\t\t\tmpld3.draw_figure(cache_id, this.frames[idx]);\n",
       "\t\t} else {\n",
       "\t\t\tthis.cache[idx].html(this.frames[idx]);\n",
       "\t\t}\n",
       "\t\tif (this.embed) {\n",
       "\t\t\tdelete this.frames[idx];\n",
       "\t\t}\n",
       "\t},\n",
       "\tdynamic_update : function(current){\n",
       "\t\tif (this.dynamic) {\n",
       "\t\t\tcurrent = JSON.stringify(current);\n",
       "\t\t}\n",
       "\t\tfunction callback(msg){\n",
       "\t\t\t/* This callback receives data from Python as a string\n",
       "\t\t\t in order to parse it correctly quotes are sliced off*/\n",
       "\t\t\tif (msg.content.ename != undefined) {\n",
       "\t\t\t\tthis.process_error(msg);\n",
       "\t\t\t}\n",
       "\t\t\tif (msg.msg_type != \"execute_result\") {\n",
       "\t\t\t\tconsole.log(\"Warning: HoloViews callback returned unexpected data for key: (\", current, \") with the following content:\", msg.content)\n",
       "\t\t\t\treturn\n",
       "\t\t\t}\n",
       "\t\t\tif (!(this.mode == 'nbagg')) {\n",
       "\t\t\t\tif(!(current in this.cache)) {\n",
       "\t\t\t\t\tvar data = msg.content.data['text/plain'].slice(1, -1);\n",
       "\t\t\t\t\tif(this.mode == 'mpld3'){\n",
       "\t\t\t\t\t\tdata = JSON.parse(data)[0];\n",
       "\t\t\t\t\t}\n",
       "\t\t\t\t\tthis.frames[current] = data;\n",
       "\t\t\t\t\tthis.update_cache();\n",
       "\t\t\t\t}\n",
       "\t\t\t\tthis.update(current);\n",
       "\t\t\t}\n",
       "\t\t}\n",
       "\t\tvar kernel = IPython.notebook.kernel;\n",
       "\t\tcallbacks = {iopub: {output: $.proxy(callback, this)}};\n",
       "\t\tvar cmd = \"holoviews.plotting.widgets.NdWidget.widgets['\" + this.id + \"'].update(\" + current + \")\";\n",
       "\t\tkernel.execute(\"import holoviews;\" + cmd, callbacks, {silent : false});\n",
       "\t}\n",
       "}\n",
       "\n",
       "// Extend MPL widgets with backend specific methods\n",
       "extend(MPLSelectionWidget.prototype, MPLMethods);\n",
       "extend(MPLScrubberWidget.prototype, MPLMethods);\n",
       "</script>\n",
       "\n",
       "\n",
       "<link rel=\"stylesheet\" href=\"https://code.jquery.com/ui/1.10.4/themes/smoothness/jquery-ui.css\">\n",
       "<style>div.bk-hbox {\n",
       "    display: flex;\n",
       "    justify-content: center;\n",
       "}\n",
       "\n",
       "div.bk-hbox div.bk-plot {\n",
       "    padding: 8px;\n",
       "}\n",
       "\n",
       "div.bk-hbox div.bk-data-table {\n",
       "    padding: 20px;\n",
       "}\n",
       "\n",
       "div.hololayout {\n",
       "    display: flex;\n",
       "    align-items: center;\n",
       "    margin: 0;\n",
       "}\n",
       "\n",
       "div.holowell {\n",
       "    display: flex;\n",
       "    align-items: center;\n",
       "    margin: 0;\n",
       "}\n",
       "\n",
       "form.holoform {\n",
       "    background-color: #fafafa;\n",
       "    border-radius: 5px;\n",
       "    overflow: hidden;\n",
       "    padding: 0.8em;\n",
       "}\n",
       "\n",
       "div.holowidgets {\n",
       "    padding-right: 0;\n",
       "}\n",
       "\n",
       "div.holoslider {\n",
       "    min-height: 0 !important;\n",
       "    height: 0.8em;\n",
       "}\n",
       "\n",
       "div.holoformgroup {\n",
       "    padding-right: 0.5em;\n",
       "    padding-top: 0.5em;\n",
       "    margin-bottom: 0.5em;\n",
       "}\n",
       "\n",
       "div.hologroup {\n",
       "    padding-left: 0;\n",
       "    padding-right: 0;\n",
       "}\n",
       "\n",
       ".holoselect {\n",
       "    width: 92%;\n",
       "    margin-left: 0;\n",
       "    margin-right: 0;\n",
       "}\n",
       "\n",
       ".holotext {\n",
       "    width: 100%;\n",
       "    padding-left:  0.5em;\n",
       "    padding-right: 0;\n",
       "}\n",
       "</style>\n",
       "\n",
       "\n",
       "<div>\n",
       "<img src='data:image/png;base64,iVBORw0KGgoAAAANSUhEUgAAABkAAAAZCAIAAABLixI0AAAACXBIWXMAAAsTAAALEwEAmpwYAAAAB3RJTUUH3wkCDDIOi3cusgAABT1JREFUOMtVlclvG2UYh3/fMovHe53FThySNHZomrRJl6QR0AJdpVblQBEHJC4ciipxAgmO3PgPEP8BQkIsRUJUSF1oqGih0JY2CtnjOLGz2Em8xPbMeL6Pw9RJOprLjPT+5tH7Pu83JE7pqeHh8wMD2evfyXMXf/nxB2FZo6dPNzVHvvr6GxMQeOEigARswNzzUgK6x8NagPzS0nqxODQ62nLn1xMnX99/eLC3sGVROj2/IBxHABKgANlzM4ACTuMRAOecNREiAWtzc0NIEu/M37zVMTWeqlrpUDg1M7NTVgdkowwvxqGRRV1CE8jOznq7uhYAi2CpXtdVVQE4QAAdCAAGwAAJyEa9Amh7PsAihBBAABrg1XUfpe3bxTXb8XR0WJa1VSzWGyAcUAEVoIAARIMOQH2HC4AA6lKW8/n9Pm/Ahl4zV8fGTg0PtzQ3K3tA3GId8AO+BqZLt8sFQKE0GouRSkWtFM63KV0Vy1rJhN44k56cFFI6exJ3MBWANACVHS63aw5QtutVVT/4xWfHv/0ylytmHvx56sIFLxACfIABGIAf8ANRn++9y5evXrkS0XWXd5dLJWRfOHwspA1tr4iFtP3gD8/apjCtSDiyQYhZKNA94wOQTCQPhfzm9FTJH8jn84Tz3SyPlEQ4vf0Dt5/MPE5vpVObzQbxqvaDdL731MnWnh5pmsxxdE3rTCZfO3u2FbL6+2+hzpcKwXA2ldrNUgAVII7TMXhkZnzcAQTgAWI6sgV7YmKivLra1tFxMJk4Ho/r5fLy3btsYS7JHL1YoeHQKldKhcLzLNcdlRDOWDgczuVyOtDt4yN9gRYVmc161TTLmYw9P9e8OHcU5dG2fa3EmhNyKjGwROmzZ8+YqlIAKsDd9jtOenIy1t8vgDJQtuvYrjRT0kMQBRIUQxqSXkSDUIO0YAulvdfxGk/u33eVZs2EeBvu6gCjtKW7Oz81xQBhI73mtATQn/BuZ6wTrezsYX+1Jn+aNR8sl9Zb47l4/O+HD2u27QDgnHUQwhvKuFmRaLS2tkZsmwJSQpqIUzHYyynndx5t/1Vy5gXyhMhorEJIKpViQB0QnFNlZzkbdExRhBAckIAFbFXFetkpg94er004WK6jCniamrRAYHlmxhXFtWTXVfW50SQYDjvVKm+YHVMR10G5VAGrcWAohkEVpbC1RRo7QN2mS0BzuQiJHziwMTurAwrgBTo95NVjnshb3XaF9q1MTM7VeWNv6kJQgAISYAAHuARUQAHA2NCZM35KJ27c6KA4YiBXJlpVro5bkaGN2mStsCy8gAXobpyU7iFhAgxQAB40jMHh4WhnJ6nVpsfGVjOZUQMhi40k9K1FqQZI4ogffd3k33GPobTb5kCIFmriEYjgnABao60KwD68eCnz5PH0vXsr4+OsVIpRvNmpnLvQEozRpm5vxAP107dx+RMlvGTcmw7Xle6DwZlsdbZY05qbAq2ta9msCkhAcM4+yv+3uFZWAA+gA5pEaUOUnpaMohb+/BK7+j76r4IliFoyAv9EjsZ4ZbMmyOKqmdvciiWTL4+OUsY8mkY554d7okGyciuHqgQFVIABlkJ9fV44FLFrz8ecuIZ3u6offzD1fSnFmJSgle35mzcdVQ1Eo23B4Eh7lJdWNgZGohM/r5QAjZEoaDzi0TfKPlFDV/KF35mqs0NN1v3iRrqqAT7Xbdti6UXPImKZaf5SQiUBtAIG0OVXXnmnDUJWb9nET7D8VPba7pAJTKRnxPUpI+v0BXlApZPrlgDaCTke1VqaaLZC/wesjSVVF5Ac7QAAAABJRU5ErkJggg=='\n",
       "     style='width:25px;height:25px; border-radius:12px;'/>\n",
       "\n",
       "HoloViewsJS, MatplotlibJS successfully loaded in this cell.\n",
       "</div>\n"
      ],
      "text/plain": [
       "<IPython.core.display.HTML object>"
      ]
     },
     "metadata": {},
     "output_type": "display_data"
    },
    {
     "data": {
      "text/html": [
       "\n",
       "<script type=text/javascript>\n",
       "/* Add a button for showing or hiding input */\n",
       "on = \"Show input\";\n",
       "off = \"Hide input\";\n",
       "function onoff(){\n",
       "  currentvalue = document.getElementById('onoff').value;\n",
       "  if(currentvalue == off){\n",
       "    document.getElementById(\"onoff\").value=on;\n",
       "      $('div.input').hide();\n",
       "  }else{\n",
       "    document.getElementById(\"onoff\").value=off;\n",
       "      $('div.input').show();\n",
       "  }\n",
       "}\n",
       "\n",
       "/* Launch first notebook cell on start */\n",
       "function launch_first_cell (evt) {\n",
       "  if (!launch_first_cell.executed\n",
       "      && Jupyter.notebook.kernel\n",
       "  ) {\n",
       "    Jupyter.notebook.get_cells()[0].execute();\n",
       "    launch_first_cell.executed = true;\n",
       "  }\n",
       "}\n",
       "\n",
       "$([Jupyter.events]).on('status_started.Kernel notebook_loaded.Notebook', launch_first_cell);\n",
       "</script>\n",
       "\n",
       "<p>Press this button to show/hide the code used in the notebook:\n",
       "<input type=\"button\" class=\"ui-button ui-widget ui-state-default ui-corner-all ui-button-text-only\" value=\"Hide input\" id=\"onoff\" onclick=\"onoff();\"></p>\n",
       "<script type=text/javascript>\n",
       "$(document).ready(function (){if(!(\"IPython\" in window)){onoff();}})\n",
       "</script>"
      ]
     },
     "metadata": {},
     "output_type": "display_data"
    }
   ],
   "source": [
    "import sys\n",
    "import os\n",
    "sys.path.append('../code')\n",
    "from init_mooc_nb import *\n",
    "init_notebook()\n",
    "\n",
    "# Set the path to a folder containing data files, to work with filters as well.\n",
    "data_folder = 'data/' if os.path.exists('data') and os.path.isdir('data') else '../data/'"
   ]
  },
  {
   "cell_type": "markdown",
   "metadata": {},
   "source": [
    "**No content above this line is visible in edX**"
   ]
  },
  {
   "cell_type": "markdown",
   "metadata": {},
   "source": [
    "# Introduction"
   ]
  },
  {
   "cell_type": "markdown",
   "metadata": {},
   "source": [
    "Anderson localization is introduced by Piet Brouwer from the Free University of Berlin."
   ]
  },
  {
   "cell_type": "code",
   "execution_count": 2,
   "metadata": {
    "collapsed": false
   },
   "outputs": [
    {
     "data": {
      "image/jpeg": "[encoded data removed]",
      "text/html": [
       "\n",
       "        <iframe\n",
       "            width=\"400\"\n",
       "            height=\"300\"\n",
       "            src=\"https://www.youtube.com/embed/sbbyL0RDH-o?cc_load_policy=1&rel=0\"\n",
       "            frameborder=\"0\"\n",
       "            allowfullscreen\n",
       "        ></iframe>\n",
       "        "
      ],
      "text/plain": [
       "MoocVideo(**{'download_track': 'true', 'download_video': 'true', 'show_captions': 'true', 'source': 'http://delftxdownloads.tudelft.nl/TOPOCMx-QuantumKnots/TOPOCMx-9.1-intro-video.720.mp4', 'display_name': '', 'youtube_id_1_0': 'sbbyL0RDH-o', 'youtube': '1.00:sbbyL0RDH-o'})"
      ]
     },
     "execution_count": 2,
     "metadata": {},
     "output_type": "execute_result"
    }
   ],
   "source": [
    "MoocVideo(\"sbbyL0RDH-o\", src_location=\"9.1-intro\")"
   ]
  },
  {
   "cell_type": "markdown",
   "metadata": {},
   "source": [
    "# Motivation"
   ]
  },
  {
   "cell_type": "markdown",
   "metadata": {},
   "source": [
    "At this point, you might be wondering how we got from talking about topological insulators to disordered metals. Well, we told you several times that topological states are supposed to be robust to disorder, and that this is one of the main reasons why they are so interesting.\n",
    "\n",
    "Based on the arguments we made in previous weeks, you could convince yourselves that certain properties, such as the bulk boundary correspondence, are robust as long as disorder isn't enough to close the gap. However, many topological properties that we measure could in principle be susceptible to disorder.\n",
    "\n",
    "For example, we told you that at the edge of a two-dimensional topological insulator, there is a perfectly conducting state that is robust to disorder. Remember however that we made no such claims about the surface states of a three-dimensional topological insulator! In fact, while in three dimensions the conductance is certainly susceptible to disorder, topology forbids it from becoming zero. Such subtle properties require a more detailed understanding of disorder."
   ]
  },
  {
   "cell_type": "markdown",
   "metadata": {},
   "source": [
    "# Simple limits: localized and extended states"
   ]
  },
  {
   "cell_type": "markdown",
   "metadata": {},
   "source": [
    "When we speak of disorder in electronic systems, the main distinction we need to keep in mind is that between extended and localized states.\n",
    "\n",
    "Let's start by thinking of a three dimensional metal with a low density of impurities, and hence weak disorder. In this limit, electrons moving through the system are only scattered by impurities every now and then, but otherwise they move ballistically between collisions. This picture is known as the [Drude model](http://en.wikipedia.org/wiki/Drude_model), and yields a conductivity given by\n",
    "\n",
    "$$\\sigma=n e^2\\tau/m,$$\n",
    "\n",
    "where $n$ is the electron density, $m$ is the electron mass and $\\tau$ the mean free time between collisions. In this limit, the electron wave functions are extended throughout the bulk of the system, much like the plane waves of a clean crystal.\n",
    "\n",
    "The other extreme is the strong disorder limit, in which there is a strongly fluctuating random potential in the material, for instance due to a high density of impurities. This potential has minima at random positions in the material, where electrons can become trapped. The corresponding wave functions are localized exponentially close to the minima. If the density of impurities is high in the material, all electronic states are of this type. In this situation, the only mechanism for conduction in the material is tunneling between different potential minima. However, the minima may be far apart from each other, which leads to a suppression of conductance and to an insulating state.\n",
    "\n",
    "Let's discuss qualitatively the simplest effect of strong disorder on topological states, which are gapped. If we imagine a disorder potential with a Gaussian distribution, there are always \"rare regions\" where the disorder potential is very deep. Such potentials may thus yield energy levels in the middle of the gap. If disorder is strong, there might even be no energy gap at all! However, the electrons trapped in these rare regions are localized, and do not participate in any of the transport properties of the material.\n",
    "\n",
    ">Thus, even weak disorder can close the energy gap, which is what protects topology, as discussed so far. However, since these localized states are isolated from each other, and most importantly from the edges, they do not affect any of the topological properties.\n",
    "\n",
    "The considerations above make it clear that the presence or absence of an energy gap is not a good criterion to tell whether a system is insulating or not in the presence of strong disorder, and that we need to understand the nature of the electronic states in the system. Our definition of an insulating state must obey a new criterion. As will see next, this criterion can be obtained by studying conductance as a function of the system size."
   ]
  },
  {
   "cell_type": "markdown",
   "metadata": {},
   "source": [
    "# Conductance scaling"
   ]
  },
  {
   "cell_type": "markdown",
   "metadata": {},
   "source": [
    "How can we really get away with understanding electrons in disordered potentials without doing any real quantum mechanical calculations? We can only do this in the two aforementioned extreme limits, and actually only in certain dimensions. In principle, to see how the \"transition\" from extended to localized electrons happens as disorder is increased, one must solve the full quantum mechanical problem. So far, it seems impossible to solve this problem exactly in any dimension other than 1D, so we won't bother and instead discuss an educated guess, which gives us most of the answer."
   ]
  },
  {
   "cell_type": "markdown",
   "metadata": {},
   "source": [
    "To start with, let us be more specific and consider the conductance $G(L)$ of a $d$-dimensional block with sides $L$. The conductance represents the ease with which electrons can propagate through the block, and is has the natural unit $G_0=e^2/h$. Therefore, we can think of the dimensionless conductance $g(L)=G(L)/G_0$ as sort of a higher dimensional analog of the average transmission of electrons between the ends of the system, multiplied by the number of channels. If we take the analogy with transmission seriously, we can guess that the conductance of a combination of blocks, each with conductance $g(L)$, has conductance $g'$ which depends on $g(L)$. This is not very different from what we expect classically. For example, consider a connected pair of metallic blocks of conductivity $g(L)$ each, such that the total conductivity of the connected blocks is $g'$. If the blocks are connected in series, then $g'=g(L)/2$. If they are connected in parallel, then $g'=2 g(L)$. "
   ]
  },
  {
   "cell_type": "markdown",
   "metadata": {},
   "source": [
    "We can extend the above guess due to Thouless to relate the conductance $g(L)$ of a block of size $L$ to that of a block of size $2L$ i.e. \n",
    "\n",
    "$$g(2L)=f(g(L)),$$\n",
    "\n",
    "where $f$ is some function. We can use this equation to relate the conductances at a bunch of different length scales, but not quite at all continuous lengths. We could create a larger set of similar relations by increasing the block size by a factor of $b$ instead of $2$. By choosing $b=1+\\delta{\\lambda}$, we can write the equation\n",
    "\n",
    "$$g(b L)=g(L(1+\\delta\\lambda))=g(L)+g(L)\\beta(g(L))\\delta\\lambda,$$\n",
    "\n",
    "where $\\beta$ is a function called the scaling function or often simply the *beta function*. Taking the limit $\\delta\\lambda\\rightarrow 0$ we obtain the *scaling equation*\n",
    "\n",
    "$$\\frac{d\\textrm{ln}g}{d\\textrm{ln}L}=\\beta(g).$$\n",
    "\n",
    ">This is the educated guess known as *single parameter scaling* that was adopted by  the \"Gang of Four\" (Abrahams, Anderson, Licciardello and Ramakrishnan) and is essentially an application of the idea of the [renormalization group](http://en.wikipedia.org/wiki/Renormalization_group) to the conductance problem. Of course, we don't quite know the function $\\beta$, but as we will see in the next unit, it is possible to guess the form in various limits and this is enough to guess the qualitative behavior of the conductance.\n",
    "\n",
    "While the above representation will be useful for understanding the \"flow diagram\", the above scaling hypothesis has a simple general solution \n",
    "\n",
    "$$g(L)=\\Phi(L/\\xi),$$\n",
    "\n",
    "where $\\Phi$ is a function that is determined entirely by $\\beta$, and $\\xi$ is a decay length."
   ]
  },
  {
   "cell_type": "markdown",
   "metadata": {},
   "source": [
    "# Scaling flow diagram"
   ]
  },
  {
   "cell_type": "markdown",
   "metadata": {},
   "source": [
    "Now we are in a position to make use of the scaling hypothesis. We don't really know $\\beta(g)$ in general, but we can compute it for large $g$ i.e. in the metallic/delocalized limit and also in the small $g$ or strongly localized limit. In the strongly localized limit $g\\sim g_c e^{-L/\\xi}$ so that $\\beta(g)=\\textrm{ln}(g/g_c)$, while in the weak scattering limit, we can estimate $g$ from the classical Drude formula so that $g\\sim L^{(d-2)}$ and $\\beta(g)\\sim d-2$. In addition, one can calculate \"quantum corrections\" to the $\\beta-$function at large $g$, which turn out to depend on other details such as the symmetry class of the disorder.\n",
    "\n",
    "The simplest next step is to plot the function $\\beta(g)$ using the simplest interpolation between the two limits. The amazing thing is that even the simplest interpolation allows us to guess the physics of the phase diagram. As a side note, this phase diagram is lost in the exact solution we wrote at the end of the last unit in terms of $\\Phi$, which may seem counterintuitive to you. But let's move on to understanding the phase diagram. Below, we plot $\\beta(g)$ as a function of $g$:"
   ]
  },
  {
   "cell_type": "markdown",
   "metadata": {},
   "source": [
    "![](figures/conductance_scaling.svg)"
   ]
  },
  {
   "cell_type": "markdown",
   "metadata": {},
   "source": [
    "What we see is that for dimensions $d=1,2$ the curve stays below $\\beta\\leq 0$, while the curve for $d=3$ intersects $\\beta=0$. To make it easier to understand the diagram, we've turned it into a \"flow diagram\" by adding arrows along the curve representing how $g$ changes with system size $L$. If $\\beta<0$ then the arrow points towards smaller values of $g$, but if $\\beta>0$ the arrow points towards larger values of $g$. Thus, the flow diagram tells us that in $d=1,2$ dimensions, $g$ reduces with increasing system size, and therefore the system is insulating.\n",
    "\n",
    "The situation is different in $d=3$ dimensions. If the conductance $g$ is large enough to begin with, then $\\beta > 0$ and the arrow points to larger values of $g$. This means that the conductance grows with increasing system size. On the other hand, if disorder is large enough such that $\\beta < 0$ initially, $g$ decreases as the system size increases. The separation point $\\beta = 0$ between these two behaviours is the *metal-insulator transition*."
   ]
  },
  {
   "cell_type": "code",
   "execution_count": 3,
   "metadata": {
    "collapsed": false
   },
   "outputs": [
    {
     "data": {
      "text/html": [
       "<h4>How is the flow in the diagram above altered if we stack 10 1D systems next to each other and weakly couple them?</h4><form><input type=\"radio\" name=\"answer\" value=\"Nothing changes.\">Nothing changes.<br><input type=\"radio\" name=\"answer\" value=\"$\\beta$ is multiplied by 10.\">$\\beta$ is multiplied by 10.<br><input type=\"radio\" name=\"answer\" value=\"The scaling hypothesis doesn't apply since we don't have a 1D system anymore.\">The scaling hypothesis doesn't apply since we don't have a 1D system anymore.<br><input type=\"radio\" name=\"answer\" value=\"$\\beta$ is altered in some way, since we have a different disordered system now.\">$\\beta$ is altered in some way, since we have a different disordered system now.<br></form>\n",
       "        <button title=\"Click to show/hide content\" type=\"button\"\n",
       "        onclick=\"if(document.getElementById('3dbb730057a381acd386cdbd74c8cd0f')\n",
       "         .style.display=='none') {document.getElementById('3dbb730057a381acd386cdbd74c8cd0f')\n",
       "         .style.display=''}else{document.getElementById('3dbb730057a381acd386cdbd74c8cd0f')\n",
       "         .style.display='none'}\">Show answer</button>\n",
       "\n",
       "        <div id=\"3dbb730057a381acd386cdbd74c8cd0f\" style=\"display:none\">The correct answer is: <br>Nothing changes.<br><i>The scaling hypothesis tells us that the details of the Hamiltonian don't matter, so the scaling flow stays the same.</i></div>"
      ],
      "text/plain": [
       "MoocMultipleChoiceAssessment(**{'question': 'How is the flow in the diagram above altered if we stack 10 1D systems next to each other and weakly couple them?', 'answers': ['Nothing changes.', '$\\\\beta$ is multiplied by 10.', \"The scaling hypothesis doesn't apply since we don't have a 1D system anymore.\", '$\\\\beta$ is altered in some way, since we have a different disordered system now.'], 'display_name': 'Question', 'max_attempts': 2, 'correct_answer': 0, 'explanation': \"The scaling hypothesis tells us that the details of the Hamiltonian don't matter, so the scaling flow stays the same.\"})"
      ]
     },
     "execution_count": 3,
     "metadata": {},
     "output_type": "execute_result"
    }
   ],
   "source": [
    "question = \"How is the flow in the diagram above altered if we stack 10 1D systems next to each other and weakly couple them?\"\n",
    "\n",
    "answers = [\"Nothing changes.\",\n",
    "           r\"$\\beta$ is multiplied by 10.\",\n",
    "           \"The scaling hypothesis doesn't apply since we don't have a 1D system anymore.\",\n",
    "           r\"$\\beta$ is altered in some way, since we have a different disordered system now.\"]\n",
    "\n",
    "explanation = \"The scaling hypothesis tells us that the details of the Hamiltonian don't matter, so the scaling flow stays the same.\"\n",
    "\n",
    "MoocMultipleChoiceAssessment(question=question, answers=answers, correct_answer=0, explanation=explanation)"
   ]
  },
  {
   "cell_type": "markdown",
   "metadata": {},
   "source": [
    "The 2D case is special: in the classical limit $g \\gg 1$, the scaling flow disappears, $\\beta \\approx 0$. However, there remain *quantum corrections* to it. These are effects that get weaker with increasing conductance, and they depend on the symmetry class of the Hamiltonian.\n",
    "\n",
    "Let's see what happens in the three simplest symmetry classes, those without sublattice or particle-hole symmetry. As we learned last week, these are class A (no symmetries, also called unitary since the matrix of Hamiltonian eigenvalues is unitary), AI ($\\mathcal{T}^2 = 1$, orthogonal), and AII ($\\mathcal{T} = -1$, symplectic).\n",
    "\n",
    "A lengthy and technical calculation leads to the following corrections to the scaling flow at $g \\gg 1$:"
   ]
  },
  {
   "cell_type": "markdown",
   "metadata": {},
   "source": [
    "![](figures/conductance_scaling_2D.svg)"
   ]
  },
  {
   "cell_type": "markdown",
   "metadata": {},
   "source": [
    "So we see that in symmetry classes A and AI the conductance always drops, even though it does so very slowly in the class A, eventually leading to an insulating phase.\n",
    "\n",
    "The class AII has a critical metal-insulator transition point, and a metallic phase at $g > g_c$, just like a disordered 3D system. The growth of conductance in this system is much slower however: instead of $g \\sim L$, in 2D AII we have $g \\sim \\log L$."
   ]
  },
  {
   "cell_type": "markdown",
   "metadata": {},
   "source": [
    "# Metal-insulator transition"
   ]
  },
  {
   "cell_type": "markdown",
   "metadata": {},
   "source": [
    "The most interesting feature of the scaling theory of conductance that we have learned about so far is the existence of a universal critical point at which the behavior of the system changes from insulating (negative $\\beta$ function) to metallic (positive $\\beta$ function). This is the point $\\beta=0$ which appears in 3D and in 2D in class AII. Let's study such a critical point in more detail.\n",
    "\n",
    "The first thing to observe is that at the critical point, we have $d\\ln g/ d\\ln L = 0$, so the conductance takes a *scale-invariant* value $g=g_c$ which is independent of $L$.\n",
    "\n",
    "In practice, this behavior can be observed at a fixed $L$ by varying one parameter $\\alpha$ appearing in the model under study, typically the disorder strength or the chemical potential. The average conductance $\\langle g \\rangle$ is then computed as a function of $\\alpha$ for different values of $L$. One then obtains a plot like the following:"
   ]
  },
  {
   "cell_type": "code",
   "execution_count": 4,
   "metadata": {
    "collapsed": false
   },
   "outputs": [
    {
     "data": {
      "image/png": "[encoded data removed]",
      "text/plain": [
       "<matplotlib.figure.Figure at 0x7ffa4300c1d0>"
      ]
     },
     "metadata": {},
     "output_type": "display_data"
    }
   ],
   "source": [
    "data = np.loadtxt(data_folder + 'data_from_doru.dat')\n",
    "\n",
    "fig, ax = plt.subplots(figsize=(6, 4))\n",
    "ax.set_prop_cycle('alpha', [.66, .33, 0])\n",
    "\n",
    "cmap = plt.get_cmap('gist_heat')\n",
    "for i in range(3):\n",
    "    x, y = data[i::3, 0], data[i::3, 2]\n",
    "    error = data[i::3, 3]\n",
    "    L = data[i, 1]\n",
    "    color = cmap(np.log(L-26)/np.log(243-26) * .7)\n",
    "    ax.errorbar(x, y, yerr=error, label=\"$L=%i$\" % L, color=color)\n",
    "    \n",
    "plt.legend()\n",
    "\n",
    "plt.xlabel('$V$')\n",
    "plt.ylabel(r'$\\langle G \\rangle$')\n",
    "\n",
    "evals = [5.5, 5.75, 6]\n",
    "ax.set_xticks(evals)\n",
    "ax.set_xticklabels([\"${0}$\".format(i) for i in evals])\n",
    "\n",
    "evals = [1, 1.5, 2]\n",
    "ax.set_yticks(evals)\n",
    "ax.set_yticklabels([\"${0}$\".format(i) for i in evals])\n",
    "\n",
    "ax.set_xlim(5.5, 6.0)\n",
    "ax.set_ylim(1.0, 2.0)\n",
    "plt.show()"
   ]
  },
  {
   "cell_type": "markdown",
   "metadata": {},
   "source": [
    "(We thank Doru Sticlet for providing the data for this plot)"
   ]
  },
  {
   "cell_type": "markdown",
   "metadata": {},
   "source": [
    "The plot above was computed for a 2D tight-binding model in class AII, essentially electrons hopping on a square lattice in the presence of a strong Rashba spin-orbit coupling. In this case, the average conductance was computed as a function of onsite disorder strength $V$.\n",
    "\n",
    "We see that there is a point $V = V_c\\simeq 5.8$ which distiguishes two different behaviors. For $V < V_c$, conductance increases with system size: the system is metallic. For $V > V_c$, conductance decreases with system size: the system is insulating. Hence by comparing different curves at fixed $V$ we can easily 'see' the sign of the $\\beta$ function in our numerical calculations.\n",
    "\n",
    "At $V = V_c$, all the curves overlap in the same point: we find that $g$ is basically independent of $L$. This is the critical point. In the plot above, the critical value of conductance is $g_c \\simeq 1.3$. (Note that in a typical numerical calculations the curves will not cross precisely at the same point because the systems under consideration are too small. This leads to an entire field of study regarding the finite-size corrections to the scaling theory)."
   ]
  },
  {
   "cell_type": "markdown",
   "metadata": {},
   "source": [
    "Let us study the conductance scaling around this point. The beta function changes sign at $g_c$, and in its vicinity we can consider it to be a linear function of $g$:\n",
    "\n",
    "$$\\beta(g) = \\frac{1}{\\nu}\\,\\frac{g-g_c}{g_c}\\,,$$\n",
    "\n",
    "where $\\nu$ is just a coefficient and $g-g_c\\ll g_c$. On the insulating side of the transition, it is convenient to write down $g  = g_c - \\delta g$. Using the fact that $\\ln g \\simeq - \\delta g/ g_c + \\ln g_c$, and that $g_c$ does not depend on $L$, one obtains the following scaling equation for $\\delta g$,\n",
    "\n",
    "$$ \\frac{d \\delta g}{d \\ln L} = \\frac{\\delta g}{\\nu}\\,.$$\n",
    "\n",
    "Integrating this equation gives a power law,\n",
    "\n",
    "$$ \\frac{\\delta g(L)}{\\delta g(L_0)} = \\left(\\frac{L}{L_0}\\right)^{1/\\nu}\\,. $$\n",
    "\n",
    "At a fixed $L_0$, the behavior close to the transition is given by $\\delta g(L_0) \\simeq a(L_0) (V-V_c)$. So we get\n",
    "\n",
    "$$ g(L) =  g_c - a(L_0)\\,(V-V_c) \\, (L/L_0)^{1/\\nu} = g_c - a(L_0)\\,(L/\\xi)^{1/\\nu}\\,.$$\n",
    "\n",
    "The length $\\xi = L_0\\,(V-V_c)^{-\\nu}\\,$ is the localization length, which diverges at the transition point $V=V_c$. The number $\\nu$ is known as the *critical exponent*, and determines the scaling behavior of the conductance close to the critical point."
   ]
  },
  {
   "cell_type": "code",
   "execution_count": 5,
   "metadata": {
    "collapsed": false
   },
   "outputs": [
    {
     "data": {
      "text/html": [
       "<h4>What would we see if $\\beta$ crossed from positive to negative values?</h4><form><input type=\"radio\" name=\"answer\" value=\"Small conductances would have a metallic phase, where $g$ grows indefinitely, while large $g$ would lead to an insulator.\">Small conductances would have a metallic phase, where $g$ grows indefinitely, while large $g$ would lead to an insulator.<br><input type=\"radio\" name=\"answer\" value=\"We would see a critical phase, where all conductances converge to the same value.\">We would see a critical phase, where all conductances converge to the same value.<br><input type=\"radio\" name=\"answer\" value=\"This is just the same metal-insulator transition since $\\beta(g_c) = 0$\">This is just the same metal-insulator transition since $\\beta(g_c) = 0$<br><input type=\"radio\" name=\"answer\" value=\"This is an impossible scaling function.\">This is an impossible scaling function.<br></form>\n",
       "        <button title=\"Click to show/hide content\" type=\"button\"\n",
       "        onclick=\"if(document.getElementById('ec94c459b0a3258e4d67dc8f52b368da')\n",
       "         .style.display=='none') {document.getElementById('ec94c459b0a3258e4d67dc8f52b368da')\n",
       "         .style.display=''}else{document.getElementById('ec94c459b0a3258e4d67dc8f52b368da')\n",
       "         .style.display='none'}\">Show answer</button>\n",
       "\n",
       "        <div id=\"ec94c459b0a3258e4d67dc8f52b368da\" style=\"display:none\">The correct answer is: <br>We would see a critical phase, where all conductances converge to the same value.<br><i>Both larger conductances and smaller conductances flow towards the critical value, so all systems get the same conductance when their size becomes large enough. This is an attractive critical point.</i></div>"
      ],
      "text/plain": [
       "MoocMultipleChoiceAssessment(**{'question': 'What would we see if $\\\\beta$ crossed from positive to negative values?', 'answers': ['Small conductances would have a metallic phase, where $g$ grows indefinitely, while large $g$ would lead to an insulator.', 'We would see a critical phase, where all conductances converge to the same value.', 'This is just the same metal-insulator transition since $\\\\beta(g_c) = 0$', 'This is an impossible scaling function.'], 'display_name': 'Question', 'max_attempts': 2, 'correct_answer': 1, 'explanation': 'Both larger conductances and smaller conductances flow towards the critical value, so all systems get the same conductance when their size becomes large enough. This is an attractive critical point.'})"
      ]
     },
     "execution_count": 5,
     "metadata": {},
     "output_type": "execute_result"
    }
   ],
   "source": [
    "question = r\"What would we see if $\\beta$ crossed from positive to negative values?\"\n",
    "\n",
    "answers = [\"Small conductances would have a metallic phase, where $g$ grows indefinitely, \"\n",
    "           \"while large $g$ would lead to an insulator.\",\n",
    "           \"We would see a critical phase, where all conductances converge to the same value.\",\n",
    "           r\"This is just the same metal-insulator transition since $\\beta(g_c) = 0$\",\n",
    "           \"This is an impossible scaling function.\"]\n",
    "\n",
    "explanation = (\"Both larger conductances and smaller conductances flow towards the critical value, \"\n",
    "               \"so all systems get the same conductance when their size becomes large enough. \"\n",
    "               \"This is an attractive critical point.\")\n",
    "\n",
    "MoocMultipleChoiceAssessment(question=question, answers=answers, correct_answer=1, explanation=explanation)"
   ]
  },
  {
   "cell_type": "markdown",
   "metadata": {},
   "source": [
    "# Absence of localization for topological insulators"
   ]
  },
  {
   "cell_type": "markdown",
   "metadata": {},
   "source": [
    "Finally let's remark on how the conductance scaling flow is modified on the protected surfaces of topological insulators.\n",
    "\n",
    "At large conductances we know that the classical scaling must still hold, since this is just Ohm's law. On the other hand, if we were able to make conductance exactly zero, we would break the bulk-edge correspondence, so $\\beta$ cannot be negative at $g \\ll 1$."
   ]
  },
  {
   "cell_type": "markdown",
   "metadata": {},
   "source": [
    "It turns out, the scaling flow on the surface of a topological insulator is modified by the appearance of an extra term, that vanishes at large conductance, but ensures that there is no localization."
   ]
  },
  {
   "cell_type": "markdown",
   "metadata": {},
   "source": [
    "# Conclusions"
   ]
  },
  {
   "cell_type": "code",
   "execution_count": 6,
   "metadata": {
    "collapsed": false
   },
   "outputs": [
    {
     "data": {
      "image/jpeg": "[encoded data removed]",
      "text/html": [
       "\n",
       "        <iframe\n",
       "            width=\"400\"\n",
       "            height=\"300\"\n",
       "            src=\"https://www.youtube.com/embed/JdDeBJEBO0s?cc_load_policy=1&rel=0\"\n",
       "            frameborder=\"0\"\n",
       "            allowfullscreen\n",
       "        ></iframe>\n",
       "        "
      ],
      "text/plain": [
       "MoocVideo(**{'download_track': 'true', 'download_video': 'true', 'show_captions': 'true', 'source': 'http://delftxdownloads.tudelft.nl/TOPOCMx-QuantumKnots/TOPOCMx-9.1-summary-video.720.mp4', 'display_name': '', 'youtube_id_1_0': 'JdDeBJEBO0s', 'youtube': '1.00:JdDeBJEBO0s'})"
      ]
     },
     "execution_count": 6,
     "metadata": {},
     "output_type": "execute_result"
    }
   ],
   "source": [
    "MoocVideo(\"JdDeBJEBO0s\", src_location=\"9.1-summary\")"
   ]
  },
  {
   "cell_type": "markdown",
   "metadata": {},
   "source": [
    "Questions about what you just learned? Ask them below!"
   ]
  },
  {
   "cell_type": "code",
   "execution_count": 7,
   "metadata": {
    "collapsed": false
   },
   "outputs": [
    {
     "data": {
      "text/html": [
       "<p><b>Discussion</b> entitled 'Anderson localization' is available in the online version of the course.</p>"
      ],
      "text/plain": [
       "MoocDiscussion(**{'discussion_category': 'Questions', 'discussion_target': 'Anderson localization', 'discussion_id': '1e62aac195c69654bfcce62d3bd0b090', 'display_name': 'Anderson localization'})"
      ]
     },
     "execution_count": 7,
     "metadata": {},
     "output_type": "execute_result"
    }
   ],
   "source": [
    "MoocDiscussion(\"Questions\", \"Anderson localization\")"
   ]
  }
 ],
 "metadata": {
  "kernelspec": {
   "display_name": "Python 3",
   "language": "python",
   "name": "python3"
  },
  "language_info": {
   "codemirror_mode": {
    "name": "ipython",
    "version": 3
   },
   "file_extension": ".py",
   "mimetype": "text/x-python",
   "name": "python",
   "nbconvert_exporter": "python",
   "pygments_lexer": "ipython3"
  }
 },
 "nbformat": 4,
 "nbformat_minor": 0
}
