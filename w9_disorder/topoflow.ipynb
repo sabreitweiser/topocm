{
 "cells": [
  {
   "cell_type": "code",
   "execution_count": 1,
   "metadata": {
    "collapsed": false
   },
   "outputs": [
    {
     "name": "stdout",
     "output_type": "stream",
     "text": [
      "Populated the namespace with:\n",
      "np, matplotlib, kwant, holoviews, init_notebook, interact, display_html, plt, pf, SimpleNamespace, pprint_matrix, scientific_number, pretty_fmt_complex\n",
      "from code/edx_components:\n",
      "MoocVideo, PreprintReference, MoocDiscussion, MoocCheckboxesAssessment, MoocMultipleChoiceAssessment, MoocPeerAssessment, MoocSelfAssessment\n",
      "from code/functions:\n",
      "spectrum, hamiltonian_array, h_k, pauli\n"
     ]
    },
    {
     "data": {
      "text/html": [
       "\n",
       "<script src=\"https://code.jquery.com/ui/1.10.4/jquery-ui.min.js\" type=\"text/javascript\"></script>\n",
       "<script type=\"text/javascript\">function HoloViewsWidget(){\n",
       "}\n",
       "\n",
       "HoloViewsWidget.prototype.init_slider = function(init_val){\n",
       "\tif(this.load_json) {\n",
       "\t\tthis.from_json()\n",
       "\t} else {\n",
       "\t\tthis.update_cache();\n",
       "\t}\n",
       "}\n",
       "\n",
       "HoloViewsWidget.prototype.populate_cache = function(idx){\n",
       "    this.cache[idx].html(this.frames[idx]);\n",
       "    if (this.embed) {\n",
       "        delete this.frames[idx];\n",
       "    }\n",
       "}\n",
       "\n",
       "HoloViewsWidget.prototype.process_error = function(msg){\n",
       "\n",
       "}\n",
       "\n",
       "HoloViewsWidget.prototype.from_json = function() {\n",
       "\tvar data_url = this.json_path + this.id + '.json';\n",
       "\t$.getJSON(data_url, $.proxy(function(json_data) {\n",
       "\t\tthis.frames = json_data;\n",
       "\t\tthis.update_cache();\n",
       "\t\tthis.update(0);\n",
       "\t}, this));\n",
       "}\n",
       "\n",
       "HoloViewsWidget.prototype.dynamic_update = function(current){\n",
       "    function callback(msg){\n",
       "        /* This callback receives data from Python as a string\n",
       "         in order to parse it correctly quotes are sliced off*/\n",
       "        var data = msg.content.data['text/plain'].slice(1, -1);\n",
       "        this.frames[current] = data;\n",
       "        this.update_cache();\n",
       "        this.update(current);\n",
       "    }\n",
       "    if(!(current in this.cache)) {\n",
       "        var kernel = IPython.notebook.kernel;\n",
       "        callbacks = {iopub: {output: $.proxy(callback, this)}};\n",
       "        var cmd = \"holoviews.plotting.widgets.NdWidget.widgets['\" + this.id + \"'].update(\" + current + \")\";\n",
       "        kernel.execute(\"import holoviews;\" + cmd, callbacks, {silent : false});\n",
       "    } else {\n",
       "        this.update(current);\n",
       "    }\n",
       "}\n",
       "\n",
       "HoloViewsWidget.prototype.update_cache = function(){\n",
       "    var frame_len = Object.keys(this.frames).length;\n",
       "    for (var i=0; i<frame_len; i++) {\n",
       "        if(!this.load_json || this.dynamic)  {\n",
       "            frame = Object.keys(this.frames)[i];\n",
       "        } else {\n",
       "            frame = i;\n",
       "        }\n",
       "        if(!(frame in this.cache)) {\n",
       "            this.cache[frame] = $('<div />').appendTo(\"#\" + this.img_id).hide();\n",
       "            var cache_id = this.img_id+\"_\"+frame;\n",
       "            this.cache[frame].attr(\"id\", cache_id);\n",
       "            this.populate_cache(frame);\n",
       "        }\n",
       "    }\n",
       "}\n",
       "\n",
       "HoloViewsWidget.prototype.update = function(current){\n",
       "    if(current in this.cache) {\n",
       "        $.each(this.cache, function(index, value) {\n",
       "            value.hide();\n",
       "        });\n",
       "        this.cache[current].show();\n",
       "    }\n",
       "}\n",
       "\n",
       "\n",
       "function SelectionWidget(frames, id, slider_ids, keyMap, dim_vals, notFound, load_json, mode, cached, json_path, dynamic){\n",
       "    this.frames = frames;\n",
       "    this.fig_id = \"fig_\" + id;\n",
       "    this.img_id = \"_anim_img\" + id;\n",
       "    this.id = id;\n",
       "    this.slider_ids = slider_ids;\n",
       "    this.keyMap = keyMap\n",
       "    this.current_frame = 0;\n",
       "    this.current_vals = dim_vals;\n",
       "    this.load_json = load_json;\n",
       "    this.mode = mode;\n",
       "    this.notFound = notFound;\n",
       "    this.cached = cached;\n",
       "    this.dynamic = dynamic;\n",
       "    this.cache = {};\n",
       "\tthis.json_path = json_path;\n",
       "    this.init_slider(this.current_vals[0]);\n",
       "}\n",
       "\n",
       "SelectionWidget.prototype = new HoloViewsWidget;\n",
       "\n",
       "SelectionWidget.prototype.set_frame = function(dim_val, dim_idx){\n",
       "    this.current_vals[dim_idx] = dim_val;\n",
       "    if(this.dynamic) {\n",
       "        this.dynamic_update(this.current_vals)\n",
       "        return;\n",
       "    }\n",
       "    var key = \"(\";\n",
       "    for (var i=0; i<this.slider_ids.length; i++)\n",
       "    {\n",
       "        val = this.current_vals[i];\n",
       "        if (!(_.isString(val))) {\n",
       "            if (val % 1 === 0) { var fixed = 1;}\n",
       "            else { var fixed = 10;}\n",
       "            val = val.toFixed(fixed)\n",
       "        }\n",
       "        key += \"'\" + val + \"'\";\n",
       "        if(i != this.slider_ids.length-1) { key += ', ';}\n",
       "        else if(this.slider_ids.length == 1) { key += ',';}\n",
       "    }\n",
       "    key += \")\";\n",
       "    var current = this.keyMap[key];\n",
       "    this.current_frame = current;\n",
       "    if(this.cached) {\n",
       "        this.update(current)\n",
       "    } else {\n",
       "        this.dynamic_update(current)\n",
       "    }\n",
       "}\n",
       "\n",
       "\n",
       "/* Define the ScrubberWidget class */\n",
       "function ScrubberWidget(frames, num_frames, id, interval, load_json, mode, cached, json_path, dynamic){\n",
       "    this.img_id = \"_anim_img\" + id;\n",
       "    this.slider_id = \"_anim_slider\" + id;\n",
       "    this.loop_select_id = \"_anim_loop_select\" + id;\n",
       "    this.id = id;\n",
       "    this.fig_id = \"fig_\" + id;\n",
       "    this.interval = interval;\n",
       "    this.current_frame = 0;\n",
       "    this.direction = 0;\n",
       "    this.dynamic = dynamic;\n",
       "    this.timer = null;\n",
       "    this.load_json = load_json;\n",
       "    this.mode = mode;\n",
       "    this.cached = cached;\n",
       "    this.frames = frames;\n",
       "    this.cache = {};\n",
       "    this.length = num_frames;\n",
       "\tthis.json_path = json_path;\n",
       "    document.getElementById(this.slider_id).max = this.length - 1;\n",
       "    this.init_slider(0);\n",
       "}\n",
       "\n",
       "ScrubberWidget.prototype = new HoloViewsWidget;\n",
       "\n",
       "ScrubberWidget.prototype.set_frame = function(frame){\n",
       "    this.current_frame = frame;\n",
       "    document.getElementById(this.slider_id).value = this.current_frame;\n",
       "    if(this.cached) {\n",
       "        this.update(frame)\n",
       "    } else {\n",
       "        this.dynamic_update(frame)\n",
       "    }\n",
       "}\n",
       "\n",
       "\n",
       "ScrubberWidget.prototype.process_error = function(msg){\n",
       "\tif (msg.content.ename === 'StopIteration') {\n",
       "\t\tthis.pause_animation();\n",
       "\t\tvar keys = Object.keys(this.frames)\n",
       "\t\tthis.length = keys.length;\n",
       "\t\tdocument.getElementById(this.slider_id).max = this.length-1;\n",
       "\t\tdocument.getElementById(this.slider_id).value = this.length-1;\n",
       "\t\tthis.current_frame = this.length-1;\n",
       "\t}\n",
       "}\n",
       "\n",
       "\n",
       "ScrubberWidget.prototype.get_loop_state = function(){\n",
       "    var button_group = document[this.loop_select_id].state;\n",
       "    for (var i = 0; i < button_group.length; i++) {\n",
       "        var button = button_group[i];\n",
       "        if (button.checked) {\n",
       "            return button.value;\n",
       "        }\n",
       "    }\n",
       "    return undefined;\n",
       "}\n",
       "\n",
       "\n",
       "ScrubberWidget.prototype.next_frame = function() {\n",
       "\tif (this.dynamic && this.current_frame + 1 >= this.length) {\n",
       "\t\tthis.length += 1;\n",
       "        document.getElementById(this.slider_id).max = this.length-1;\n",
       "\t}\n",
       "    this.set_frame(Math.min(this.length - 1, this.current_frame + 1));\n",
       "}\n",
       "\n",
       "ScrubberWidget.prototype.previous_frame = function() {\n",
       "    this.set_frame(Math.max(0, this.current_frame - 1));\n",
       "}\n",
       "\n",
       "ScrubberWidget.prototype.first_frame = function() {\n",
       "    this.set_frame(0);\n",
       "}\n",
       "\n",
       "ScrubberWidget.prototype.last_frame = function() {\n",
       "    this.set_frame(this.length - 1);\n",
       "}\n",
       "\n",
       "ScrubberWidget.prototype.slower = function() {\n",
       "    this.interval /= 0.7;\n",
       "    if(this.direction > 0){this.play_animation();}\n",
       "    else if(this.direction < 0){this.reverse_animation();}\n",
       "}\n",
       "\n",
       "ScrubberWidget.prototype.faster = function() {\n",
       "    this.interval *= 0.7;\n",
       "    if(this.direction > 0){this.play_animation();}\n",
       "    else if(this.direction < 0){this.reverse_animation();}\n",
       "}\n",
       "\n",
       "ScrubberWidget.prototype.anim_step_forward = function() {\n",
       "    if(this.current_frame < this.length || this.dynamic){\n",
       "        this.next_frame();\n",
       "    }else{\n",
       "        var loop_state = this.get_loop_state();\n",
       "        if(loop_state == \"loop\"){\n",
       "            this.first_frame();\n",
       "        }else if(loop_state == \"reflect\"){\n",
       "            this.last_frame();\n",
       "            this.reverse_animation();\n",
       "        }else{\n",
       "            this.pause_animation();\n",
       "            this.last_frame();\n",
       "        }\n",
       "    }\n",
       "}\n",
       "\n",
       "ScrubberWidget.prototype.anim_step_reverse = function() {\n",
       "    this.current_frame -= 1;\n",
       "    if(this.current_frame >= 0){\n",
       "        this.set_frame(this.current_frame);\n",
       "    } else {\n",
       "        var loop_state = this.get_loop_state();\n",
       "        if(loop_state == \"loop\"){\n",
       "            this.last_frame();\n",
       "        }else if(loop_state == \"reflect\"){\n",
       "            this.first_frame();\n",
       "            this.play_animation();\n",
       "        }else{\n",
       "            this.pause_animation();\n",
       "            this.first_frame();\n",
       "        }\n",
       "    }\n",
       "}\n",
       "\n",
       "ScrubberWidget.prototype.pause_animation = function() {\n",
       "    this.direction = 0;\n",
       "    if (this.timer){\n",
       "        clearInterval(this.timer);\n",
       "        this.timer = null;\n",
       "    }\n",
       "}\n",
       "\n",
       "ScrubberWidget.prototype.play_animation = function() {\n",
       "    this.pause_animation();\n",
       "    this.direction = 1;\n",
       "    var t = this;\n",
       "    if (!this.timer) this.timer = setInterval(function(){t.anim_step_forward();}, this.interval);\n",
       "}\n",
       "\n",
       "ScrubberWidget.prototype.reverse_animation = function() {\n",
       "    this.pause_animation();\n",
       "    this.direction = -1;\n",
       "    var t = this;\n",
       "    if (!this.timer) this.timer = setInterval(function(){t.anim_step_reverse();}, this.interval);\n",
       "}\n",
       "\n",
       "function extend(destination, source) {\n",
       "    for (var k in source) {\n",
       "        if (source.hasOwnProperty(k)) {\n",
       "            destination[k] = source[k];\n",
       "        }\n",
       "    }\n",
       "    return destination;\n",
       "}\n",
       "\n",
       "function update_widget(widget, values) {\n",
       "\tif (widget.hasClass(\"ui-slider\")) {\n",
       "\t\twidget.slider('option',\n",
       "\t\t\t\t\t  {'min': 0, 'max': values.length-1,\n",
       "\t\t\t\t\t   'dim_vals': values, 'value': 0})\n",
       "\t\twidget.slider('option', 'slide').call(widget, event, {'value': 0})\n",
       "\t} else {\n",
       "\t\twidget.empty();\n",
       "\t\tfor (var i=0; i<values.length; i++){\n",
       "\t\t\twidget.append($(\"<option>\", {\n",
       "\t\t\t\tvalue: i,\n",
       "\t\t\t\ttext: values[i]\n",
       "\t\t\t}))};\n",
       "\t\twidget.trigger(\"change\");\n",
       "\t};\n",
       "}\n",
       "\n",
       "// Define MPL specific subclasses\n",
       "function MPLSelectionWidget() {\n",
       "\tSelectionWidget.apply(this, arguments);\n",
       "}\n",
       "\n",
       "function MPLScrubberWidget() {\n",
       "\tScrubberWidget.apply(this, arguments);\n",
       "}\n",
       "\n",
       "// Let them inherit from the baseclasses\n",
       "MPLSelectionWidget.prototype = Object.create(SelectionWidget.prototype);\n",
       "MPLScrubberWidget.prototype = Object.create(ScrubberWidget.prototype);\n",
       "\n",
       "// Define methods to override on widgets\n",
       "var MPLMethods = {\n",
       "\tinit_slider : function(init_val){\n",
       "\t\tif(this.load_json) {\n",
       "\t\t\tthis.from_json()\n",
       "\t\t} else {\n",
       "\t\t\tthis.update_cache();\n",
       "\t\t}\n",
       "\t\tthis.update(0);\n",
       "\t\tif(this.mode == 'nbagg') {\n",
       "\t\t\tthis.set_frame(init_val, 0);\n",
       "\t\t}\n",
       "\t},\n",
       "\tpopulate_cache : function(idx){\n",
       "\t\tvar cache_id = this.img_id+\"_\"+idx;\n",
       "\t\tif(this.mode == 'mpld3') {\n",
       "\t\t\tmpld3.draw_figure(cache_id, this.frames[idx]);\n",
       "\t\t} else {\n",
       "\t\t\tthis.cache[idx].html(this.frames[idx]);\n",
       "\t\t}\n",
       "\t\tif (this.embed) {\n",
       "\t\t\tdelete this.frames[idx];\n",
       "\t\t}\n",
       "\t},\n",
       "\tdynamic_update : function(current){\n",
       "\t\tif (this.dynamic) {\n",
       "\t\t\tcurrent = JSON.stringify(current);\n",
       "\t\t}\n",
       "\t\tfunction callback(msg){\n",
       "\t\t\t/* This callback receives data from Python as a string\n",
       "\t\t\t in order to parse it correctly quotes are sliced off*/\n",
       "\t\t\tif (msg.content.ename != undefined) {\n",
       "\t\t\t\tthis.process_error(msg);\n",
       "\t\t\t}\n",
       "\t\t\tif (msg.msg_type != \"execute_result\") {\n",
       "\t\t\t\tconsole.log(\"Warning: HoloViews callback returned unexpected data for key: (\", current, \") with the following content:\", msg.content)\n",
       "\t\t\t\treturn\n",
       "\t\t\t}\n",
       "\t\t\tif (!(this.mode == 'nbagg')) {\n",
       "\t\t\t\tif(!(current in this.cache)) {\n",
       "\t\t\t\t\tvar data = msg.content.data['text/plain'].slice(1, -1);\n",
       "\t\t\t\t\tif(this.mode == 'mpld3'){\n",
       "\t\t\t\t\t\tdata = JSON.parse(data)[0];\n",
       "\t\t\t\t\t}\n",
       "\t\t\t\t\tthis.frames[current] = data;\n",
       "\t\t\t\t\tthis.update_cache();\n",
       "\t\t\t\t}\n",
       "\t\t\t\tthis.update(current);\n",
       "\t\t\t}\n",
       "\t\t}\n",
       "\t\tvar kernel = IPython.notebook.kernel;\n",
       "\t\tcallbacks = {iopub: {output: $.proxy(callback, this)}};\n",
       "\t\tvar cmd = \"holoviews.plotting.widgets.NdWidget.widgets['\" + this.id + \"'].update(\" + current + \")\";\n",
       "\t\tkernel.execute(\"import holoviews;\" + cmd, callbacks, {silent : false});\n",
       "\t}\n",
       "}\n",
       "\n",
       "// Extend MPL widgets with backend specific methods\n",
       "extend(MPLSelectionWidget.prototype, MPLMethods);\n",
       "extend(MPLScrubberWidget.prototype, MPLMethods);\n",
       "\n",
       "// Define Bokeh specific subclasses\n",
       "function BokehSelectionWidget() {\n",
       "\tSelectionWidget.apply(this, arguments);\n",
       "}\n",
       "\n",
       "function BokehScrubberWidget() {\n",
       "\tScrubberWidget.apply(this, arguments);\n",
       "}\n",
       "\n",
       "// Let them inherit from the baseclasses\n",
       "BokehSelectionWidget.prototype = Object.create(SelectionWidget.prototype);\n",
       "BokehScrubberWidget.prototype = Object.create(ScrubberWidget.prototype);\n",
       "\n",
       "// Define methods to override on widgets\n",
       "var BokehMethods = {\n",
       "\tupdate_cache : function(){\n",
       "\t\t$.each(this.frames, $.proxy(function(index, frame) {\n",
       "\t\t\tthis.frames[index] = JSON.parse(frame);\n",
       "\t\t}, this));\n",
       "\t},\n",
       "\tupdate : function(current){\n",
       "\t\tif (current === undefined) {\n",
       "\t\t\tvar data = undefined;\n",
       "\t\t} else {\n",
       "\t\t\tvar data = this.frames[current];\n",
       "\t\t}\n",
       "\t\tif (data !== undefined) {\n",
       "\t\t\tif (data.root !== undefined) {\n",
       "\t\t\t\tvar doc = Bokeh.index[data.root].model.document;\n",
       "\t\t\t}\n",
       "\t\t\t$.each(data.data, function(i, value) {\n",
       "\t\t\t\tif (data.root !== undefined) {\n",
       "\t\t\t\t\tvar ds = doc.get_model_by_id(value.id);\n",
       "\t\t\t\t} else {\n",
       "\t\t\t\t\tvar ds = Bokeh.Collections(value.type).get(value.id);\n",
       "\t\t\t\t}\n",
       "\t\t\t\tif (ds != undefined) {\n",
       "\t\t\t\t\tds.set(value.data);\n",
       "\t\t\t\t\tds.trigger('change');\n",
       "\t\t\t\t}\n",
       "\t\t\t});\n",
       "\t\t}\n",
       "\t},\n",
       "\tdynamic_update : function(current){\n",
       "\t\tif (current === undefined) {\n",
       "\t\t\treturn\n",
       "\t\t}\n",
       "\t\tif(this.dynamic) {\n",
       "\t\t\tcurrent = JSON.stringify(current);\n",
       "\t\t}\n",
       "\t\tfunction callback(initialized, msg){\n",
       "\t\t\t/* This callback receives data from Python as a string\n",
       "\t\t\t in order to parse it correctly quotes are sliced off*/\n",
       "\t\t\tif (msg.content.ename != undefined) {\n",
       "\t\t\t\tthis.process_error(msg);\n",
       "\t\t\t}\n",
       "\t\t\tif (msg.msg_type != \"execute_result\") {\n",
       "\t\t\t\tconsole.log(\"Warning: HoloViews callback returned unexpected data for key: (\", current, \") with the following content:\", msg.content)\n",
       "\t\t\t\treturn\n",
       "\t\t\t}\n",
       "\t\t\tif (msg.msg_type == \"execute_result\") {\n",
       "\t\t\t\tvar data = msg.content.data['text/plain'].slice(1, -1);\n",
       "\t\t\t\tthis.frames[current] = JSON.parse(data);\n",
       "\t\t\t\tthis.update(current);\n",
       "\t\t\t}\n",
       "\t\t}\n",
       "\t\tvar kernel = IPython.notebook.kernel;\n",
       "\t\tcallbacks = {iopub: {output: $.proxy(callback, this, this.initialized)}};\n",
       "\t\tvar cmd = \"holoviews.plotting.widgets.NdWidget.widgets['\" + this.id + \"'].update(\" + current + \")\";\n",
       "\t\tkernel.execute(\"import holoviews;\" + cmd, callbacks, {silent : false});\n",
       "\t}\n",
       "}\n",
       "\n",
       "// Extend Bokeh widgets with backend specific methods\n",
       "extend(BokehSelectionWidget.prototype, BokehMethods);\n",
       "extend(BokehScrubberWidget.prototype, BokehMethods);\n",
       "</script>\n",
       "\n",
       "\n",
       "<link rel=\"stylesheet\" href=\"https://code.jquery.com/ui/1.10.4/themes/smoothness/jquery-ui.css\">\n",
       "<style>div.hololayout {\n",
       "    display: flex;\n",
       "    align-items: center;\n",
       "    margin: 0;\n",
       "}\n",
       "\n",
       "div.holowell {\n",
       "    display: flex;\n",
       "    align-items: center;\n",
       "    margin: 0;\n",
       "}\n",
       "\n",
       "form.holoform {\n",
       "    background-color: #fafafa;\n",
       "    border-radius: 5px;\n",
       "    overflow: hidden;\n",
       "    padding: 0.8em;\n",
       "}\n",
       "\n",
       "div.holowidgets {\n",
       "    padding-right: 0;\n",
       "}\n",
       "\n",
       "div.holoslider {\n",
       "    min-height: 0 !important;\n",
       "    height: 0.8em;\n",
       "}\n",
       "\n",
       "div.holoformgroup {\n",
       "    padding-right: 0.5em;\n",
       "    padding-top: 0.5em;\n",
       "    margin-bottom: 0.5em;\n",
       "}\n",
       "\n",
       "div.hologroup {\n",
       "    padding-left: 0;\n",
       "    padding-right: 0;\n",
       "}\n",
       "\n",
       ".holoselect {\n",
       "    width: 92%;\n",
       "    margin-left: 0;\n",
       "    margin-right: 0;\n",
       "}\n",
       "\n",
       ".holotext {\n",
       "    width: 100%;\n",
       "    padding-left:  0.5em;\n",
       "    padding-right: 0;\n",
       "}\n",
       "\n",
       "div.bk-hbox {\n",
       "    display: flex;\n",
       "    justify-content: center;\n",
       "}\n",
       "\n",
       "div.bk-hbox div.bk-plot {\n",
       "    padding: 8px;\n",
       "}\n",
       "\n",
       "div.bk-hbox div.bk-data-table {\n",
       "    padding: 20px;\n",
       "}\n",
       "</style>\n",
       "\n",
       "\n",
       "<div>\n",
       "<img src='data:image/png;base64,iVBORw0KGgoAAAANSUhEUgAAABkAAAAZCAIAAABLixI0AAAACXBIWXMAAAsTAAALEwEAmpwYAAAAB3RJTUUH3wkCDDIOi3cusgAABT1JREFUOMtVlclvG2UYh3/fMovHe53FThySNHZomrRJl6QR0AJdpVblQBEHJC4ciipxAgmO3PgPEP8BQkIsRUJUSF1oqGih0JY2CtnjOLGz2Em8xPbMeL6Pw9RJOprLjPT+5tH7Pu83JE7pqeHh8wMD2evfyXMXf/nxB2FZo6dPNzVHvvr6GxMQeOEigARswNzzUgK6x8NagPzS0nqxODQ62nLn1xMnX99/eLC3sGVROj2/IBxHABKgANlzM4ACTuMRAOecNREiAWtzc0NIEu/M37zVMTWeqlrpUDg1M7NTVgdkowwvxqGRRV1CE8jOznq7uhYAi2CpXtdVVQE4QAAdCAAGwAAJyEa9Amh7PsAihBBAABrg1XUfpe3bxTXb8XR0WJa1VSzWGyAcUAEVoIAARIMOQH2HC4AA6lKW8/n9Pm/Ahl4zV8fGTg0PtzQ3K3tA3GId8AO+BqZLt8sFQKE0GouRSkWtFM63KV0Vy1rJhN44k56cFFI6exJ3MBWANACVHS63aw5QtutVVT/4xWfHv/0ylytmHvx56sIFLxACfIABGIAf8ANRn++9y5evXrkS0XWXd5dLJWRfOHwspA1tr4iFtP3gD8/apjCtSDiyQYhZKNA94wOQTCQPhfzm9FTJH8jn84Tz3SyPlEQ4vf0Dt5/MPE5vpVObzQbxqvaDdL731MnWnh5pmsxxdE3rTCZfO3u2FbL6+2+hzpcKwXA2ldrNUgAVII7TMXhkZnzcAQTgAWI6sgV7YmKivLra1tFxMJk4Ho/r5fLy3btsYS7JHL1YoeHQKldKhcLzLNcdlRDOWDgczuVyOtDt4yN9gRYVmc161TTLmYw9P9e8OHcU5dG2fa3EmhNyKjGwROmzZ8+YqlIAKsDd9jtOenIy1t8vgDJQtuvYrjRT0kMQBRIUQxqSXkSDUIO0YAulvdfxGk/u33eVZs2EeBvu6gCjtKW7Oz81xQBhI73mtATQn/BuZ6wTrezsYX+1Jn+aNR8sl9Zb47l4/O+HD2u27QDgnHUQwhvKuFmRaLS2tkZsmwJSQpqIUzHYyynndx5t/1Vy5gXyhMhorEJIKpViQB0QnFNlZzkbdExRhBAckIAFbFXFetkpg94er004WK6jCniamrRAYHlmxhXFtWTXVfW50SQYDjvVKm+YHVMR10G5VAGrcWAohkEVpbC1RRo7QN2mS0BzuQiJHziwMTurAwrgBTo95NVjnshb3XaF9q1MTM7VeWNv6kJQgAISYAAHuARUQAHA2NCZM35KJ27c6KA4YiBXJlpVro5bkaGN2mStsCy8gAXobpyU7iFhAgxQAB40jMHh4WhnJ6nVpsfGVjOZUQMhi40k9K1FqQZI4ogffd3k33GPobTb5kCIFmriEYjgnABao60KwD68eCnz5PH0vXsr4+OsVIpRvNmpnLvQEozRpm5vxAP107dx+RMlvGTcmw7Xle6DwZlsdbZY05qbAq2ta9msCkhAcM4+yv+3uFZWAA+gA5pEaUOUnpaMohb+/BK7+j76r4IliFoyAv9EjsZ4ZbMmyOKqmdvciiWTL4+OUsY8mkY554d7okGyciuHqgQFVIABlkJ9fV44FLFrz8ecuIZ3u6offzD1fSnFmJSgle35mzcdVQ1Eo23B4Eh7lJdWNgZGohM/r5QAjZEoaDzi0TfKPlFDV/KF35mqs0NN1v3iRrqqAT7Xbdti6UXPImKZaf5SQiUBtAIG0OVXXnmnDUJWb9nET7D8VPba7pAJTKRnxPUpI+v0BXlApZPrlgDaCTke1VqaaLZC/wesjSVVF5Ac7QAAAABJRU5ErkJggg=='\n",
       "     style='width:25px;height:25px; border-radius:12px;'/>\n",
       "\n",
       "HoloViewsJS, MatplotlibJS successfully loaded in this cell.\n",
       "</div>\n"
      ],
      "text/plain": [
       "<IPython.core.display.HTML object>"
      ]
     },
     "metadata": {},
     "output_type": "display_data"
    },
    {
     "data": {
      "text/html": [
       "\n",
       "<script type=text/javascript>\n",
       "/* Add a button for showing or hiding input */\n",
       "on = \"Show input\";\n",
       "off = \"Hide input\";\n",
       "function onoff(){\n",
       "  currentvalue = document.getElementById('onoff').value;\n",
       "  if(currentvalue == off){\n",
       "    document.getElementById(\"onoff\").value=on;\n",
       "      $('div.input').hide();\n",
       "  }else{\n",
       "    document.getElementById(\"onoff\").value=off;\n",
       "      $('div.input').show();\n",
       "  }\n",
       "}\n",
       "\n",
       "/* Launch first notebook cell on start */\n",
       "function launch_first_cell (evt) {\n",
       "  if (!launch_first_cell.executed\n",
       "      && Jupyter.notebook.kernel\n",
       "  ) {\n",
       "    Jupyter.notebook.get_cells()[0].execute();\n",
       "    launch_first_cell.executed = true;\n",
       "  }\n",
       "}\n",
       "\n",
       "$([Jupyter.events]).on('status_started.Kernel notebook_loaded.Notebook', launch_first_cell);\n",
       "</script>\n",
       "\n",
       "<p>Press this button to show/hide the code used in the notebook:\n",
       "<input type=\"button\" class=\"ui-button ui-widget ui-state-default ui-corner-all ui-button-text-only\" value=\"Hide input\" id=\"onoff\" onclick=\"onoff();\"></p>\n",
       "<script type=text/javascript>\n",
       "$(document).ready(function (){if(!(\"IPython\" in window)){onoff();}})\n",
       "</script>"
      ]
     },
     "metadata": {},
     "output_type": "display_data"
    }
   ],
   "source": [
    "import sys\n",
    "import os\n",
    "sys.path.append('../code')\n",
    "from init_mooc_nb import *\n",
    "init_notebook()\n",
    "from matplotlib.collections import LineCollection\n",
    "from matplotlib.colors import ListedColormap, BoundaryNorm\n",
    "import scipy.linalg as la\n",
    "\n",
    "# Set the path to a folder containing data files, to work with filters as well.\n",
    "data_folder = 'data/' if os.path.exists('data') and os.path.isdir('data') else '../data/'\n",
    "\n",
    "def make_kitaev_chain(L=10):\n",
    "    lat = kwant.lattice.chain()\n",
    "    sys = kwant.Builder()\n",
    "    \n",
    "    def onsite(site, p):\n",
    "        if not p.disorder:\n",
    "            return (p.m + 2 * p.t) * pauli.sz\n",
    "        else:\n",
    "            rand = p.disorder * kwant.digest.gauss(str(site.tag), p.salt)\n",
    "            return (p.m + rand + 2 * p.t) * pauli.sz\n",
    "\n",
    "    def hop(site1, site2, p):\n",
    "        return -p.t * pauli.sz - 1j * p.delta * pauli.sy\n",
    "    \n",
    "    sys[(lat(i) for i in range(L))] = onsite\n",
    "    sys[kwant.HoppingKind((1,), lat)] = hop\n",
    "    \n",
    "    sym = kwant.TranslationalSymmetry((1,))\n",
    "    lead = kwant.Builder(sym)\n",
    "\n",
    "    # The leads are precalculated.\n",
    "    lead[lat(0)] = onsite\n",
    "    lead[kwant.HoppingKind((1,), lat)] = hop\n",
    "    \n",
    "    sys.attach_lead(lead)\n",
    "    sys.attach_lead(lead.reversed())\n",
    "    sys = sys.finalized()\n",
    "    sys = sys.precalculate(args=[SimpleNamespace(t=1.0, m=0.0, delta=1.0, disorder=0)])\n",
    "    \n",
    "    return sys\n",
    "\n",
    "\n",
    "def phase_diagram(L, ms, p, num_average=100):\n",
    "    sys = make_kitaev_chain(L)\n",
    "\n",
    "    # Adjust the reflection phase such that it's 0 for trivial system.\n",
    "    trivial = SimpleNamespace(m=10., t=1.0, delta=1.0, disorder=0, salt='')\n",
    "    phase = kwant.smatrix(sys, args=[trivial]).data[0, 0]\n",
    "    phase /= abs(phase)\n",
    "    data = []\n",
    "    for p.m in ms:\n",
    "        qt = []\n",
    "        for p.salt in map(str, range(num_average)):\n",
    "            s = kwant.smatrix(sys, args=[p]).data\n",
    "            qt.append(((s[0, 0] / phase).real, abs(s[0, 1])**2))\n",
    "        qt = np.mean(qt, axis=0)\n",
    "        data.append(qt)\n",
    "\n",
    "    return np.array(data).T"
   ]
  },
  {
   "cell_type": "markdown",
   "metadata": {},
   "source": [
    "**No content above this line is visible in edX**"
   ]
  },
  {
   "cell_type": "markdown",
   "metadata": {},
   "source": [
    "# Introduction"
   ]
  },
  {
   "cell_type": "markdown",
   "metadata": {},
   "source": [
    "The scaling flow of topological insulators is introduced by Alexander Altland from the University of Cologne"
   ]
  },
  {
   "cell_type": "code",
   "execution_count": 2,
   "metadata": {
    "collapsed": false
   },
   "outputs": [
    {
     "data": {
      "image/jpeg": "[encoded data removed]",
      "text/html": [
       "\n",
       "        <iframe\n",
       "            width=\"400\"\n",
       "            height=\"300\"\n",
       "            src=\"https://www.youtube.com/embed/8gkERY6hXTU?rel=0&cc_load_policy=1\"\n",
       "            frameborder=\"0\"\n",
       "            allowfullscreen\n",
       "        ></iframe>\n",
       "        "
      ],
      "text/plain": [
       "MoocVideo(**{'show_captions': 'true', 'download_track': 'true', 'display_name': '', 'download_video': 'true', 'source': 'http://delftxdownloads.tudelft.nl/TOPOCMx-QuantumKnots/TOPOCMx-9.2-intro-video.720.mp4', 'youtube': '1.00:8gkERY6hXTU', 'youtube_id_1_0': '8gkERY6hXTU'})"
      ]
     },
     "execution_count": 2,
     "metadata": {},
     "output_type": "execute_result"
    }
   ],
   "source": [
    "MoocVideo(\"8gkERY6hXTU\", src_location=\"9.2-intro\")"
   ]
  },
  {
   "cell_type": "markdown",
   "metadata": {},
   "source": [
    "# A toy model for two-parameter scaling: the disordered Kitaev chain"
   ]
  },
  {
   "cell_type": "markdown",
   "metadata": {},
   "source": [
    "Before we learn what happens to topological insulators in the presence of disorder, let's decide on a specific example for concreteness.\n",
    "\n",
    "Topology makes the behavior of disordered systems richer, however a careful simulation of properties of disordered topological insulators may take weeks, since we need not only to take large system sizes (we need to consider the lengths much larger than mean free path), but also we need to average over disorder.\n",
    "\n",
    "Luckily, unlike in the non-topological case, a one-dimensional system can already show interesting properties in the presence of disorder, so we can just reuse the familiar Kitaev chain and add disorder to it."
   ]
  },
  {
   "cell_type": "markdown",
   "metadata": {},
   "source": [
    "It is nothing but the same 1D tight-binding model that we saw in week one,\n",
    " \n",
    "$$\n",
    "H = \\sum_n (\\mu_n + 2t + m) \\tau_z\\left|n\\right\\rangle\\left\\langle n\\right|-\\sum_n \\left[(t\\tau_z+i\\Delta\\tau_y)\\,\\left|n\\right\\rangle\\left\\langle n\\!+\\!\\!1 \\right| + \\textrm{h.c.}\\right].\n",
    "$$\n",
    "\n",
    "For convenience, we introduced a mass $m$ that corresponds to the gap in the Dirac equation. The phase transition happens at $m=0$, and $m<0$ corresponds to the topological phase with Majorana modes at the end.\n",
    "\n",
    "The only difference from what we used before is that now the chemical potential $\\mu_n$ varies randomly from site to site. For example, we can sample the values $\\mu_n$ from a Gaussian distribution with mean value $\\mu_0 $ and standard deviation $U$."
   ]
  },
  {
   "cell_type": "markdown",
   "metadata": {},
   "source": [
    "# The simpler effect of disorder"
   ]
  },
  {
   "cell_type": "markdown",
   "metadata": {},
   "source": [
    "In addition to transmission through a finite chain we can now compute its topological invariant $\\mathcal{Q}$.\n",
    "\n",
    "Just as a reminder: $\\mathcal{Q} = \\det r$, with $r$ is the reflection matrix from one end of a finite Kitaev chain.\n",
    "\n",
    "We know that $\\mathcal{Q}=-1$ in the topological phase and $\\mathcal{Q}=+1$ in the trivial phase. Now, in the presence of disorder, the value of $\\mathcal{Q}$ in a finite size system can in principle depend on the particular disorder realization. So just like calculating average conductance, we can average the topological invariant over disorder to describe how topological properties depend on it."
   ]
  },
  {
   "cell_type": "markdown",
   "metadata": {},
   "source": [
    "Whenever $\\langle Q\\rangle = \\pm 1$, we know that the system is in one of the two insulating phases and there is no reflection whatsoever."
   ]
  },
  {
   "cell_type": "markdown",
   "metadata": {},
   "source": [
    "Let's try the most obvious thing and see what happens to  $\\langle Q\\rangle$, as we increase disorder strength.\n",
    "\n",
    "So below we see $\\mathcal{Q}$ averaged over 100 different realizations in a disordered Kitaev chain with 30 sites as we gradually increase $U$:"
   ]
  },
  {
   "cell_type": "code",
   "execution_count": 3,
   "metadata": {
    "collapsed": false
   },
   "outputs": [
    {
     "data": {
      "image/png": "[encoded data removed]",
      "text/plain": [
       "<matplotlib.figure.Figure at 0x7fede85436d8>"
      ]
     },
     "metadata": {},
     "output_type": "display_data"
    }
   ],
   "source": [
    "if os.path.exists(data_folder + 'first_plot_data_ms.dat') and os.path.exists(data_folder + 'first_plot_data_qs.dat'):\n",
    "    ms = np.loadtxt(data_folder + 'first_plot_data_ms.dat')\n",
    "    qs = np.loadtxt(data_folder + 'first_plot_data_qs.dat')\n",
    "else:\n",
    "    # This cell generates data\n",
    "    p = SimpleNamespace(t=1.0, delta=1.0)\n",
    "    ms = np.linspace(-.5, .5, 50)\n",
    "    qs = [phase_diagram(30, ms, p)[0] for p.disorder in np.linspace(0, .8, 10)]\n",
    "    np.savetxt(data_folder + 'first_plot_data_ms.dat', ms)\n",
    "    np.savetxt(data_folder + 'first_plot_data_qs.dat', qs) \n",
    "\n",
    "fig, ax = plt.subplots(figsize=(6, 4))\n",
    "ax.set_prop_cycle('alpha', np.linspace(0, 1, len(qs)))\n",
    "\n",
    "for q in qs:\n",
    "    ax.plot(ms, q)\n",
    "    \n",
    "ax.set_xlabel('$m$')\n",
    "ax.set_ylabel(r'$\\langle Q \\rangle$')\n",
    "\n",
    "evals = [-0.4, 0, 0.4]\n",
    "ax.set_xticks(evals)\n",
    "ax.set_xticklabels([\"${0}$\".format(i) for i in evals]);\n",
    "\n",
    "evals = [-1, 0, 1]\n",
    "ax.set_yticks(evals)\n",
    "ax.set_yticklabels([\"${0}$\".format(i) for i in evals]);\n",
    "\n",
    "ax.set_xlim(-.4, .4)\n",
    "ax.set_ylim(-1.1, 1.1)\n",
    "\n",
    "ax.hlines(0, ax.get_xlim()[0], ax.get_xlim()[1], linestyles='dashed');"
   ]
  },
  {
   "cell_type": "markdown",
   "metadata": {},
   "source": [
    "(Darker color corresponds to larger $U$.)\n",
    "\n",
    "What you see is that far away from the transition, when the gap in the clean limit is very large, disorder does not matter. Around the transition, the average value of $\\mathcal{Q}$ changes from $-1$ and $+1$.\n",
    "\n",
    "Increasing disorder changes two things: \n",
    "* It makes the width of the region where the transition happens larger. This we can understand relatively well, in a finite system adding fluctuations just means we can be (un)lucky and get an opposite value of the topological invariant.\n",
    "* It shifts the separation point between trivial and topological phases towards positive $m$. This looks much more curious: if we start with a trivial and insulating system and add disorder, it appears we can make this system topological!"
   ]
  },
  {
   "cell_type": "markdown",
   "metadata": {},
   "source": [
    "The second effect, despite looking mysterious, appears just because the disorder changes the effective values of the Hamiltonian parameters. For small $U$, this can be understood in terms of the [Born approximation](https://en.wikipedia.org/wiki/Born_approximation), which allows to compute *effective* disorder-averaged band structure parameters, given the properties of disorder. The lowest order correction to $m$ for the disorder Kitaev chain is simply $m_\\textrm{eff} - m \\sim -U^2$, and weak disorder indeed drives the system to a topologically nontrivial state by lowering the effective value of the mass."
   ]
  },
  {
   "cell_type": "markdown",
   "metadata": {},
   "source": [
    "Since this phenomenon appears with disorder, it was initially dubbed \"topological Anderson insulator\". This name is certainly not accurate: the band structure parameters approach the effective ones on the length scale of mean free path, and before the Anderson scaling flow begins."
   ]
  },
  {
   "cell_type": "code",
   "execution_count": 4,
   "metadata": {
    "collapsed": false
   },
   "outputs": [
    {
     "data": {
      "text/html": [
       "<h4>What would happen if instead of $\\det r$ we use $sign \\det r$ for invariant?</h4><form><input type=\"radio\" name=\"answer\" value=\"We would get a step function instead of a smooth curve.\">We would get a step function instead of a smooth curve.<br><input type=\"radio\" name=\"answer\" value=\"Not well-defined because $\\det r$ becomes complex.\">Not well-defined because $\\det r$ becomes complex.<br><input type=\"radio\" name=\"answer\" value=\"The $Q=\\pm 1$ plateaus cancel and give $Q=0$.\">The $Q=\\pm 1$ plateaus cancel and give $Q=0$.<br><input type=\"radio\" name=\"answer\" value=\"The curve is qualitatively the same.\">The curve is qualitatively the same.<br></form>\n",
       "        <button title=\"Click to show/hide content\" type=\"button\"\n",
       "        onclick=\"if(document.getElementById('39a868cb4cd70b312d6638e7726a98ba')\n",
       "         .style.display=='none') {document.getElementById('39a868cb4cd70b312d6638e7726a98ba')\n",
       "         .style.display=''}else{document.getElementById('39a868cb4cd70b312d6638e7726a98ba')\n",
       "         .style.display='none'}\">Show answer</button>\n",
       "\n",
       "        <div id=\"39a868cb4cd70b312d6638e7726a98ba\" style=\"display:none\">The correct answer is: <br>The curve is qualitatively the same.<br><i>Each disorder realization get $\\textrm{det} r\\sim \\pm 1$ except near the transition. So adding sign doesn't affect the invariant for most disorder realizations. The intermediate values result from averaging over different realizations.</i></div>"
      ],
      "text/plain": [
       "MoocMultipleChoiceAssessment(**{'question': 'What would happen if instead of $\\\\det r$ we use $sign \\\\det r$ for invariant?', 'display_name': 'Question', 'correct_answer': 3, 'explanation': \"Each disorder realization get $\\\\textrm{det} r\\\\sim \\\\pm 1$ except near the transition. So adding sign doesn't affect the invariant for most disorder realizations. The intermediate values result from averaging over different realizations.\", 'answers': ['We would get a step function instead of a smooth curve.', 'Not well-defined because $\\\\det r$ becomes complex.', 'The $Q=\\\\pm 1$ plateaus cancel and give $Q=0$.', 'The curve is qualitatively the same.'], 'max_attempts': 2})"
      ]
     },
     "execution_count": 4,
     "metadata": {},
     "output_type": "execute_result"
    }
   ],
   "source": [
    "question = (r\"What would happen if instead of $\\det r$ we use $sign \\det r$ for invariant?\")\n",
    "answers = [\"We would get a step function instead of a smooth curve.\",\n",
    "           r\"Not well-defined because $\\det r$ becomes complex.\",\n",
    "           \"The $Q=\\pm 1$ plateaus cancel and give $Q=0$.\",\n",
    "           \"The curve is qualitatively the same.\"]\n",
    "\n",
    "explanation = (r\"Each disorder realization get $\\textrm{det} r\\sim \\pm 1$ except near the transition. So adding sign doesn't affect \"\n",
    "               \"the invariant for most disorder realizations. The intermediate values result from averaging over different \"\n",
    "               \"realizations.\")\n",
    "\n",
    "MoocMultipleChoiceAssessment(question=question, answers=answers, correct_answer=3, explanation=explanation)"
   ]
  },
  {
   "cell_type": "markdown",
   "metadata": {},
   "source": [
    "# Two parameter scaling in one dimension"
   ]
  },
  {
   "cell_type": "markdown",
   "metadata": {},
   "source": [
    "Speaking of the scaling flow: the scaling hypothesis appears to be very powerful, does the topology have any impact on it?\n",
    "\n",
    "We can understand some limits. First of all, if $g\\gg 1$, the system is a metal, and there can hardly be any trace of topology left. However when $g \\lesssim 1$, the system can become one out of several topologically distinct types of insulators, and we can expect some sort of transition between different insulating phases.\n",
    "\n",
    "The rational assumption at this point is to assume that the scaling hypothesis still holds, but in addition to $g$ it depends on the average topological invariant of the disordered ensemble $\\langle \\mathcal{Q} \\rangle$.\n",
    "\n",
    "Just like in the case of the non-topological phases, there is no universal proof that this form of scaling flow is correct. Instead, there is a vast amount of mixed numerical and analytical evidence that this is correct."
   ]
  },
  {
   "cell_type": "markdown",
   "metadata": {},
   "source": [
    "Let's try and verify our hypothesis by constructing the scaling flow of the disordered Kitaev chain. We can do it in the following way:\n",
    "\n",
    "* Choose a given disorder strength $U$, a given length $L$, and a set of values $\\{\\mu\\}$ for the chemical potential. For each of these values, we compute $\\langle \\mathcal{Q} \\rangle$ and the average transmission $\\langle T \\rangle$ over a large number of disorder realizations (as large as possible, in our case 1000). This gives us a set of starting points on the $(\\langle \\mathcal{Q} \\rangle, \\langle T \\rangle)$ plane.\n",
    "\n",
    "* Increase the chain length $L$, and compute $\\langle \\mathcal{Q} \\rangle, \\langle T \\rangle$ again for all the values $\\{\\mu\\}$. We obtain a second set of points on the plane.\n",
    "\n",
    "* Join the points corresponding to the same value of $\\mu$.\n",
    "\n",
    "* Increase again the length $L$, and so on...\n",
    "\n",
    "Here's what we get:"
   ]
  },
  {
   "cell_type": "code",
   "execution_count": 5,
   "metadata": {
    "collapsed": false
   },
   "outputs": [
    {
     "data": {
      "image/png": "[encoded data removed]",
      "text/plain": [
       "<matplotlib.figure.Figure at 0x7fedaff231d0>"
      ]
     },
     "metadata": {},
     "output_type": "display_data"
    }
   ],
   "source": [
    "if os.path.exists(data_folder + 'scaling_data_qs.dat') and os.path.exists(data_folder + 'scaling_data_ts.dat'):\n",
    "    qs = np.loadtxt(data_folder + 'scaling_data_qs.dat')\n",
    "    ts = np.loadtxt(data_folder + 'scaling_data_ts.dat')\n",
    "else:\n",
    "    p = SimpleNamespace(t=1.0, delta=1.0, disorder=0.8)\n",
    "    Ls = np.array(np.logspace(np.log10(10), np.log10(180), 6), dtype=int)\n",
    "    ms = [np.sign(x) * x**2 + 0.2 for x in np.linspace(-1, 1, 40)]\n",
    "    qs, ts = zip(*[phase_diagram(int(L), ms, p, num_average=1000) for L in Ls])\n",
    "    np.savetxt(data_folder + 'scaling_data_qs.dat', qs)\n",
    "    np.savetxt(data_folder + 'scaling_data_ts.dat', ts)\n",
    "\n",
    "fig, ax = plt.subplots(figsize=(6, 4))\n",
    "\n",
    "npoints = qs.shape[0]\n",
    "X, Y = qs.T, ts.T\n",
    "\n",
    "for x,y in zip(X,Y):\n",
    "    points = np.array([x, y]).T.reshape(-1, 1, 2)\n",
    "    \n",
    "    segments = np.concatenate([points[:-1], points[1:]], axis=1)\n",
    "    lc = LineCollection(segments, cmap='gist_heat_r', \n",
    "                        norm=matplotlib.colors.Normalize(0, npoints+1))\n",
    "    lc.set_array(np.array(list(range(1,npoints+1))))\n",
    "    ax.add_collection(lc)\n",
    "\n",
    "    \n",
    "ax.set_xlim(-1, 1)\n",
    "ax.set_ylim(0, 0.5)\n",
    "\n",
    "ax.set_xlabel(r'$\\langle Q \\rangle$')\n",
    "ax.set_ylabel(r'$\\langle T \\rangle$')\n",
    "\n",
    "evals = [-1, -0.5, 0, 0.5, 1]\n",
    "ax.set_xticks(evals)\n",
    "ax.set_xticklabels([\"${0}$\".format(i) for i in evals]);\n",
    "\n",
    "evals = [0.0, 0.25, 0.50]\n",
    "ax.set_yticks(evals)\n",
    "ax.set_yticklabels([\"${0}$\".format(i) for i in evals]);"
   ]
  },
  {
   "cell_type": "markdown",
   "metadata": {},
   "source": [
    "The lines have a direction, which tells us how $\\langle Q \\rangle$ and $\\langle T \\rangle$ change as we increase $L$. In the plot above, $L$ is increasing in going from bright to dark colors.\n",
    "\n",
    "The first and the most important observation we can make is that the lines do not intersect, which confirms the scaling hypothesis.\n",
    "\n",
    "Most of the lines tend to one of the two points $(\\langle \\mathcal{Q} \\rangle, \\langle T \\rangle) = (-1, 0)$ or $(1, 0)$. These correspond to two insulating systems with different topological invariants. We can say that quantized values of $\\langle \\mathcal{Q} \\rangle$ are insulating, and they correspond to *attractive fixed points* of the flow.\n",
    "\n",
    "You can also see that the flow is roughly separated around a vertical *critical line* at $\\langle \\mathcal{Q} \\rangle=0$. All lines which start from a negative value of $\\langle \\mathcal{Q} \\rangle$ end up at $(-1, 0)$, and all the lines which start from a positive value end up at $(1,0)$.\n",
    "\n",
    "Finally, the point $(0, 0)$ is a saddle point: the flow goes towards it along the vertical axis, and away from it along the horizontal axis."
   ]
  },
  {
   "cell_type": "markdown",
   "metadata": {},
   "source": [
    "We now understand better why two parameter scaling is necessary in the presence of a topological invariant. Even in the presence of disorder, there can be topologically distinct insulating phases. Therefore, saying that every system flows to an insulator is not enough anymore. Including the average topological invariant as a second scaling parameter allows to predict towards *which* insulating phase the system will flow.\n",
    "\n",
    "The flow, we just calculated is in fact valid for all one-dimensional topological insulators and superconductors. In the case of a $\\mathbb{Z}$ invariant, the saddle points are located at $(\\langle \\mathcal{Q} \\rangle, \\langle T\\rangle) = (n+1/2, 0)$.\n",
    "\n",
    "It is important to notice that one important result of the standard scaling theory regarding one dimensional system remains true: in the plot above all lines flow to no transmission, or in other words there are no metallic phases in the flow diagram."
   ]
  },
  {
   "cell_type": "code",
   "execution_count": 6,
   "metadata": {
    "collapsed": false
   },
   "outputs": [
    {
     "data": {
      "text/html": [
       "<h4>What does the 2 parameter flow diagram predict about the infinite size limit?</h4><form><input type=\"radio\" name=\"answer\" value=\"Always topological for all parameters.\">Always topological for all parameters.<br><input type=\"radio\" name=\"answer\" value=\"There's a localized topological and non-topological phase separated by a transition point.\">There's a localized topological and non-topological phase separated by a transition point.<br><input type=\"radio\" name=\"answer\" value=\"Always localized for every parameter.\">Always localized for every parameter.<br><input type=\"radio\" name=\"answer\" value=\"Almost always conducting except at a transition point.\">Almost always conducting except at a transition point.<br></form>\n",
       "        <button title=\"Click to show/hide content\" type=\"button\"\n",
       "        onclick=\"if(document.getElementById('b5569eef070ac02631450b0272ab2f8b')\n",
       "         .style.display=='none') {document.getElementById('b5569eef070ac02631450b0272ab2f8b')\n",
       "         .style.display=''}else{document.getElementById('b5569eef070ac02631450b0272ab2f8b')\n",
       "         .style.display='none'}\">Show answer</button>\n",
       "\n",
       "        <div id=\"b5569eef070ac02631450b0272ab2f8b\" style=\"display:none\">The correct answer is: <br>There's a localized topological and non-topological phase separated by a transition point.<br><i>The phase is determined by the long length (i.e. dark part of the figure) which is almost always in small Ti.e. supporting localized states. Here the states either flow to $Q=+1$ or $Q=-1$ (non-top or top respectively) except near $Q=0$ has a slower decay.</i></div>"
      ],
      "text/plain": [
       "MoocMultipleChoiceAssessment(**{'question': 'What does the 2 parameter flow diagram predict about the infinite size limit?', 'display_name': 'Question', 'correct_answer': 1, 'explanation': 'The phase is determined by the long length (i.e. dark part of the figure) which is almost always in small Ti.e. supporting localized states. Here the states either flow to $Q=+1$ or $Q=-1$ (non-top or top respectively) except near $Q=0$ has a slower decay.', 'answers': ['Always topological for all parameters.', \"There's a localized topological and non-topological phase separated by a transition point.\", 'Always localized for every parameter.', 'Almost always conducting except at a transition point.'], 'max_attempts': 2})"
      ]
     },
     "execution_count": 6,
     "metadata": {},
     "output_type": "execute_result"
    }
   ],
   "source": [
    "question = (\"What does the 2 parameter flow diagram predict about the infinite size limit?\")\n",
    "answers = [\"Always topological for all parameters.\",\n",
    "           \"There's a localized topological and non-topological phase separated by a transition point.\",\n",
    "           \"Always localized for every parameter.\",\n",
    "           \"Almost always conducting except at a transition point.\"]\n",
    "explanation = (\"The phase is determined by the long length (i.e. dark part of the figure) which is almost always in small T\"\n",
    "               \"i.e. supporting localized states. Here the states either flow to $Q=+1$ or $Q=-1$ (non-top or top respectively) \"\n",
    "               \"except near $Q=0$ has a slower decay.\")\n",
    "MoocMultipleChoiceAssessment(question, answers, correct_answer=1, explanation=explanation)"
   ]
  },
  {
   "cell_type": "markdown",
   "metadata": {},
   "source": [
    "# Critical point"
   ]
  },
  {
   "cell_type": "markdown",
   "metadata": {},
   "source": [
    "The scaling flow of 1D topological insulators can be solved exactly, and especially for our system we can very easily derive some of its properties.\n",
    "\n",
    "The behavior of the disordered Kitaev chain close to the phase transition can be understood within an effective Dirac Hamiltonian in the continuum limit. The Hamiltonian is similar to the one, we studied in week one when we were concerned with a domain wall\n",
    "\n",
    "$$\n",
    "H_\\textrm{Dirac} = v\\,p\\,\\tau_z + m(x)\\,\\tau_y\\,,\n",
    "$$\n",
    "\n",
    "with $p$ the momentum along the chain, $v$ the velocity of the modes, and $m(x)$ the position dependent gap which couples left-movers and right-movers.\n",
    "\n",
    "To model the disordered chain, we take $m(x)$ to be a random function of $x$, just like $\\mu_n$ was random in the lattice version. The chain is disordered in a segment of finite size $L$, while for $x<0$ and $x>L$ we set $m=0$ so that in this region we have propagating modes and thus a well-defined scattering problem.\n",
    "\n",
    "We want to compute the transmission probability through the chain at zero energy. As we saw in week one, an eigenstate at zero energy satisfies the relation\n",
    "\n",
    "$$\n",
    "\\Psi(L) =\\,\\exp\\,(-\\tau_x\\,\\alpha)\\,\\,\\Psi(0)\\,,\n",
    "$$\n",
    "\n",
    "with a parameter\n",
    "\n",
    "$$\\alpha = \\frac{1}{v}\\,\\int_0^L\\, m(x)\\, dx\\,$$\n",
    "\n",
    "proportional to the average value of the random mass in the chain.\n",
    "\n",
    "An incoming wave from the left (negative $x$) entering the scattering region is partially transmitted through it and partially reflected. We can find the reflection and transmission amplitudes $r, t$ by substituting $\\Psi(0)=(1,r)^T$ and $\\Psi(L) = (t,0)^T$ in the equation above. By solving the simple linear system that comes out of the substitution, we get immediately \n",
    "\n",
    "$$\n",
    "r = \\tanh (\\alpha)\\,,\\;\\;t = \\cosh^{-1} (\\alpha).\n",
    "$$\n",
    "\n",
    "The scattering topological invariant $Q$ for the Kitaev chain is the sign of the determinant of $r$. In our case, since $r$ is just a number, we immediately get\n",
    "\n",
    "$$Q=r = \\tanh\\alpha\\,.$$\n",
    "\n",
    "We see that the topological transition happens when $\\alpha=0$. That is, to model the transition, we think of $m(x)$ as a random function of $x$ which can take positive and negative values with equal probabilities. \n",
    "\n",
    "The details of the probability distribution for $m(x)$ are not very important as long as the distribution is characterized by a finite correlation length $\\xi \\ll L$ - that is, values of $m$ at points more distant than $\\xi$ are statistically uncorrelated. \n",
    "\n",
    "If this is the case, $\\alpha$ is the sum of an order $\\sim L/\\xi$ of uncorrelated values of $m$. By using the [central limit theorem](http://en.wikipedia.org/wiki/Central_limit_theorem), we can say that $\\alpha$ is a normally distributed variable with zero mean and a variance growing linearly in $L$. Since $\\alpha$ is a random variable, so is the transmission probability $T=|t^2|=\\cosh^{-2}(\\alpha)$. From the probability distribution of $\\alpha$, we can obtain the scaling behavior of $T$ as\n",
    "\n",
    "$$\n",
    "\\left\\langle T \\right \\rangle \\propto 1/\\sqrt{L}\\,.\n",
    "$$"
   ]
  },
  {
   "cell_type": "markdown",
   "metadata": {},
   "source": [
    "# Two parameter scaling in higher dimensions"
   ]
  },
  {
   "cell_type": "markdown",
   "metadata": {},
   "source": [
    "Just like the regular scaling flow, the topological one is also richer in $d>1$.\n",
    "\n",
    "The oldest known example of the two parameter flow is unsurprisingly the quantum Hall effect. The flow looks similar to what we just calculated in 1D, here:"
   ]
  },
  {
   "cell_type": "markdown",
   "metadata": {},
   "source": [
    "![](figures/Three_Dimensional_RG_Flowdiagram_of_the_QHE.png)\n",
    "\n",
    "By Wout Neutkens (Own work) [CC BY-SA 3.0](http://creativecommons.org/licenses/by-sa/3.0), via Wikimedia Commons"
   ]
  },
  {
   "cell_type": "markdown",
   "metadata": {},
   "source": [
    "The axes are the same as before - the horizontal one is the topological invariant given by $\\sigma_H$, and the vertical axis the longitudinal conductance. The saddle point separating the different topological phases is now elevated to a finite critical conductance, which is known to be around $0.5-0.6$ conductance quanta."
   ]
  },
  {
   "cell_type": "markdown",
   "metadata": {},
   "source": [
    "Metallic phases are the final part that we need to consider. The appearance of those at high conductance is governed by the same rules as without the topological invariant. The reason for this is that the topological effects are all $\\mathcal{O}(1)$ corrections to conductance, and are therefore only important at $g\\sim 1$.\n",
    "\n",
    "An extra attractive metallic fixed point can make the flow diagram more complicated. For example, the metallic phase can completely separate the two insulating phases and eliminate the fixed point. What happens in each particular case is not always certain, and is still an open research topic."
   ]
  },
  {
   "cell_type": "markdown",
   "metadata": {},
   "source": [
    "# Conclusions"
   ]
  },
  {
   "cell_type": "code",
   "execution_count": 7,
   "metadata": {
    "collapsed": false
   },
   "outputs": [
    {
     "data": {
      "image/jpeg": "[encoded data removed]",
      "text/html": [
       "\n",
       "        <iframe\n",
       "            width=\"400\"\n",
       "            height=\"300\"\n",
       "            src=\"https://www.youtube.com/embed/NY6wPiH0E9E?rel=0&cc_load_policy=1\"\n",
       "            frameborder=\"0\"\n",
       "            allowfullscreen\n",
       "        ></iframe>\n",
       "        "
      ],
      "text/plain": [
       "MoocVideo(**{'show_captions': 'true', 'download_track': 'true', 'display_name': '', 'download_video': 'true', 'source': 'http://delftxdownloads.tudelft.nl/TOPOCMx-QuantumKnots/TOPOCMx-9.2-summary-video.720.mp4', 'youtube': '1.00:NY6wPiH0E9E', 'youtube_id_1_0': 'NY6wPiH0E9E'})"
      ]
     },
     "execution_count": 7,
     "metadata": {},
     "output_type": "execute_result"
    }
   ],
   "source": [
    "MoocVideo(\"NY6wPiH0E9E\", src_location=\"9.2-summary\")"
   ]
  },
  {
   "cell_type": "markdown",
   "metadata": {},
   "source": [
    "Questions about what you just learned? Ask them below!"
   ]
  },
  {
   "cell_type": "code",
   "execution_count": 8,
   "metadata": {
    "collapsed": false
   },
   "outputs": [
    {
     "data": {
      "text/html": [
       "<p><b>Discussion</b> entitled 'Topological scaling' is available in the online version of the course.</p>"
      ],
      "text/plain": [
       "MoocDiscussion(**{'display_name': 'Topological scaling', 'discussion_target': 'Topological scaling', 'discussion_id': 'c97b8561f162343642c9a74f3214bf1e', 'discussion_category': 'Questions'})"
      ]
     },
     "execution_count": 8,
     "metadata": {},
     "output_type": "execute_result"
    }
   ],
   "source": [
    "MoocDiscussion(\"Questions\", \"Topological scaling\")"
   ]
  }
 ],
 "metadata": {
  "kernelspec": {
   "display_name": "Python 3",
   "language": "python",
   "name": "python3"
  },
  "language_info": {
   "codemirror_mode": {
    "name": "ipython",
    "version": 3
   },
   "file_extension": ".py",
   "mimetype": "text/x-python",
   "name": "python",
   "nbconvert_exporter": "python",
   "pygments_lexer": "ipython3"
  }
 },
 "nbformat": 4,
 "nbformat_minor": 0
}
